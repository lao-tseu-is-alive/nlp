{
 "cells": [
  {
   "cell_type": "code",
   "execution_count": 9,
   "id": "established-bonus",
   "metadata": {},
   "outputs": [
    {
     "name": "stdout",
     "output_type": "stream",
     "text": [
      "Python version    \t: 3.8.5 (default, Jul 28 2020, 12:59:40) \n",
      "[GCC 9.3.0]\n",
      "Current working dir\t: /home/cgil/PycharmProjects\n"
     ]
    }
   ],
   "source": [
    "import os\n",
    "import sys\n",
    "print(f'Python version    \\t: {sys.version:.>{15}}')\n",
    "current_dir_path = os.path.dirname(os.path.realpath(os.getcwd()))\n",
    "print(f'Current working dir\\t: {current_dir_path:.>{15}}')\n"
   ]
  },
  {
   "cell_type": "markdown",
   "id": "unauthorized-record",
   "metadata": {},
   "source": [
    "### reading an utf-8 text file in a list"
   ]
  },
  {
   "cell_type": "code",
   "execution_count": 11,
   "id": "designing-winning",
   "metadata": {},
   "outputs": [
    {
     "name": "stdout",
     "output_type": "stream",
     "text": [
      "Number of lines of all book : 14399\n"
     ]
    }
   ],
   "source": [
    "book_fr_path = './data/pg17489.txt'\n",
    "with open(book_fr_path,mode='r',encoding='utf-8') as f:\n",
    "    all_book = f.readlines()\n",
    "\n",
    "print(f'Number of lines of all the book : {len(all_book)}')"
   ]
  },
  {
   "cell_type": "markdown",
   "id": "spiritual-harrison",
   "metadata": {},
   "source": [
    "### finding relevant text to extract indices "
   ]
  },
  {
   "cell_type": "code",
   "execution_count": 18,
   "id": "refined-functionality",
   "metadata": {},
   "outputs": [
    {
     "name": "stdout",
     "output_type": "stream",
     "text": [
      "found this lines at index [19, 14041]\n"
     ]
    },
    {
     "data": {
      "text/plain": [
       "['[   19] *** START OF THIS PROJECT GUTENBERG EBOOK LES MISÉRABLES TOME I ***\\n',\n",
       " '[14041] *** END OF THIS PROJECT GUTENBERG EBOOK LES MISÉRABLES TOME I ***\\n']"
      ]
     },
     "execution_count": 18,
     "metadata": {},
     "output_type": "execute_result"
    }
   ],
   "source": [
    "import re\n",
    "indices = [i for i, elem in enumerate(all_book) if re.match(r'\\*\\*\\* (START|END) OF THIS PROJECT GUTENBERG EBOOK', elem)]\n",
    "\n",
    "print(f'found this lines at index {indices}')\n",
    "['[{:5}] {}'.format(i,all_book[i]) for i in indices]\n"
   ]
  },
  {
   "cell_type": "markdown",
   "id": "hourly-emphasis",
   "metadata": {},
   "source": [
    "### let's get the real book content and get rid of the end of line char"
   ]
  },
  {
   "cell_type": "code",
   "execution_count": 24,
   "id": "moved-temple",
   "metadata": {},
   "outputs": [
    {
     "data": {
      "text/plain": [
       "['',\n",
       " '',\n",
       " '',\n",
       " '',\n",
       " 'Produced by www.ebooksgratuits.com and Chuck Greif',\n",
       " '',\n",
       " '',\n",
       " '',\n",
       " '',\n",
       " 'Victor Hugo']"
      ]
     },
     "execution_count": 24,
     "metadata": {},
     "output_type": "execute_result"
    }
   ],
   "source": [
    "real_book = [i.rstrip() for i in all_book[indices[0]+1:indices[1]-1]]\n",
    "# let's show 10 first lines\n",
    "real_book[:10]  "
   ]
  },
  {
   "cell_type": "code",
   "execution_count": 25,
   "id": "numerical-locking",
   "metadata": {},
   "outputs": [
    {
     "data": {
      "text/plain": [
       "[\"tous et à personne, et où l'on perd les pauvres. Heureusement Dieu sait\",\n",
       " \"où retrouver l'âme. On coucha Fantine dans les ténèbres parmi les\",\n",
       " 'premiers os venus; elle subit la promiscuité des cendres. Elle fut jetée',\n",
       " 'à la fosse publique. Sa tombe ressembla à son lit.',\n",
       " '',\n",
       " '',\n",
       " '',\n",
       " '',\n",
       " '',\n",
       " 'End of the Project Gutenberg EBook of Les misérables Tome I, by Victor Hugo']"
      ]
     },
     "execution_count": 25,
     "metadata": {},
     "output_type": "execute_result"
    }
   ],
   "source": [
    "# and the 10 last lines\n",
    "real_book[-10:]  \n"
   ]
  },
  {
   "cell_type": "code",
   "execution_count": 26,
   "id": "victorian-juvenile",
   "metadata": {},
   "outputs": [
    {
     "data": {
      "text/plain": [
       "['',\n",
       " '',\n",
       " '',\n",
       " '',\n",
       " 'Victor Hugo',\n",
       " '',\n",
       " 'LES MISÉRABLES',\n",
       " '',\n",
       " 'Tome I--FANTINE',\n",
       " '']"
      ]
     },
     "execution_count": 26,
     "metadata": {},
     "output_type": "execute_result"
    }
   ],
   "source": [
    "# let's adjust a litle bit to get rid of the project gutenberg information \n",
    "# that's not part of the original V.Hugo book\n",
    "real_book = real_book[5:-5]\n",
    "real_book[:10] "
   ]
  },
  {
   "cell_type": "code",
   "execution_count": 29,
   "id": "electronic-wright",
   "metadata": {},
   "outputs": [
    {
     "data": {
      "text/plain": [
       "[\"tout, de qui s'agissait-il? d'un forçat et d'une fille publique. C'est\",\n",
       " \"pourquoi il simplifia l'enterrement de Fantine, et le réduisit à ce\",\n",
       " \"strict nécessaire qu'on appelle la fosse commune.\",\n",
       " '',\n",
       " 'Fantine fut donc enterrée dans ce coin gratis du cimetière qui est à',\n",
       " \"tous et à personne, et où l'on perd les pauvres. Heureusement Dieu sait\",\n",
       " \"où retrouver l'âme. On coucha Fantine dans les ténèbres parmi les\",\n",
       " 'premiers os venus; elle subit la promiscuité des cendres. Elle fut jetée',\n",
       " 'à la fosse publique. Sa tombe ressembla à son lit.',\n",
       " '']"
      ]
     },
     "execution_count": 29,
     "metadata": {},
     "output_type": "execute_result"
    }
   ],
   "source": [
    "real_book[-10:] "
   ]
  },
  {
   "cell_type": "markdown",
   "id": "presidential-license",
   "metadata": {},
   "source": [
    "### let's extract the Table of Contents"
   ]
  },
  {
   "cell_type": "code",
   "execution_count": 33,
   "id": "blank-blend",
   "metadata": {},
   "outputs": [
    {
     "name": "stdout",
     "output_type": "stream",
     "text": [
      "[   13] TABLE DES MATIÈRES\n"
     ]
    }
   ],
   "source": [
    "indice_table_content = [i for i, elem in enumerate(real_book) if re.match(r'TABLE DES MATIÈRES', elem)][0]\n",
    "print('[{:5}] {}'.format(indice_table_content,real_book[indice_table_content]))\n"
   ]
  },
  {
   "cell_type": "markdown",
   "id": "fitting-individual",
   "metadata": {},
   "source": [
    "### we will first take the sections of the book"
   ]
  },
  {
   "cell_type": "code",
   "execution_count": 34,
   "id": "theoretical-distance",
   "metadata": {},
   "outputs": [
    {
     "name": "stdout",
     "output_type": "stream",
     "text": [
      "found this Section information at index [15, 34, 51, 62, 68, 85, 91, 106, 117, 2708, 5384, 6664, 7254, 9170, 9759, 13089]\n"
     ]
    },
    {
     "data": {
      "text/plain": [
       "['[   15] Livre premier--Un juste',\n",
       " '[   34] Livre deuxième--La chute',\n",
       " \"[   51] Livre troisième--En l'année 1817\",\n",
       " \"[   62] Livre quatrième--Confier, c'est quelquefois livrer\",\n",
       " '[   68] Livre cinquième--La descente',\n",
       " '[   85] Livre sixième--Javert',\n",
       " \"[   91] Livre septième--L'affaire Champmathieu\",\n",
       " '[  106] Livre huitième--Contre-coup',\n",
       " '[  117] Livre premier--Un juste',\n",
       " '[ 2708] Livre deuxième--La chute',\n",
       " \"[ 5384] Livre troisième--En l'année 1817\",\n",
       " \"[ 6664] Livre quatrième--Confier, c'est quelquefois livrer\",\n",
       " '[ 7254] Livre cinquième--La descente',\n",
       " '[ 9170] Livre sixième--Javert',\n",
       " \"[ 9759] Livre septième--L'affaire Champmathieu\",\n",
       " '[13089] Livre huitième--Contre-coup']"
      ]
     },
     "execution_count": 34,
     "metadata": {},
     "output_type": "execute_result"
    }
   ],
   "source": [
    "indices_sections  = [i for i, elem in enumerate(real_book) if re.match(r'^Livre (.+)\\-\\-(.+)$',elem)]\n",
    "print(f'found this Section information at index {indices_sections}')\n",
    "['[{:5}] {}'.format(i,real_book[i]) for i in indices_sections]"
   ]
  }
 ],
 "metadata": {
  "kernelspec": {
   "display_name": "Python 3",
   "language": "python",
   "name": "python3"
  },
  "language_info": {
   "codemirror_mode": {
    "name": "ipython",
    "version": 3
   },
   "file_extension": ".py",
   "mimetype": "text/x-python",
   "name": "python",
   "nbconvert_exporter": "python",
   "pygments_lexer": "ipython3",
   "version": "3.8.5"
  }
 },
 "nbformat": 4,
 "nbformat_minor": 5
}
