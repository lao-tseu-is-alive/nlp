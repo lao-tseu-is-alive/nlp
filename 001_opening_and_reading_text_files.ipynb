{
 "cells": [
  {
   "cell_type": "code",
   "execution_count": 9,
   "id": "favorite-webcam",
   "metadata": {},
   "outputs": [
    {
     "name": "stdout",
     "output_type": "stream",
     "text": [
      "Python version    \t: 3.8.5 (default, Jul 28 2020, 12:59:40) \n",
      "[GCC 9.3.0]\n",
      "Current working dir\t: /home/cgil/PycharmProjects\n"
     ]
    }
   ],
   "source": [
    "import os\n",
    "import sys\n",
    "print(f'Python version    \\t: {sys.version:.>{15}}')\n",
    "current_dir_path = os.path.dirname(os.path.realpath(os.getcwd()))\n",
    "print(f'Current working dir\\t: {current_dir_path:.>{15}}')\n"
   ]
  },
  {
   "cell_type": "markdown",
   "id": "sharing-capture",
   "metadata": {},
   "source": [
    "### reading an utf-8 text file in a list"
   ]
  },
  {
   "cell_type": "code",
   "execution_count": 41,
   "id": "consecutive-vintage",
   "metadata": {},
   "outputs": [
    {
     "name": "stdout",
     "output_type": "stream",
     "text": [
      "Number of lines of all the book : 14399\n"
     ]
    }
   ],
   "source": [
    "book_fr_path = './data/pg17489.txt'\n",
    "with open(book_fr_path,mode='r',encoding='utf-8') as f:\n",
    "    all_book = f.readlines()\n",
    "\n",
    "num_lines_all_book = len(all_book)\n",
    "print(f'Number of lines of all the book : {num_lines_all_book}')"
   ]
  },
  {
   "cell_type": "markdown",
   "id": "systematic-engine",
   "metadata": {},
   "source": [
    "### finding relevant text to extract indices "
   ]
  },
  {
   "cell_type": "code",
   "execution_count": 18,
   "id": "saving-burning",
   "metadata": {},
   "outputs": [
    {
     "name": "stdout",
     "output_type": "stream",
     "text": [
      "found this lines at index [19, 14041]\n"
     ]
    },
    {
     "data": {
      "text/plain": [
       "['[   19] *** START OF THIS PROJECT GUTENBERG EBOOK LES MISÉRABLES TOME I ***\\n',\n",
       " '[14041] *** END OF THIS PROJECT GUTENBERG EBOOK LES MISÉRABLES TOME I ***\\n']"
      ]
     },
     "execution_count": 18,
     "metadata": {},
     "output_type": "execute_result"
    }
   ],
   "source": [
    "import re\n",
    "indices = [i for i, elem in enumerate(all_book) if re.match(r'\\*\\*\\* (START|END) OF THIS PROJECT GUTENBERG EBOOK', elem)]\n",
    "\n",
    "print(f'found this lines at index {indices}')\n",
    "['[{:5}] {}'.format(i,all_book[i]) for i in indices]\n"
   ]
  },
  {
   "cell_type": "markdown",
   "id": "respected-romantic",
   "metadata": {},
   "source": [
    "### let's get the real book content and get rid of the end of line char"
   ]
  },
  {
   "cell_type": "code",
   "execution_count": 60,
   "id": "hollow-kuwait",
   "metadata": {},
   "outputs": [
    {
     "data": {
      "text/plain": [
       "['',\n",
       " '',\n",
       " '',\n",
       " '',\n",
       " 'Produced by www.ebooksgratuits.com and Chuck Greif',\n",
       " '',\n",
       " '',\n",
       " '',\n",
       " '',\n",
       " 'Victor Hugo']"
      ]
     },
     "execution_count": 60,
     "metadata": {},
     "output_type": "execute_result"
    }
   ],
   "source": [
    "real_book = [i.rstrip() for i in all_book[indices[0]+1:indices[1]-1]]\n",
    "# let's show 10 first lines\n",
    "real_book[:10]  "
   ]
  },
  {
   "cell_type": "code",
   "execution_count": 61,
   "id": "apparent-grocery",
   "metadata": {},
   "outputs": [
    {
     "data": {
      "text/plain": [
       "[\"tous et à personne, et où l'on perd les pauvres. Heureusement Dieu sait\",\n",
       " \"où retrouver l'âme. On coucha Fantine dans les ténèbres parmi les\",\n",
       " 'premiers os venus; elle subit la promiscuité des cendres. Elle fut jetée',\n",
       " 'à la fosse publique. Sa tombe ressembla à son lit.',\n",
       " '',\n",
       " '',\n",
       " '',\n",
       " '',\n",
       " '',\n",
       " 'End of the Project Gutenberg EBook of Les misérables Tome I, by Victor Hugo']"
      ]
     },
     "execution_count": 61,
     "metadata": {},
     "output_type": "execute_result"
    }
   ],
   "source": [
    "# and the 10 last lines\n",
    "real_book[-10:]  \n"
   ]
  },
  {
   "cell_type": "code",
   "execution_count": 62,
   "id": "trained-spokesman",
   "metadata": {},
   "outputs": [
    {
     "name": "stdout",
     "output_type": "stream",
     "text": [
      "Number of lines of all the real book : 14010\n"
     ]
    },
    {
     "data": {
      "text/plain": [
       "['',\n",
       " '',\n",
       " '',\n",
       " '',\n",
       " 'Victor Hugo',\n",
       " '',\n",
       " 'LES MISÉRABLES',\n",
       " '',\n",
       " 'Tome I--FANTINE',\n",
       " '']"
      ]
     },
     "execution_count": 62,
     "metadata": {},
     "output_type": "execute_result"
    }
   ],
   "source": [
    "# let's adjust a litle bit to get rid of the project gutenberg information \n",
    "# that's not part of the original V.Hugo book\n",
    "real_book = real_book[5:-5]\n",
    "num_lines_real_book = len(real_book)\n",
    "print(f'Number of lines of all the real book : {num_lines_real_book}')\n",
    "real_book[:10] "
   ]
  },
  {
   "cell_type": "code",
   "execution_count": 63,
   "id": "dutch-mumbai",
   "metadata": {},
   "outputs": [
    {
     "data": {
      "text/plain": [
       "[\"tout, de qui s'agissait-il? d'un forçat et d'une fille publique. C'est\",\n",
       " \"pourquoi il simplifia l'enterrement de Fantine, et le réduisit à ce\",\n",
       " \"strict nécessaire qu'on appelle la fosse commune.\",\n",
       " '',\n",
       " 'Fantine fut donc enterrée dans ce coin gratis du cimetière qui est à',\n",
       " \"tous et à personne, et où l'on perd les pauvres. Heureusement Dieu sait\",\n",
       " \"où retrouver l'âme. On coucha Fantine dans les ténèbres parmi les\",\n",
       " 'premiers os venus; elle subit la promiscuité des cendres. Elle fut jetée',\n",
       " 'à la fosse publique. Sa tombe ressembla à son lit.',\n",
       " '']"
      ]
     },
     "execution_count": 63,
     "metadata": {},
     "output_type": "execute_result"
    }
   ],
   "source": [
    "real_book[-10:] "
   ]
  },
  {
   "cell_type": "markdown",
   "id": "external-wichita",
   "metadata": {},
   "source": [
    "### let's extract the Table of Contents"
   ]
  },
  {
   "cell_type": "code",
   "execution_count": 33,
   "id": "religious-gasoline",
   "metadata": {},
   "outputs": [
    {
     "name": "stdout",
     "output_type": "stream",
     "text": [
      "[   13] TABLE DES MATIÈRES\n"
     ]
    }
   ],
   "source": [
    "indice_table_content = [i for i, elem in enumerate(real_book) if re.match(r'TABLE DES MATIÈRES', elem)][0]\n",
    "print('[{:5}] {}'.format(indice_table_content,real_book[indice_table_content]))\n"
   ]
  },
  {
   "cell_type": "markdown",
   "id": "likely-ladder",
   "metadata": {},
   "source": [
    "### we will first find the sections indices of the entire book"
   ]
  },
  {
   "cell_type": "code",
   "execution_count": 34,
   "id": "raising-jacob",
   "metadata": {},
   "outputs": [
    {
     "name": "stdout",
     "output_type": "stream",
     "text": [
      "found this Section information at index [15, 34, 51, 62, 68, 85, 91, 106, 117, 2708, 5384, 6664, 7254, 9170, 9759, 13089]\n"
     ]
    },
    {
     "data": {
      "text/plain": [
       "['[   15] Livre premier--Un juste',\n",
       " '[   34] Livre deuxième--La chute',\n",
       " \"[   51] Livre troisième--En l'année 1817\",\n",
       " \"[   62] Livre quatrième--Confier, c'est quelquefois livrer\",\n",
       " '[   68] Livre cinquième--La descente',\n",
       " '[   85] Livre sixième--Javert',\n",
       " \"[   91] Livre septième--L'affaire Champmathieu\",\n",
       " '[  106] Livre huitième--Contre-coup',\n",
       " '[  117] Livre premier--Un juste',\n",
       " '[ 2708] Livre deuxième--La chute',\n",
       " \"[ 5384] Livre troisième--En l'année 1817\",\n",
       " \"[ 6664] Livre quatrième--Confier, c'est quelquefois livrer\",\n",
       " '[ 7254] Livre cinquième--La descente',\n",
       " '[ 9170] Livre sixième--Javert',\n",
       " \"[ 9759] Livre septième--L'affaire Champmathieu\",\n",
       " '[13089] Livre huitième--Contre-coup']"
      ]
     },
     "execution_count": 34,
     "metadata": {},
     "output_type": "execute_result"
    }
   ],
   "source": [
    "indices_sections  = [i for i, elem in enumerate(real_book) if re.match(r'^Livre (.+)\\-\\-(.+)$',elem)]\n",
    "print(f'found this Section information at index {indices_sections}')\n",
    "['[{:5}] {}'.format(i,real_book[i]) for i in indices_sections]"
   ]
  },
  {
   "cell_type": "markdown",
   "id": "relevant-bridge",
   "metadata": {},
   "source": [
    "### we can use the above list indices_sections to extract the first section"
   ]
  },
  {
   "cell_type": "code",
   "execution_count": 121,
   "id": "hungarian-fortune",
   "metadata": {},
   "outputs": [
    {
     "name": "stdout",
     "output_type": "stream",
     "text": [
      "2591\n"
     ]
    },
    {
     "data": {
      "text/plain": [
       "[\"qui semble, en regardant fixement l'infini, y faire éclore des étoiles.\",\n",
       " '',\n",
       " 'Monseigneur Bienvenu était simplement un homme qui constatait du dehors',\n",
       " 'les questions mystérieuses sans les scruter, sans les agiter, et sans en',\n",
       " \"troubler son propre esprit, et qui avait dans l'âme le grave respect de\",\n",
       " \"l'ombre.\",\n",
       " '',\n",
       " '',\n",
       " '',\n",
       " '']"
      ]
     },
     "execution_count": 121,
     "metadata": {},
     "output_type": "execute_result"
    }
   ],
   "source": [
    "section1 = real_book[117:2708]\n",
    "print(len(section1))\n",
    "section1[-10:]"
   ]
  },
  {
   "cell_type": "markdown",
   "id": "crude-candy",
   "metadata": {},
   "source": [
    "### let's find the distinct chapters indices in this first section"
   ]
  },
  {
   "cell_type": "code",
   "execution_count": 39,
   "id": "proved-partnership",
   "metadata": {},
   "outputs": [
    {
     "name": "stdout",
     "output_type": "stream",
     "text": [
      "found the chapters in this first section at index [15, 34, 51, 62, 68, 85, 91, 106, 117, 2708, 5384, 6664, 7254, 9170, 9759, 13089]\n"
     ]
    },
    {
     "data": {
      "text/plain": [
       "['[    5] Chapitre I',\n",
       " '[  122] Chapitre II',\n",
       " '[  354] Chapitre III',\n",
       " '[  441] Chapitre IV',\n",
       " '[  742] Chapitre V',\n",
       " '[  860] Chapitre VI',\n",
       " '[ 1095] Chapitre VII',\n",
       " '[ 1263] Chapitre VIII',\n",
       " '[ 1399] Chapitre IX',\n",
       " '[ 1546] Chapitre X',\n",
       " '[ 2077] Chapitre XI',\n",
       " '[ 2237] Chapitre XII',\n",
       " '[ 2338] Chapitre XIII',\n",
       " '[ 2488] Chapitre XIV']"
      ]
     },
     "execution_count": 39,
     "metadata": {},
     "output_type": "execute_result"
    }
   ],
   "source": [
    "indices_chapitres  = [i for i, elem in enumerate(section1) if re.match(r'^Chapitre\\s([IVX]+)$',elem)]\n",
    "print(f'found the chapters in this first section at index {indices_sections}')\n",
    "['[{:5}] {}'.format(i,section1[i]) for i in indices_chapitres]"
   ]
  },
  {
   "cell_type": "markdown",
   "id": "engaging-volume",
   "metadata": {},
   "source": [
    "### now let's grab the first chapter of the first section"
   ]
  },
  {
   "cell_type": "code",
   "execution_count": 40,
   "id": "printable-bible",
   "metadata": {
    "scrolled": false
   },
   "outputs": [
    {
     "data": {
      "text/plain": [
       "['',\n",
       " 'Monsieur Myriel',\n",
       " '',\n",
       " '',\n",
       " 'En 1815, M. Charles-François-Bienvenu Myriel était évêque de Digne.',\n",
       " \"C'était un vieillard d'environ soixante-quinze ans; il occupait le siège\",\n",
       " 'de Digne depuis 1806.',\n",
       " '',\n",
       " 'Quoique ce détail ne touche en aucune manière au fond même de ce que',\n",
       " \"nous avons à raconter, il n'est peut-être pas inutile, ne fût-ce que\",\n",
       " \"pour être exact en tout, d'indiquer ici les bruits et les propos qui\",\n",
       " 'avaient couru sur son compte au moment où il était arrivé dans le',\n",
       " \"diocèse. Vrai ou faux, ce qu'on dit des hommes tient souvent autant de\",\n",
       " \"place dans leur vie et surtout dans leur destinée que ce qu'ils font. M.\",\n",
       " \"Myriel était fils d'un conseiller au parlement d'Aix; noblesse de robe.\",\n",
       " 'On contait de lui que son père, le réservant pour hériter de sa charge,',\n",
       " \"l'avait marié de fort bonne heure, à dix-huit ou vingt ans, suivant un\",\n",
       " 'usage assez répandu dans les familles parlementaires. Charles Myriel,',\n",
       " 'nonobstant ce mariage, avait, disait-on, beaucoup fait parler de lui. Il',\n",
       " \"était bien fait de sa personne, quoique d'assez petite taille, élégant,\",\n",
       " 'gracieux, spirituel; toute la première partie de sa vie avait été donnée',\n",
       " 'au monde et aux galanteries. La révolution survint, les événements se',\n",
       " 'précipitèrent, les familles parlementaires décimées, chassées, traquées,',\n",
       " 'se dispersèrent. M. Charles Myriel, dès les premiers jours de la',\n",
       " \"révolution, émigra en Italie. Sa femme y mourut d'une maladie de\",\n",
       " \"poitrine dont elle était atteinte depuis longtemps. Ils n'avaient point\",\n",
       " \"d'enfants. Que se passa-t-il ensuite dans la destinée de M. Myriel?\",\n",
       " \"L'écroulement de l'ancienne société française, la chute de sa propre\",\n",
       " 'famille, les tragiques spectacles de 93, plus effrayants encore',\n",
       " 'peut-être pour les émigrés qui les voyaient de loin avec le',\n",
       " \"grossissement de l'épouvante, firent-ils germer en lui des idées de\",\n",
       " \"renoncement et de solitude? Fut-il, au milieu d'une de ces distractions\",\n",
       " \"et de ces affections qui occupaient sa vie, subitement atteint d'un de\",\n",
       " 'ces coups mystérieux et terribles qui viennent quelquefois renverser, en',\n",
       " \"le frappant au coeur, l'homme que les catastrophes publiques\",\n",
       " \"n'ébranleraient pas en le frappant dans son existence et dans sa\",\n",
       " \"fortune? Nul n'aurait pu le dire; tout ce qu'on savait, c'est que,\",\n",
       " \"lorsqu'il revint d'Italie, il était prêtre.\",\n",
       " '',\n",
       " 'En 1804, M. Myriel était curé de Brignolles. Il était déjà vieux, et',\n",
       " 'vivait dans une retraite profonde.',\n",
       " '',\n",
       " \"Vers l'époque du couronnement, une petite affaire de sa cure, on ne sait\",\n",
       " \"plus trop quoi, l'amena à Paris. Entre autres personnes puissantes, il\",\n",
       " 'alla solliciter pour ses paroissiens M. le cardinal Fesch. Un jour que',\n",
       " \"l'empereur était venu faire visite à son oncle, le digne curé, qui\",\n",
       " \"attendait dans l'antichambre, se trouva sur le passage de sa majesté.\",\n",
       " 'Napoléon, se voyant regardé avec une certaine curiosité par ce',\n",
       " 'vieillard, se retourna, et dit brusquement:',\n",
       " '',\n",
       " '--Quel est ce bonhomme qui me regarde?',\n",
       " '',\n",
       " '--Sire, dit M. Myriel, vous regardez un bonhomme, et moi je regarde un',\n",
       " 'grand homme. Chacun de nous peut profiter.',\n",
       " '',\n",
       " \"L'empereur, le soir même, demanda au cardinal le nom de ce curé, et\",\n",
       " \"quelque temps après M. Myriel fut tout surpris d'apprendre qu'il était\",\n",
       " 'nommé évêque de Digne.',\n",
       " '',\n",
       " \"Qu'y avait-il de vrai, du reste, dans les récits qu'on faisait sur la\",\n",
       " 'première partie de la vie de M. Myriel? Personne ne le savait. Peu de',\n",
       " 'familles avaient connu la famille Myriel avant la révolution.',\n",
       " '',\n",
       " 'M. Myriel devait subir le sort de tout nouveau venu dans une petite',\n",
       " 'ville où il y a beaucoup de bouches qui parlent et fort peu de têtes qui',\n",
       " \"pensent. Il devait le subir, quoiqu'il fût évêque et parce qu'il était\",\n",
       " 'évêque. Mais, après tout, les propos auxquels on mêlait son nom',\n",
       " \"n'étaient peut-être que des propos; du bruit, des mots, des paroles;\",\n",
       " \"moins que des paroles, des _palabres_, comme dit l'énergique langue du\",\n",
       " 'midi.',\n",
       " '',\n",
       " \"Quoi qu'il en fût, après neuf ans d'épiscopat et de résidence à Digne,\",\n",
       " 'tous ces racontages, sujets de conversation qui occupent dans le premier',\n",
       " 'moment les petites villes et les petites gens, étaient tombés dans un',\n",
       " \"oubli profond. Personne n'eût osé en parler, personne n'eût même osé\",\n",
       " \"s'en souvenir.\",\n",
       " '',\n",
       " \"M. Myriel était arrivé à Digne accompagné d'une vieille fille,\",\n",
       " 'mademoiselle Baptistine, qui était sa soeur et qui avait dix ans de',\n",
       " 'moins que lui.',\n",
       " '',\n",
       " 'Ils avaient pour tout domestique une servante du même âge que',\n",
       " 'mademoiselle Baptistine, et appelée madame Magloire, laquelle, après',\n",
       " 'avoir été _la servante de M. le Curé_, prenait maintenant le double',\n",
       " 'titre de femme de chambre de mademoiselle et femme de charge de',\n",
       " 'monseigneur.',\n",
       " '',\n",
       " 'Mademoiselle Baptistine était une personne longue, pâle, mince, douce;',\n",
       " \"elle réalisait l'idéal de ce qu'exprime le mot «respectable»; car il\",\n",
       " \"semble qu'il soit nécessaire qu'une femme soit mère pour être vénérable.\",\n",
       " \"Elle n'avait jamais été jolie; toute sa vie, qui n'avait été qu'une\",\n",
       " 'suite de saintes oeuvres, avait fini par mettre sur elle une sorte de',\n",
       " \"blancheur et de clarté; et, en vieillissant, elle avait gagné ce qu'on\",\n",
       " 'pourrait appeler la beauté de la bonté. Ce qui avait été de la maigreur',\n",
       " 'dans sa jeunesse était devenu, dans sa maturité, de la transparence; et',\n",
       " \"cette diaphanéité laissait voir l'ange. C'était une âme plus encore que\",\n",
       " \"ce n'était une vierge. Sa personne semblait faite d'ombre; à peine assez\",\n",
       " \"de corps pour qu'il y eût là un sexe; un peu de matière contenant une\",\n",
       " \"lueur; de grands yeux toujours baissés; un prétexte pour qu'une âme\",\n",
       " 'reste sur la terre.',\n",
       " '',\n",
       " 'Madame Magloire était une petite vieille, blanche, grasse, replète,',\n",
       " \"affairée, toujours haletante, à cause de son activité d'abord, ensuite à\",\n",
       " \"cause d'un asthme.\",\n",
       " '',\n",
       " 'À son arrivée, on installa M. Myriel en son palais épiscopal avec les',\n",
       " \"honneurs voulus par les décrets impériaux qui classent l'évêque\",\n",
       " 'immédiatement après le maréchal de camp. Le maire et le président lui',\n",
       " 'firent la première visite, et lui de son côté fit la première visite au',\n",
       " 'général et au préfet.',\n",
       " '',\n",
       " \"L'installation terminée, la ville attendit son évêque à l'oeuvre.\",\n",
       " '',\n",
       " '',\n",
       " '']"
      ]
     },
     "execution_count": 40,
     "metadata": {},
     "output_type": "execute_result"
    }
   ],
   "source": [
    "section1_chapter_01 = section1[5+1:122-1]\n",
    "section1_chapter_01"
   ]
  },
  {
   "cell_type": "markdown",
   "id": "according-victorian",
   "metadata": {},
   "source": [
    "## Time to generalisation...\n",
    "now it's time to generalize above, and to make it reusable for future exploration of nlp"
   ]
  },
  {
   "cell_type": "code",
   "execution_count": 126,
   "id": "elementary-arthritis",
   "metadata": {},
   "outputs": [],
   "source": [
    "def get_lines_from_file(file_path, file_encoding='utf-8'):\n",
    "    \"\"\"reads a text file at file_path, with specified file_encoding \n",
    "    and returns a list of the lines (array of lines) found in this files\"\"\"\n",
    "    with open(book_fr_path,mode='r',encoding=file_encoding) as f:\n",
    "        return f.readlines()\n",
    "\n",
    "def get_indices_for_regex(lines_array, regex_expression):\n",
    "    \"\"\" returns a list of the indices in the line_array list of strings, \n",
    "    that match the given regex_expression\n",
    "    \"\"\"\n",
    "    return [i for i, elem in enumerate(lines_array) if re.match(regex_expression, elem)]\n",
    "\n",
    "def print_indices_text(lines_array, the_indexes, message=''):\n",
    "    \"\"\"will print the lines from the given lines_array at all the_indexes parameter \"\"\"\n",
    "    print(f'found this {message} at indexes {the_indexes}')\n",
    "    print(\"\\n\".join(['[{:5}] {}'.format(i,lines_array[i]) for i in the_indexes]))\n",
    "    \n",
    "def get_real_book_from_gutenberg_file(gutenberg_file_path, file_encoding='utf-8', offset=1):\n",
    "    a_book = get_lines_from_file(gutenberg_file_path)\n",
    "    gutenberg_indices = get_indices_for_regex(a_book,r'\\*\\*\\* (START|END) OF THIS PROJECT GUTENBERG EBOOK')\n",
    "    if len(indices) == 2:\n",
    "        my_real_book = [i.rstrip() for i in a_book[gutenberg_indices[0]+1:gutenberg_indices[1]-1]]\n",
    "        return my_real_book[offset:-offset] \n",
    "\n",
    "def print_head_and_tail(lines_array, offset=10):\n",
    "    print(\"### 10 FIRST LINES : ###\\n{}\\n########################\".format(\"\\n\".join(lines_array[:offset])))\n",
    "    print(\"### 10 LAST  LINES : ###\\n{}\\n########################\".format(\"\\n\".join(lines_array[-offset:])))\n"
   ]
  },
  {
   "cell_type": "code",
   "execution_count": null,
   "id": "stylish-auditor",
   "metadata": {},
   "outputs": [],
   "source": [
    "{elem:  for i, elem in enumerate(real_book) if re.match(r'^Livre (.+)\\-\\-(.+)$', elem)}"
   ]
  },
  {
   "cell_type": "code",
   "execution_count": 66,
   "id": "experienced-index",
   "metadata": {},
   "outputs": [
    {
     "name": "stdout",
     "output_type": "stream",
     "text": [
      "OK : found 14399 lines in the file ./data/pg17489.txt\n",
      "found this  at indexes [19, 14041]\n",
      "[   19] *** START OF THIS PROJECT GUTENBERG EBOOK LES MISÉRABLES TOME I ***\n",
      "\n",
      "[14041] *** END OF THIS PROJECT GUTENBERG EBOOK LES MISÉRABLES TOME I ***\n",
      "\n",
      "OK : found 14010 real lines in the gutenberg file ./data/pg17489.txt\n",
      "### 10 FIRST LINES : ###\n",
      "\n",
      "\n",
      "\n",
      "\n",
      "Victor Hugo\n",
      "\n",
      "LES MISÉRABLES\n",
      "\n",
      "Tome I--FANTINE\n",
      "\n",
      "### 10 LAST  LINES : ###\n",
      "tout, de qui s'agissait-il? d'un forçat et d'une fille publique. C'est\n",
      "pourquoi il simplifia l'enterrement de Fantine, et le réduisit à ce\n",
      "strict nécessaire qu'on appelle la fosse commune.\n",
      "\n",
      "Fantine fut donc enterrée dans ce coin gratis du cimetière qui est à\n",
      "tous et à personne, et où l'on perd les pauvres. Heureusement Dieu sait\n",
      "où retrouver l'âme. On coucha Fantine dans les ténèbres parmi les\n",
      "premiers os venus; elle subit la promiscuité des cendres. Elle fut jetée\n",
      "à la fosse publique. Sa tombe ressembla à son lit.\n",
      "\n"
     ]
    }
   ],
   "source": [
    "####  let's verify that all the above functions are working as expected\n",
    "my_big_book = get_lines_from_file(book_fr_path)\n",
    "num_lines_my_big_book = len(my_big_book)\n",
    "if num_lines_all_book != num_lines_my_big_book :\n",
    "    print(f\"\"\"\n",
    "    WARNING[Problem in function get_lines_from_file] :\n",
    "    in the original books ther is \\t {num_lines_all_book} lines, \n",
    "    with get_lines_from_files i get\\t {num_lines_my_big_book} lines \n",
    "    \"\"\")\n",
    "else:\n",
    "    print(f'OK : found {num_lines_my_big_book} lines in the file {book_fr_path}')\n",
    "\n",
    "my_indices = get_indices_for_regex(my_big_book,r'\\*\\*\\* (START|END) OF THIS PROJECT GUTENBERG EBOOK')\n",
    "\n",
    "if my_indices != indices:\n",
    "    print(f\"\"\"\n",
    "    WARNING[Problem in function get_indices_for_regex] :\n",
    "    in the original books the indices where \\t {indices} , \n",
    "    with get_indices_for_regex i get\\t {my_indices} instead ! Check the function ! \n",
    "    \"\"\")\n",
    "else:\n",
    "    print_indices_text(my_big_book, my_indices)\n",
    "    \n",
    "my_gutenberg_book = get_real_book_from_gutenberg_file(book_fr_path, file_encoding='utf-8', offset=5)\n",
    "num_lines_my_gutenberg_book = len(my_gutenberg_book)\n",
    "\n",
    "if num_lines_real_book != num_lines_my_gutenberg_book:\n",
    "    print(f\"\"\"\n",
    "    WARNING[Problem in function my_gutenberg_book] :\n",
    "    in the original 'real' book there is \\t {num_lines_real_book} lines, \n",
    "    with get_lines_from_files i get\\t {num_lines_my_gutenberg_book} lines instead ! Check the function.\n",
    "    \"\"\")\n",
    "else:\n",
    "    print(f'OK : found {num_lines_real_book} real lines in the gutenberg file {book_fr_path}')\n",
    "    \n",
    "print(\"### 10 FIRST LINES : ###\\n{}\".format(\"\\n\".join(my_gutenberg_book[:10])))\n",
    "print(\"### 10 LAST  LINES : ###\\n{}\".format(\"\\n\".join(my_gutenberg_book[-10:])))\n",
    "    "
   ]
  },
  {
   "cell_type": "code",
   "execution_count": 70,
   "id": "elegant-lafayette",
   "metadata": {},
   "outputs": [
    {
     "name": "stdout",
     "output_type": "stream",
     "text": [
      "found this Section information at index [15, 34, 51, 62, 68, 85, 91, 106, 117, 2708, 5384, 6664, 7254, 9170, 9759, 13089]\n"
     ]
    },
    {
     "data": {
      "text/plain": [
       "['my_gutenberg_book[   15]= Livre premier--Un juste',\n",
       " 'my_gutenberg_book[   34]= Livre deuxième--La chute',\n",
       " \"my_gutenberg_book[   51]= Livre troisième--En l'année 1817\",\n",
       " \"my_gutenberg_book[   62]= Livre quatrième--Confier, c'est quelquefois livrer\",\n",
       " 'my_gutenberg_book[   68]= Livre cinquième--La descente',\n",
       " 'my_gutenberg_book[   85]= Livre sixième--Javert',\n",
       " \"my_gutenberg_book[   91]= Livre septième--L'affaire Champmathieu\",\n",
       " 'my_gutenberg_book[  106]= Livre huitième--Contre-coup',\n",
       " 'my_gutenberg_book[  117]= Livre premier--Un juste',\n",
       " 'my_gutenberg_book[ 2708]= Livre deuxième--La chute',\n",
       " \"my_gutenberg_book[ 5384]= Livre troisième--En l'année 1817\",\n",
       " \"my_gutenberg_book[ 6664]= Livre quatrième--Confier, c'est quelquefois livrer\",\n",
       " 'my_gutenberg_book[ 7254]= Livre cinquième--La descente',\n",
       " 'my_gutenberg_book[ 9170]= Livre sixième--Javert',\n",
       " \"my_gutenberg_book[ 9759]= Livre septième--L'affaire Champmathieu\",\n",
       " 'my_gutenberg_book[13089]= Livre huitième--Contre-coup']"
      ]
     },
     "execution_count": 70,
     "metadata": {},
     "output_type": "execute_result"
    }
   ],
   "source": [
    "my_sections_indices  = get_indices_for_regex(my_gutenberg_book, r'^Livre (.+)\\-\\-(.+)$')\n",
    "print(f'found this Section information at index {my_sections_indices}')\n",
    "['my_gutenberg_book[{:5}]= {}'.format(i,my_gutenberg_book[i]) for i in my_sections_indices]"
   ]
  },
  {
   "cell_type": "code",
   "execution_count": 71,
   "id": "intended-recording",
   "metadata": {},
   "outputs": [],
   "source": [
    "# let's keep only the book lines of the real sections\n",
    "my_gutenberg_book = my_gutenberg_book[117:]"
   ]
  },
  {
   "cell_type": "code",
   "execution_count": 127,
   "id": "needed-deadline",
   "metadata": {},
   "outputs": [
    {
     "name": "stdout",
     "output_type": "stream",
     "text": [
      "### 10 FIRST LINES : ###\n",
      "Livre premier--Un juste\n",
      "\n",
      "\n",
      "\n",
      "\n",
      "Chapitre I\n",
      "\n",
      "Monsieur Myriel\n",
      "\n",
      "\n",
      "########################\n",
      "### 10 LAST  LINES : ###\n",
      "tout, de qui s'agissait-il? d'un forçat et d'une fille publique. C'est\n",
      "pourquoi il simplifia l'enterrement de Fantine, et le réduisit à ce\n",
      "strict nécessaire qu'on appelle la fosse commune.\n",
      "\n",
      "Fantine fut donc enterrée dans ce coin gratis du cimetière qui est à\n",
      "tous et à personne, et où l'on perd les pauvres. Heureusement Dieu sait\n",
      "où retrouver l'âme. On coucha Fantine dans les ténèbres parmi les\n",
      "premiers os venus; elle subit la promiscuité des cendres. Elle fut jetée\n",
      "à la fosse publique. Sa tombe ressembla à son lit.\n",
      "\n",
      "########################\n"
     ]
    }
   ],
   "source": [
    "print_head_and_tail(my_gutenberg_book)"
   ]
  },
  {
   "cell_type": "code",
   "execution_count": 97,
   "id": "finished-contemporary",
   "metadata": {},
   "outputs": [
    {
     "name": "stdout",
     "output_type": "stream",
     "text": [
      "found this Section information at index [0, 2591, 5267, 6547, 7137, 9053, 9642, 12972]\n",
      "0    :my_gutenberg_book[    0] = Livre premier--Un juste\n",
      "1    :my_gutenberg_book[ 2591] = Livre deuxième--La chute\n",
      "2    :my_gutenberg_book[ 5267] = Livre troisième--En l'année 1817\n",
      "3    :my_gutenberg_book[ 6547] = Livre quatrième--Confier, c'est quelquefois livrer\n",
      "4    :my_gutenberg_book[ 7137] = Livre cinquième--La descente\n",
      "5    :my_gutenberg_book[ 9053] = Livre sixième--Javert\n",
      "6    :my_gutenberg_book[ 9642] = Livre septième--L'affaire Champmathieu\n",
      "7    :my_gutenberg_book[12972] = Livre huitième--Contre-coup\n"
     ]
    },
    {
     "data": {
      "text/plain": [
       "['my_gutenberg_book[    0] = Livre premier--Un juste',\n",
       " 'my_gutenberg_book[ 2591] = Livre deuxième--La chute',\n",
       " \"my_gutenberg_book[ 5267] = Livre troisième--En l'année 1817\",\n",
       " \"my_gutenberg_book[ 6547] = Livre quatrième--Confier, c'est quelquefois livrer\",\n",
       " 'my_gutenberg_book[ 7137] = Livre cinquième--La descente',\n",
       " 'my_gutenberg_book[ 9053] = Livre sixième--Javert',\n",
       " \"my_gutenberg_book[ 9642] = Livre septième--L'affaire Champmathieu\",\n",
       " 'my_gutenberg_book[12972] = Livre huitième--Contre-coup']"
      ]
     },
     "execution_count": 97,
     "metadata": {},
     "output_type": "execute_result"
    }
   ],
   "source": [
    "my_sections_indices  = get_indices_for_regex(my_gutenberg_book, r'^Livre (.+)\\-\\-(.+)$')\n",
    "print(f'found this Section information at index {my_sections_indices}')\n",
    "for i,v in enumerate(my_sections_indices):\n",
    "    print(f'{i:<{5}}:my_gutenberg_book[{v:>{5}}] = {my_gutenberg_book[v]}')\n",
    "['my_gutenberg_book[{:5}] = {}'.format(i,my_gutenberg_book[i]) for i in my_sections_indices]"
   ]
  },
  {
   "cell_type": "code",
   "execution_count": 109,
   "id": "nuclear-gnome",
   "metadata": {},
   "outputs": [
    {
     "name": "stdout",
     "output_type": "stream",
     "text": [
      "0    :              0, Livre premier--Un juste\n",
      " 1) Livre premier--Un juste True\n",
      "1    :           2591, Livre deuxième--La chute\n",
      " 2) Livre deuxième--La chute True\n",
      "2    :           5267, Livre troisième--En l'année 1817\n",
      " 3) Livre troisième--En l'année 1817 True\n",
      "3    :           6547, Livre quatrième--Confier, c'est quelquefois livrer\n",
      " 4) Livre quatrième--Confier, c'est quelquefois livrer True\n",
      "4    :           7137, Livre cinquième--La descente\n",
      " 5) Livre cinquième--La descente True\n",
      "5    :           9053, Livre sixième--Javert\n",
      " 6) Livre sixième--Javert True\n",
      "6    :           9642, Livre septième--L'affaire Champmathieu\n",
      " 7) Livre septième--L'affaire Champmathieu True\n",
      "7    :          12972, Livre huitième--Contre-coup\n",
      " 8) Livre huitième--Contre-coup False\n"
     ]
    },
    {
     "data": {
      "text/plain": [
       "dict_keys([' 1) Livre premier--Un juste', ' 2) Livre deuxième--La chute', \" 3) Livre troisième--En l'année 1817\", \" 4) Livre quatrième--Confier, c'est quelquefois livrer\", ' 5) Livre cinquième--La descente', ' 6) Livre sixième--Javert', \" 7) Livre septième--L'affaire Champmathieu\", ' 8) Livre huitième--Contre-coup'])"
      ]
     },
     "execution_count": 109,
     "metadata": {},
     "output_type": "execute_result"
    }
   ],
   "source": [
    "my_sections = {}\n",
    "for i,v in enumerate(my_sections_indices):\n",
    "    print(f'{i:<{5}}:{v:>{15}}, {my_gutenberg_book[v]}')\n",
    "    key = f'{i+1:>{2}}) {my_gutenberg_book[v]}'\n",
    "    print(key, i < (len(my_sections_indices)-1))\n",
    "    if i < (len(my_sections_indices)-1):\n",
    "        my_sections[key]=my_gutenberg_book[v:my_sections_indices[i+1]]\n",
    "    else:\n",
    "        my_sections[key]=my_gutenberg_book[v:]    \n",
    "\n",
    "\n",
    "my_sections.keys()"
   ]
  },
  {
   "cell_type": "code",
   "execution_count": 128,
   "id": "silent-attempt",
   "metadata": {},
   "outputs": [
    {
     "name": "stdout",
     "output_type": "stream",
     "text": [
      "### 10 FIRST LINES : ###\n",
      "Livre premier--Un juste\n",
      "\n",
      "\n",
      "\n",
      "\n",
      "Chapitre I\n",
      "\n",
      "Monsieur Myriel\n",
      "\n",
      "\n",
      "########################\n",
      "### 10 LAST  LINES : ###\n",
      "qui semble, en regardant fixement l'infini, y faire éclore des étoiles.\n",
      "\n",
      "Monseigneur Bienvenu était simplement un homme qui constatait du dehors\n",
      "les questions mystérieuses sans les scruter, sans les agiter, et sans en\n",
      "troubler son propre esprit, et qui avait dans l'âme le grave respect de\n",
      "l'ombre.\n",
      "\n",
      "\n",
      "\n",
      "\n",
      "########################\n"
     ]
    }
   ],
   "source": [
    "print_head_and_tail(my_sections[' 1) Livre premier--Un juste'])"
   ]
  },
  {
   "cell_type": "code",
   "execution_count": 129,
   "id": "architectural-bacon",
   "metadata": {},
   "outputs": [
    {
     "name": "stdout",
     "output_type": "stream",
     "text": [
      "### 10 FIRST LINES : ###\n",
      "Livre premier--Un juste\n",
      "\n",
      "\n",
      "\n",
      "\n",
      "Chapitre I\n",
      "\n",
      "Monsieur Myriel\n",
      "\n",
      "\n",
      "########################\n",
      "### 10 LAST  LINES : ###\n",
      "qui semble, en regardant fixement l'infini, y faire éclore des étoiles.\n",
      "\n",
      "Monseigneur Bienvenu était simplement un homme qui constatait du dehors\n",
      "les questions mystérieuses sans les scruter, sans les agiter, et sans en\n",
      "troubler son propre esprit, et qui avait dans l'âme le grave respect de\n",
      "l'ombre.\n",
      "\n",
      "\n",
      "\n",
      "\n",
      "########################\n"
     ]
    }
   ],
   "source": [
    "print_head_and_tail(section1)"
   ]
  },
  {
   "cell_type": "code",
   "execution_count": 130,
   "id": "ultimate-surge",
   "metadata": {},
   "outputs": [
    {
     "data": {
      "text/plain": [
       "True"
      ]
     },
     "execution_count": 130,
     "metadata": {},
     "output_type": "execute_result"
    }
   ],
   "source": [
    "section1 == my_sections[' 1) Livre premier--Un juste']"
   ]
  }
 ],
 "metadata": {
  "kernelspec": {
   "display_name": "Python 3",
   "language": "python",
   "name": "python3"
  },
  "language_info": {
   "codemirror_mode": {
    "name": "ipython",
    "version": 3
   },
   "file_extension": ".py",
   "mimetype": "text/x-python",
   "name": "python",
   "nbconvert_exporter": "python",
   "pygments_lexer": "ipython3",
   "version": "3.8.5"
  }
 },
 "nbformat": 4,
 "nbformat_minor": 5
}
