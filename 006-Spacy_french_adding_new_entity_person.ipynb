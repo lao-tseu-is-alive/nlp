{
 "cells": [
  {
   "cell_type": "code",
   "execution_count": 1,
   "id": "legitimate-fundamentals",
   "metadata": {},
   "outputs": [
    {
     "name": "stdout",
     "output_type": "stream",
     "text": [
      "Python version : 3.8.5 (default, Jul 28 2020, 12:59:40) \n",
      "[GCC 9.3.0]\n",
      "Spacy version  : 3.0.1     \n",
      "Current dir : /home/cgil/PycharmProjects\n"
     ]
    }
   ],
   "source": [
    "import spacy\n",
    "from spacy import displacy\n",
    "from spacy.tokens import Span\n",
    "from spacy.matcher import PhraseMatcher\n",
    "from my_nlp_lib import spacy_utilities as su\n",
    "from my_nlp_lib import text_utilities as tu\n",
    "su.print_versions()"
   ]
  },
  {
   "cell_type": "markdown",
   "id": "ruled-navigation",
   "metadata": {},
   "source": [
    "## First let us get the first chapter of Victor Hugo \"Les Misérables\""
   ]
  },
  {
   "cell_type": "code",
   "execution_count": 2,
   "id": "turned-looking",
   "metadata": {},
   "outputs": [
    {
     "name": "stdout",
     "output_type": "stream",
     "text": [
      "## OK : let's print 5 first and last lines of the first chapter of the section :\n",
      "### 5 FIRST LINES : ###\n",
      "\n",
      "Monsieur Myriel\n",
      "\n",
      "\n",
      "En 1815, M. Charles-François-Bienvenu Myriel était évêque de Digne.\n",
      "########################\n",
      "### 5 LAST  LINES : ###\n",
      "L'installation terminée, la ville attendit son évêque à l'oeuvre.\n",
      "\n",
      "\n",
      "\n",
      "\n",
      "########################\n"
     ]
    }
   ],
   "source": [
    "first_section_chapters = tu.get_chapters_dic_of_first_section_of_french_book()\n",
    "first_section_chapter_1 = first_section_chapters['01) Chapitre I']\n",
    "my_offset = 5\n",
    "print(f\"## OK : let's print {my_offset} first and last lines of the first chapter of the section :\")\n",
    "tu.print_head_and_tail(first_section_chapter_1, offset=my_offset)"
   ]
  },
  {
   "cell_type": "markdown",
   "id": "favorite-plumbing",
   "metadata": {},
   "source": [
    "## let's now use spacy to analyse the first chapter"
   ]
  },
  {
   "cell_type": "code",
   "execution_count": 3,
   "id": "harmful-request",
   "metadata": {},
   "outputs": [
    {
     "data": {
      "text/plain": [
       "[('tok2vec', <spacy.pipeline.tok2vec.Tok2Vec at 0x7f9d258e24a0>),\n",
       " ('morphologizer',\n",
       "  <spacy.pipeline.morphologizer.Morphologizer at 0x7f9d26fb64a0>),\n",
       " ('parser', <spacy.pipeline.dep_parser.DependencyParser at 0x7f9d26ff4f40>),\n",
       " ('ner', <spacy.pipeline.ner.EntityRecognizer at 0x7f9d26ff4b80>),\n",
       " ('attribute_ruler',\n",
       "  <spacy.pipeline.attributeruler.AttributeRuler at 0x7f9d26ba5cc0>),\n",
       " ('lemmatizer', <spacy.lang.fr.lemmatizer.FrenchLemmatizer at 0x7f9d26e7e7c0>)]"
      ]
     },
     "execution_count": 3,
     "metadata": {},
     "output_type": "execute_result"
    }
   ],
   "source": [
    "# load the normal french model\n",
    "nlp = spacy.load('fr_core_news_sm')\n",
    "nlp.pipeline"
   ]
  },
  {
   "cell_type": "code",
   "execution_count": 4,
   "id": "recreational-optimization",
   "metadata": {},
   "outputs": [],
   "source": [
    "chapter_1 = \" \".join(first_section_chapter_1)\n",
    "chapter_1 = chapter_1.replace('\\n\\n', '\\n')\n",
    "# print(chapter_1)"
   ]
  },
  {
   "cell_type": "code",
   "execution_count": 5,
   "id": "mighty-longitude",
   "metadata": {},
   "outputs": [],
   "source": [
    "doc = nlp(chapter_1)"
   ]
  },
  {
   "cell_type": "markdown",
   "id": "committed-turkey",
   "metadata": {},
   "source": [
    "### let's list the named entities found by spacy"
   ]
  },
  {
   "cell_type": "code",
   "execution_count": 6,
   "id": "instrumental-amateur",
   "metadata": {},
   "outputs": [
    {
     "name": "stdout",
     "output_type": "stream",
     "text": [
      "Charles                   (    8,    9) PER        Named person or family.                 \n",
      "François                  (   10,   11) PER        Named person or family.                 \n",
      "Bienvenu Myriel           (   12,   14) PER        Named person or family.                 \n",
      "Digne                     (   17,   18) LOC        Non-GPE locations, mountain ranges, bodies of water\n",
      "Digne                     (   33,   34) LOC        Non-GPE locations, mountain ranges, bodies of water\n",
      "Vrai                      (   98,   99) LOC        Non-GPE locations, mountain ranges, bodies of water\n",
      "Myriel                    (  128,  129) PER        Named person or family.                 \n",
      "parlement d'Aix           (  135,  138) MISC       Miscellaneous entities, e.g. events, nationalities, products or works of art\n",
      "Charles Myriel            (  183,  185) PER        Named person or family.                 \n",
      "Charles Myriel            (  259,  261) PER        Named person or family.                 \n",
      "Italie                    (  272,  273) LOC        Non-GPE locations, mountain ranges, bodies of water\n",
      "Myriel                    (  308,  309) LOC        Non-GPE locations, mountain ranges, bodies of water\n",
      "Fut                       (  363,  364) PER        Named person or family.                 \n",
      "d'Italie                  (  443,  445) LOC        Non-GPE locations, mountain ranges, bodies of water\n",
      "Myriel                    (  455,  456) LOC        Non-GPE locations, mountain ranges, bodies of water\n",
      "Brignolles                (  459,  460) LOC        Non-GPE locations, mountain ranges, bodies of water\n",
      "Paris                     (  497,  498) LOC        Non-GPE locations, mountain ranges, bodies of water\n",
      "M.                        (  510,  511) PER        Named person or family.                 \n",
      "Napoléon                  (  547,  548) PER        Named person or family.                 \n",
      "Myriel                    (  581,  582) LOC        Non-GPE locations, mountain ranges, bodies of water\n",
      "L'empereur                (  603,  605) PER        Named person or family.                 \n",
      "M.                        (  623,  624) PER        Named person or family.                 \n",
      "Myriel                    (  624,  625) LOC        Non-GPE locations, mountain ranges, bodies of water\n",
      "Digne                     (  636,  637) LOC        Non-GPE locations, mountain ranges, bodies of water\n",
      "Qu'                       (  639,  640) MISC       Miscellaneous entities, e.g. events, nationalities, products or works of art\n",
      "Myriel                    (  664,  665) LOC        Non-GPE locations, mountain ranges, bodies of water\n",
      "Myriel                    (  678,  679) LOC        Non-GPE locations, mountain ranges, bodies of water\n",
      "Myriel                    (  685,  686) LOC        Non-GPE locations, mountain ranges, bodies of water\n",
      "Digne                     (  793,  794) LOC        Non-GPE locations, mountain ranges, bodies of water\n",
      "Myriel                    (  841,  842) LOC        Non-GPE locations, mountain ranges, bodies of water\n",
      "Digne                     (  845,  846) LOC        Non-GPE locations, mountain ranges, bodies of water\n",
      "Baptistine                (  853,  854) LOC        Non-GPE locations, mountain ranges, bodies of water\n",
      "Baptistine                (  882,  883) LOC        Non-GPE locations, mountain ranges, bodies of water\n",
      "Magloire                  (  887,  888) PER        Named person or family.                 \n",
      "M. le Curé                (  898,  901) PER        Named person or family.                 \n",
      "Mademoiselle Baptistine   (  922,  924) PER        Named person or family.                 \n",
      "Madame Magloire           ( 1109, 1111) PER        Named person or family.                 \n",
      "Myriel                    ( 1150, 1151) LOC        Non-GPE locations, mountain ranges, bodies of water\n"
     ]
    }
   ],
   "source": [
    "for e in doc.ents:\n",
    "    print(f'{e.text:{25}} ({e.start:{5}},{e.end:{5}}) {e.label_:{10}} {spacy.explain(e.label_):{40}}')"
   ]
  },
  {
   "cell_type": "markdown",
   "id": "crude-greece",
   "metadata": {},
   "source": [
    "#### we can see some wrong named entities\n",
    "* *Vrai* is obviously not a location\n",
    "* *Fut* is not a person\n",
    "* *Myriel* is a person and not a location\n",
    "*   *Baptistine* is also a person and not a location\n",
    "*    *M.* it's not a person but should be used as an indicator that next token could be a person"
   ]
  },
  {
   "cell_type": "code",
   "execution_count": 7,
   "id": "bigger-hierarchy",
   "metadata": {},
   "outputs": [
    {
     "name": "stdout",
     "output_type": "stream",
     "text": [
      "##### [000] NO ENTITY FOUND IN THIS SENTENCE : Monsieur Myriel   \n",
      "##### [001] ENTITY FOUND IN THIS SENTENCE :\n"
     ]
    },
    {
     "data": {
      "text/html": [
       "<span class=\"tex2jax_ignore\"><div class=\"entities\" style=\"line-height: 2.5; direction: ltr\">En 1815, M. \n",
       "<mark class=\"entity\" style=\"background: #ddd; padding: 0.45em 0.6em; margin: 0 0.25em; line-height: 1; border-radius: 0.35em;\">\n",
       "    Charles\n",
       "    <span style=\"font-size: 0.8em; font-weight: bold; line-height: 1; border-radius: 0.35em; vertical-align: middle; margin-left: 0.5rem\">PER</span>\n",
       "</mark>\n",
       "-\n",
       "<mark class=\"entity\" style=\"background: #ddd; padding: 0.45em 0.6em; margin: 0 0.25em; line-height: 1; border-radius: 0.35em;\">\n",
       "    François\n",
       "    <span style=\"font-size: 0.8em; font-weight: bold; line-height: 1; border-radius: 0.35em; vertical-align: middle; margin-left: 0.5rem\">PER</span>\n",
       "</mark>\n",
       "-\n",
       "<mark class=\"entity\" style=\"background: #ddd; padding: 0.45em 0.6em; margin: 0 0.25em; line-height: 1; border-radius: 0.35em;\">\n",
       "    Bienvenu Myriel\n",
       "    <span style=\"font-size: 0.8em; font-weight: bold; line-height: 1; border-radius: 0.35em; vertical-align: middle; margin-left: 0.5rem\">PER</span>\n",
       "</mark>\n",
       " était évêque de \n",
       "<mark class=\"entity\" style=\"background: #ff9561; padding: 0.45em 0.6em; margin: 0 0.25em; line-height: 1; border-radius: 0.35em;\">\n",
       "    Digne\n",
       "    <span style=\"font-size: 0.8em; font-weight: bold; line-height: 1; border-radius: 0.35em; vertical-align: middle; margin-left: 0.5rem\">LOC</span>\n",
       "</mark>\n",
       ".</div></span>"
      ],
      "text/plain": [
       "<IPython.core.display.HTML object>"
      ]
     },
     "metadata": {},
     "output_type": "display_data"
    },
    {
     "name": "stdout",
     "output_type": "stream",
     "text": [
      "##### [002] NO ENTITY FOUND IN THIS SENTENCE :C'était un vieillard d'environ soixante-quinze ans;\n",
      "##### [003] ENTITY FOUND IN THIS SENTENCE :\n"
     ]
    },
    {
     "data": {
      "text/html": [
       "<span class=\"tex2jax_ignore\"><div class=\"entities\" style=\"line-height: 2.5; direction: ltr\">il occupait le siège de \n",
       "<mark class=\"entity\" style=\"background: #ff9561; padding: 0.45em 0.6em; margin: 0 0.25em; line-height: 1; border-radius: 0.35em;\">\n",
       "    Digne\n",
       "    <span style=\"font-size: 0.8em; font-weight: bold; line-height: 1; border-radius: 0.35em; vertical-align: middle; margin-left: 0.5rem\">LOC</span>\n",
       "</mark>\n",
       " depuis 1806.</div></span>"
      ],
      "text/plain": [
       "<IPython.core.display.HTML object>"
      ]
     },
     "metadata": {},
     "output_type": "display_data"
    },
    {
     "name": "stdout",
     "output_type": "stream",
     "text": [
      "##### [004] NO ENTITY FOUND IN THIS SENTENCE : Quoique ce détail ne touche en aucune manière au fond même de ce que nous avons à raconter, il n'est peut-être pas inutile, ne fût-ce que pour être exact en tout, d'indiquer ici les bruits et les propos qui avaient couru sur son compte au moment où il était arrivé dans le diocèse.\n",
      "##### [005] ENTITY FOUND IN THIS SENTENCE :\n"
     ]
    },
    {
     "data": {
      "text/html": [
       "<span class=\"tex2jax_ignore\"><div class=\"entities\" style=\"line-height: 2.5; direction: ltr\">\n",
       "<mark class=\"entity\" style=\"background: #ff9561; padding: 0.45em 0.6em; margin: 0 0.25em; line-height: 1; border-radius: 0.35em;\">\n",
       "    Vrai\n",
       "    <span style=\"font-size: 0.8em; font-weight: bold; line-height: 1; border-radius: 0.35em; vertical-align: middle; margin-left: 0.5rem\">LOC</span>\n",
       "</mark>\n",
       " ou faux, ce qu'on dit des hommes tient souvent autant de place dans leur vie et surtout dans leur destinée que ce qu'ils font.</div></span>"
      ],
      "text/plain": [
       "<IPython.core.display.HTML object>"
      ]
     },
     "metadata": {},
     "output_type": "display_data"
    },
    {
     "name": "stdout",
     "output_type": "stream",
     "text": [
      "##### [006] ENTITY FOUND IN THIS SENTENCE :\n"
     ]
    },
    {
     "data": {
      "text/html": [
       "<span class=\"tex2jax_ignore\"><div class=\"entities\" style=\"line-height: 2.5; direction: ltr\">M. \n",
       "<mark class=\"entity\" style=\"background: #ff9561; padding: 0.45em 0.6em; margin: 0 0.25em; line-height: 1; border-radius: 0.35em;\">\n",
       "    Myriel\n",
       "    <span style=\"font-size: 0.8em; font-weight: bold; line-height: 1; border-radius: 0.35em; vertical-align: middle; margin-left: 0.5rem\">LOC</span>\n",
       "</mark>\n",
       " était fils d'un conseiller au \n",
       "<mark class=\"entity\" style=\"background: #ddd; padding: 0.45em 0.6em; margin: 0 0.25em; line-height: 1; border-radius: 0.35em;\">\n",
       "    parlement d'Aix\n",
       "    <span style=\"font-size: 0.8em; font-weight: bold; line-height: 1; border-radius: 0.35em; vertical-align: middle; margin-left: 0.5rem\">MISC</span>\n",
       "</mark>\n",
       ";</div></span>"
      ],
      "text/plain": [
       "<IPython.core.display.HTML object>"
      ]
     },
     "metadata": {},
     "output_type": "display_data"
    },
    {
     "name": "stdout",
     "output_type": "stream",
     "text": [
      "##### [007] NO ENTITY FOUND IN THIS SENTENCE :noblesse de robe.\n",
      "##### [008] NO ENTITY FOUND IN THIS SENTENCE :On contait de lui que son père, le réservant pour hériter de sa charge, l'avait marié de fort bonne heure, à dix-huit ou vingt ans, suivant un usage assez répandu dans les familles parlementaires.\n",
      "##### [009] ENTITY FOUND IN THIS SENTENCE :\n"
     ]
    },
    {
     "data": {
      "text/html": [
       "<span class=\"tex2jax_ignore\"><div class=\"entities\" style=\"line-height: 2.5; direction: ltr\">\n",
       "<mark class=\"entity\" style=\"background: #ddd; padding: 0.45em 0.6em; margin: 0 0.25em; line-height: 1; border-radius: 0.35em;\">\n",
       "    Charles Myriel\n",
       "    <span style=\"font-size: 0.8em; font-weight: bold; line-height: 1; border-radius: 0.35em; vertical-align: middle; margin-left: 0.5rem\">PER</span>\n",
       "</mark>\n",
       ", nonobstant ce mariage, avait, disait-on, beaucoup fait parler de lui.</div></span>"
      ],
      "text/plain": [
       "<IPython.core.display.HTML object>"
      ]
     },
     "metadata": {},
     "output_type": "display_data"
    },
    {
     "name": "stdout",
     "output_type": "stream",
     "text": [
      "##### [010] NO ENTITY FOUND IN THIS SENTENCE :Il était bien fait de sa personne, quoique d'assez petite taille, élégant, gracieux, spirituel;\n",
      "##### [011] NO ENTITY FOUND IN THIS SENTENCE :toute la première partie de sa vie avait été donnée au monde et aux galanteries.\n",
      "##### [012] NO ENTITY FOUND IN THIS SENTENCE :La révolution survint, les événements se précipitèrent, les familles parlementaires décimées, chassées, traquées, se dispersèrent.\n",
      "##### [013] ENTITY FOUND IN THIS SENTENCE :\n"
     ]
    },
    {
     "data": {
      "text/html": [
       "<span class=\"tex2jax_ignore\"><div class=\"entities\" style=\"line-height: 2.5; direction: ltr\">M. \n",
       "<mark class=\"entity\" style=\"background: #ddd; padding: 0.45em 0.6em; margin: 0 0.25em; line-height: 1; border-radius: 0.35em;\">\n",
       "    Charles Myriel\n",
       "    <span style=\"font-size: 0.8em; font-weight: bold; line-height: 1; border-radius: 0.35em; vertical-align: middle; margin-left: 0.5rem\">PER</span>\n",
       "</mark>\n",
       ", dès les premiers jours de la révolution, émigra en \n",
       "<mark class=\"entity\" style=\"background: #ff9561; padding: 0.45em 0.6em; margin: 0 0.25em; line-height: 1; border-radius: 0.35em;\">\n",
       "    Italie\n",
       "    <span style=\"font-size: 0.8em; font-weight: bold; line-height: 1; border-radius: 0.35em; vertical-align: middle; margin-left: 0.5rem\">LOC</span>\n",
       "</mark>\n",
       ".</div></span>"
      ],
      "text/plain": [
       "<IPython.core.display.HTML object>"
      ]
     },
     "metadata": {},
     "output_type": "display_data"
    },
    {
     "name": "stdout",
     "output_type": "stream",
     "text": [
      "##### [014] NO ENTITY FOUND IN THIS SENTENCE :Sa femme y mourut d'une maladie de poitrine dont elle était atteinte depuis longtemps.\n",
      "##### [015] NO ENTITY FOUND IN THIS SENTENCE :Ils n'avaient point d'enfants.\n",
      "##### [016] ENTITY FOUND IN THIS SENTENCE :\n"
     ]
    },
    {
     "data": {
      "text/html": [
       "<span class=\"tex2jax_ignore\"><div class=\"entities\" style=\"line-height: 2.5; direction: ltr\">Que se passa-t-il ensuite dans la destinée de M. \n",
       "<mark class=\"entity\" style=\"background: #ff9561; padding: 0.45em 0.6em; margin: 0 0.25em; line-height: 1; border-radius: 0.35em;\">\n",
       "    Myriel\n",
       "    <span style=\"font-size: 0.8em; font-weight: bold; line-height: 1; border-radius: 0.35em; vertical-align: middle; margin-left: 0.5rem\">LOC</span>\n",
       "</mark>\n",
       "?</div></span>"
      ],
      "text/plain": [
       "<IPython.core.display.HTML object>"
      ]
     },
     "metadata": {},
     "output_type": "display_data"
    },
    {
     "name": "stdout",
     "output_type": "stream",
     "text": [
      "##### [017] NO ENTITY FOUND IN THIS SENTENCE :L'écroulement de l'ancienne société française, la chute de sa propre famille, les tragiques spectacles de 93, plus effrayants encore peut-être pour les émigrés qui les voyaient de loin avec le grossissement de l'épouvante, firent-ils germer en lui des idées de renoncement et de solitude?\n",
      "##### [018] ENTITY FOUND IN THIS SENTENCE :\n"
     ]
    },
    {
     "data": {
      "text/html": [
       "<span class=\"tex2jax_ignore\"><div class=\"entities\" style=\"line-height: 2.5; direction: ltr\">\n",
       "<mark class=\"entity\" style=\"background: #ddd; padding: 0.45em 0.6em; margin: 0 0.25em; line-height: 1; border-radius: 0.35em;\">\n",
       "    Fut\n",
       "    <span style=\"font-size: 0.8em; font-weight: bold; line-height: 1; border-radius: 0.35em; vertical-align: middle; margin-left: 0.5rem\">PER</span>\n",
       "</mark>\n",
       "-il, au milieu d'une de ces distractions et de ces affections qui occupaient sa vie, subitement atteint d'un de ces coups mystérieux et terribles qui viennent quelquefois renverser, en le frappant au coeur, l'homme que les catastrophes publiques n'ébranleraient pas en le frappant dans son existence et dans sa fortune?</div></span>"
      ],
      "text/plain": [
       "<IPython.core.display.HTML object>"
      ]
     },
     "metadata": {},
     "output_type": "display_data"
    },
    {
     "name": "stdout",
     "output_type": "stream",
     "text": [
      "##### [019] NO ENTITY FOUND IN THIS SENTENCE :Nul n'aurait pu le dire;\n",
      "##### [020] ENTITY FOUND IN THIS SENTENCE :\n"
     ]
    },
    {
     "data": {
      "text/html": [
       "<span class=\"tex2jax_ignore\"><div class=\"entities\" style=\"line-height: 2.5; direction: ltr\">tout ce qu'on savait, c'est que, lorsqu'il revint \n",
       "<mark class=\"entity\" style=\"background: #ff9561; padding: 0.45em 0.6em; margin: 0 0.25em; line-height: 1; border-radius: 0.35em;\">\n",
       "    d'Italie\n",
       "    <span style=\"font-size: 0.8em; font-weight: bold; line-height: 1; border-radius: 0.35em; vertical-align: middle; margin-left: 0.5rem\">LOC</span>\n",
       "</mark>\n",
       ", il était prêtre.</div></span>"
      ],
      "text/plain": [
       "<IPython.core.display.HTML object>"
      ]
     },
     "metadata": {},
     "output_type": "display_data"
    },
    {
     "name": "stdout",
     "output_type": "stream",
     "text": [
      "##### [021] NO ENTITY FOUND IN THIS SENTENCE : \n",
      "##### [022] ENTITY FOUND IN THIS SENTENCE :\n"
     ]
    },
    {
     "data": {
      "text/html": [
       "<span class=\"tex2jax_ignore\"><div class=\"entities\" style=\"line-height: 2.5; direction: ltr\">En 1804, M. \n",
       "<mark class=\"entity\" style=\"background: #ff9561; padding: 0.45em 0.6em; margin: 0 0.25em; line-height: 1; border-radius: 0.35em;\">\n",
       "    Myriel\n",
       "    <span style=\"font-size: 0.8em; font-weight: bold; line-height: 1; border-radius: 0.35em; vertical-align: middle; margin-left: 0.5rem\">LOC</span>\n",
       "</mark>\n",
       " était curé de \n",
       "<mark class=\"entity\" style=\"background: #ff9561; padding: 0.45em 0.6em; margin: 0 0.25em; line-height: 1; border-radius: 0.35em;\">\n",
       "    Brignolles\n",
       "    <span style=\"font-size: 0.8em; font-weight: bold; line-height: 1; border-radius: 0.35em; vertical-align: middle; margin-left: 0.5rem\">LOC</span>\n",
       "</mark>\n",
       ".</div></span>"
      ],
      "text/plain": [
       "<IPython.core.display.HTML object>"
      ]
     },
     "metadata": {},
     "output_type": "display_data"
    },
    {
     "name": "stdout",
     "output_type": "stream",
     "text": [
      "##### [023] NO ENTITY FOUND IN THIS SENTENCE :Il était déjà vieux, et vivait dans une retraite profonde.\n",
      "##### [024] NO ENTITY FOUND IN THIS SENTENCE : \n",
      "##### [025] ENTITY FOUND IN THIS SENTENCE :\n"
     ]
    },
    {
     "data": {
      "text/html": [
       "<span class=\"tex2jax_ignore\"><div class=\"entities\" style=\"line-height: 2.5; direction: ltr\">Vers l'époque du couronnement, une petite affaire de sa cure, on ne sait plus trop quoi, l'amena à \n",
       "<mark class=\"entity\" style=\"background: #ff9561; padding: 0.45em 0.6em; margin: 0 0.25em; line-height: 1; border-radius: 0.35em;\">\n",
       "    Paris\n",
       "    <span style=\"font-size: 0.8em; font-weight: bold; line-height: 1; border-radius: 0.35em; vertical-align: middle; margin-left: 0.5rem\">LOC</span>\n",
       "</mark>\n",
       ".</div></span>"
      ],
      "text/plain": [
       "<IPython.core.display.HTML object>"
      ]
     },
     "metadata": {},
     "output_type": "display_data"
    },
    {
     "name": "stdout",
     "output_type": "stream",
     "text": [
      "##### [026] ENTITY FOUND IN THIS SENTENCE :\n"
     ]
    },
    {
     "data": {
      "text/html": [
       "<span class=\"tex2jax_ignore\"><div class=\"entities\" style=\"line-height: 2.5; direction: ltr\">Entre autres personnes puissantes, il alla solliciter pour ses paroissiens \n",
       "<mark class=\"entity\" style=\"background: #ddd; padding: 0.45em 0.6em; margin: 0 0.25em; line-height: 1; border-radius: 0.35em;\">\n",
       "    M.\n",
       "    <span style=\"font-size: 0.8em; font-weight: bold; line-height: 1; border-radius: 0.35em; vertical-align: middle; margin-left: 0.5rem\">PER</span>\n",
       "</mark>\n",
       " le cardinal Fesch.</div></span>"
      ],
      "text/plain": [
       "<IPython.core.display.HTML object>"
      ]
     },
     "metadata": {},
     "output_type": "display_data"
    },
    {
     "name": "stdout",
     "output_type": "stream",
     "text": [
      "##### [027] NO ENTITY FOUND IN THIS SENTENCE :Un jour que l'empereur était venu faire visite à son oncle, le digne curé, qui attendait dans l'antichambre, se trouva sur le passage de sa majesté.\n",
      "##### [028] ENTITY FOUND IN THIS SENTENCE :\n"
     ]
    },
    {
     "data": {
      "text/html": [
       "<span class=\"tex2jax_ignore\"><div class=\"entities\" style=\"line-height: 2.5; direction: ltr\">\n",
       "<mark class=\"entity\" style=\"background: #ddd; padding: 0.45em 0.6em; margin: 0 0.25em; line-height: 1; border-radius: 0.35em;\">\n",
       "    Napoléon\n",
       "    <span style=\"font-size: 0.8em; font-weight: bold; line-height: 1; border-radius: 0.35em; vertical-align: middle; margin-left: 0.5rem\">PER</span>\n",
       "</mark>\n",
       ", se voyant regardé avec une certaine curiosité par ce vieillard, se retourna, et dit brusquement:  --Quel est ce bonhomme qui me regarde?</div></span>"
      ],
      "text/plain": [
       "<IPython.core.display.HTML object>"
      ]
     },
     "metadata": {},
     "output_type": "display_data"
    },
    {
     "name": "stdout",
     "output_type": "stream",
     "text": [
      "##### [029] ENTITY FOUND IN THIS SENTENCE :\n"
     ]
    },
    {
     "data": {
      "text/html": [
       "<span class=\"tex2jax_ignore\"><div class=\"entities\" style=\"line-height: 2.5; direction: ltr\"> --Sire, dit M. \n",
       "<mark class=\"entity\" style=\"background: #ff9561; padding: 0.45em 0.6em; margin: 0 0.25em; line-height: 1; border-radius: 0.35em;\">\n",
       "    Myriel\n",
       "    <span style=\"font-size: 0.8em; font-weight: bold; line-height: 1; border-radius: 0.35em; vertical-align: middle; margin-left: 0.5rem\">LOC</span>\n",
       "</mark>\n",
       ", vous regardez un bonhomme, et moi je regarde un grand homme.</div></span>"
      ],
      "text/plain": [
       "<IPython.core.display.HTML object>"
      ]
     },
     "metadata": {},
     "output_type": "display_data"
    },
    {
     "name": "stdout",
     "output_type": "stream",
     "text": [
      "##### [030] NO ENTITY FOUND IN THIS SENTENCE :Chacun de nous peut profiter.\n",
      "##### [031] NO ENTITY FOUND IN THIS SENTENCE : \n",
      "##### [032] ENTITY FOUND IN THIS SENTENCE :\n"
     ]
    },
    {
     "data": {
      "text/html": [
       "<span class=\"tex2jax_ignore\"><div class=\"entities\" style=\"line-height: 2.5; direction: ltr\">L'empereur, le soir même, demanda au cardinal le nom de ce curé, et quelque temps après \n",
       "<mark class=\"entity\" style=\"background: #ddd; padding: 0.45em 0.6em; margin: 0 0.25em; line-height: 1; border-radius: 0.35em;\">\n",
       "    M.\n",
       "    <span style=\"font-size: 0.8em; font-weight: bold; line-height: 1; border-radius: 0.35em; vertical-align: middle; margin-left: 0.5rem\">PER</span>\n",
       "</mark>\n",
       " \n",
       "<mark class=\"entity\" style=\"background: #ff9561; padding: 0.45em 0.6em; margin: 0 0.25em; line-height: 1; border-radius: 0.35em;\">\n",
       "    Myriel\n",
       "    <span style=\"font-size: 0.8em; font-weight: bold; line-height: 1; border-radius: 0.35em; vertical-align: middle; margin-left: 0.5rem\">LOC</span>\n",
       "</mark>\n",
       " fut tout surpris d'apprendre qu'il était nommé évêque de \n",
       "<mark class=\"entity\" style=\"background: #ff9561; padding: 0.45em 0.6em; margin: 0 0.25em; line-height: 1; border-radius: 0.35em;\">\n",
       "    Digne\n",
       "    <span style=\"font-size: 0.8em; font-weight: bold; line-height: 1; border-radius: 0.35em; vertical-align: middle; margin-left: 0.5rem\">LOC</span>\n",
       "</mark>\n",
       ".</div></span>"
      ],
      "text/plain": [
       "<IPython.core.display.HTML object>"
      ]
     },
     "metadata": {},
     "output_type": "display_data"
    },
    {
     "name": "stdout",
     "output_type": "stream",
     "text": [
      "##### [033] NO ENTITY FOUND IN THIS SENTENCE : \n",
      "##### [034] ENTITY FOUND IN THIS SENTENCE :\n"
     ]
    },
    {
     "data": {
      "text/html": [
       "<span class=\"tex2jax_ignore\"><div class=\"entities\" style=\"line-height: 2.5; direction: ltr\">Qu'y avait-il de vrai, du reste, dans les récits qu'on faisait sur la première partie de la vie de M. \n",
       "<mark class=\"entity\" style=\"background: #ff9561; padding: 0.45em 0.6em; margin: 0 0.25em; line-height: 1; border-radius: 0.35em;\">\n",
       "    Myriel\n",
       "    <span style=\"font-size: 0.8em; font-weight: bold; line-height: 1; border-radius: 0.35em; vertical-align: middle; margin-left: 0.5rem\">LOC</span>\n",
       "</mark>\n",
       "?</div></span>"
      ],
      "text/plain": [
       "<IPython.core.display.HTML object>"
      ]
     },
     "metadata": {},
     "output_type": "display_data"
    },
    {
     "name": "stdout",
     "output_type": "stream",
     "text": [
      "##### [035] NO ENTITY FOUND IN THIS SENTENCE :Personne ne le savait.\n",
      "##### [036] ENTITY FOUND IN THIS SENTENCE :\n"
     ]
    },
    {
     "data": {
      "text/html": [
       "<span class=\"tex2jax_ignore\"><div class=\"entities\" style=\"line-height: 2.5; direction: ltr\">Peu de familles avaient connu la famille \n",
       "<mark class=\"entity\" style=\"background: #ff9561; padding: 0.45em 0.6em; margin: 0 0.25em; line-height: 1; border-radius: 0.35em;\">\n",
       "    Myriel\n",
       "    <span style=\"font-size: 0.8em; font-weight: bold; line-height: 1; border-radius: 0.35em; vertical-align: middle; margin-left: 0.5rem\">LOC</span>\n",
       "</mark>\n",
       " avant la révolution.</div></span>"
      ],
      "text/plain": [
       "<IPython.core.display.HTML object>"
      ]
     },
     "metadata": {},
     "output_type": "display_data"
    },
    {
     "name": "stdout",
     "output_type": "stream",
     "text": [
      "##### [037] ENTITY FOUND IN THIS SENTENCE :\n"
     ]
    },
    {
     "data": {
      "text/html": [
       "<span class=\"tex2jax_ignore\"><div class=\"entities\" style=\"line-height: 2.5; direction: ltr\"> M. \n",
       "<mark class=\"entity\" style=\"background: #ff9561; padding: 0.45em 0.6em; margin: 0 0.25em; line-height: 1; border-radius: 0.35em;\">\n",
       "    Myriel\n",
       "    <span style=\"font-size: 0.8em; font-weight: bold; line-height: 1; border-radius: 0.35em; vertical-align: middle; margin-left: 0.5rem\">LOC</span>\n",
       "</mark>\n",
       " devait subir le sort de tout nouveau venu dans une petite ville où il y a beaucoup de bouches qui parlent et fort peu de têtes qui pensent.</div></span>"
      ],
      "text/plain": [
       "<IPython.core.display.HTML object>"
      ]
     },
     "metadata": {},
     "output_type": "display_data"
    },
    {
     "name": "stdout",
     "output_type": "stream",
     "text": [
      "##### [038] NO ENTITY FOUND IN THIS SENTENCE :Il devait le subir, quoiqu'il fût évêque et parce qu'il était évêque.\n",
      "##### [039] NO ENTITY FOUND IN THIS SENTENCE :Mais, après tout, les propos auxquels on mêlait son nom n'étaient peut-être que des propos; du bruit, des mots, des paroles;\n",
      "##### [040] NO ENTITY FOUND IN THIS SENTENCE :moins que des paroles, des _palabres_, comme dit l'énergique langue du midi.\n",
      "##### [041] ENTITY FOUND IN THIS SENTENCE :\n"
     ]
    },
    {
     "data": {
      "text/html": [
       "<span class=\"tex2jax_ignore\"><div class=\"entities\" style=\"line-height: 2.5; direction: ltr\"> Quoi qu'il en fût, après neuf ans d'épiscopat et de résidence à \n",
       "<mark class=\"entity\" style=\"background: #ff9561; padding: 0.45em 0.6em; margin: 0 0.25em; line-height: 1; border-radius: 0.35em;\">\n",
       "    Digne\n",
       "    <span style=\"font-size: 0.8em; font-weight: bold; line-height: 1; border-radius: 0.35em; vertical-align: middle; margin-left: 0.5rem\">LOC</span>\n",
       "</mark>\n",
       ", tous ces racontages, sujets de conversation qui occupent dans le premier moment les petites villes et les petites gens, étaient tombés dans un oubli profond.</div></span>"
      ],
      "text/plain": [
       "<IPython.core.display.HTML object>"
      ]
     },
     "metadata": {},
     "output_type": "display_data"
    },
    {
     "name": "stdout",
     "output_type": "stream",
     "text": [
      "##### [042] NO ENTITY FOUND IN THIS SENTENCE :Personne n'eût osé en parler, personne n'eût même osé s'en souvenir.\n",
      "##### [043] ENTITY FOUND IN THIS SENTENCE :\n"
     ]
    },
    {
     "data": {
      "text/html": [
       "<span class=\"tex2jax_ignore\"><div class=\"entities\" style=\"line-height: 2.5; direction: ltr\"> M. \n",
       "<mark class=\"entity\" style=\"background: #ff9561; padding: 0.45em 0.6em; margin: 0 0.25em; line-height: 1; border-radius: 0.35em;\">\n",
       "    Myriel\n",
       "    <span style=\"font-size: 0.8em; font-weight: bold; line-height: 1; border-radius: 0.35em; vertical-align: middle; margin-left: 0.5rem\">LOC</span>\n",
       "</mark>\n",
       " était arrivé à \n",
       "<mark class=\"entity\" style=\"background: #ff9561; padding: 0.45em 0.6em; margin: 0 0.25em; line-height: 1; border-radius: 0.35em;\">\n",
       "    Digne\n",
       "    <span style=\"font-size: 0.8em; font-weight: bold; line-height: 1; border-radius: 0.35em; vertical-align: middle; margin-left: 0.5rem\">LOC</span>\n",
       "</mark>\n",
       " accompagné d'une vieille fille, mademoiselle \n",
       "<mark class=\"entity\" style=\"background: #ff9561; padding: 0.45em 0.6em; margin: 0 0.25em; line-height: 1; border-radius: 0.35em;\">\n",
       "    Baptistine\n",
       "    <span style=\"font-size: 0.8em; font-weight: bold; line-height: 1; border-radius: 0.35em; vertical-align: middle; margin-left: 0.5rem\">LOC</span>\n",
       "</mark>\n",
       ", qui était sa soeur et qui avait dix ans de moins que lui.</div></span>"
      ],
      "text/plain": [
       "<IPython.core.display.HTML object>"
      ]
     },
     "metadata": {},
     "output_type": "display_data"
    },
    {
     "name": "stdout",
     "output_type": "stream",
     "text": [
      "##### [044] ENTITY FOUND IN THIS SENTENCE :\n"
     ]
    },
    {
     "data": {
      "text/html": [
       "<span class=\"tex2jax_ignore\"><div class=\"entities\" style=\"line-height: 2.5; direction: ltr\"> Ils avaient pour tout domestique une servante du même âge que mademoiselle \n",
       "<mark class=\"entity\" style=\"background: #ff9561; padding: 0.45em 0.6em; margin: 0 0.25em; line-height: 1; border-radius: 0.35em;\">\n",
       "    Baptistine\n",
       "    <span style=\"font-size: 0.8em; font-weight: bold; line-height: 1; border-radius: 0.35em; vertical-align: middle; margin-left: 0.5rem\">LOC</span>\n",
       "</mark>\n",
       ", et appelée madame \n",
       "<mark class=\"entity\" style=\"background: #ddd; padding: 0.45em 0.6em; margin: 0 0.25em; line-height: 1; border-radius: 0.35em;\">\n",
       "    Magloire\n",
       "    <span style=\"font-size: 0.8em; font-weight: bold; line-height: 1; border-radius: 0.35em; vertical-align: middle; margin-left: 0.5rem\">PER</span>\n",
       "</mark>\n",
       ", laquelle, après avoir été _la servante de \n",
       "<mark class=\"entity\" style=\"background: #ddd; padding: 0.45em 0.6em; margin: 0 0.25em; line-height: 1; border-radius: 0.35em;\">\n",
       "    M. le Curé\n",
       "    <span style=\"font-size: 0.8em; font-weight: bold; line-height: 1; border-radius: 0.35em; vertical-align: middle; margin-left: 0.5rem\">PER</span>\n",
       "</mark>\n",
       "_, prenait maintenant le double titre de femme de chambre de mademoiselle et femme de charge de monseigneur.</div></span>"
      ],
      "text/plain": [
       "<IPython.core.display.HTML object>"
      ]
     },
     "metadata": {},
     "output_type": "display_data"
    },
    {
     "name": "stdout",
     "output_type": "stream",
     "text": [
      "##### [045] ENTITY FOUND IN THIS SENTENCE :\n"
     ]
    },
    {
     "data": {
      "text/html": [
       "<span class=\"tex2jax_ignore\"><div class=\"entities\" style=\"line-height: 2.5; direction: ltr\"> \n",
       "<mark class=\"entity\" style=\"background: #ddd; padding: 0.45em 0.6em; margin: 0 0.25em; line-height: 1; border-radius: 0.35em;\">\n",
       "    Mademoiselle Baptistine\n",
       "    <span style=\"font-size: 0.8em; font-weight: bold; line-height: 1; border-radius: 0.35em; vertical-align: middle; margin-left: 0.5rem\">PER</span>\n",
       "</mark>\n",
       " était une personne longue, pâle, mince, douce;</div></span>"
      ],
      "text/plain": [
       "<IPython.core.display.HTML object>"
      ]
     },
     "metadata": {},
     "output_type": "display_data"
    },
    {
     "name": "stdout",
     "output_type": "stream",
     "text": [
      "##### [046] NO ENTITY FOUND IN THIS SENTENCE :elle réalisait l'idéal de ce qu'exprime le mot «respectable»;\n",
      "##### [047] NO ENTITY FOUND IN THIS SENTENCE :car il semble qu'il soit nécessaire qu'une femme soit mère pour être vénérable.\n",
      "##### [048] NO ENTITY FOUND IN THIS SENTENCE :Elle n'avait jamais été jolie;\n",
      "##### [049] NO ENTITY FOUND IN THIS SENTENCE :toute sa vie, qui n'avait été qu'une suite de saintes oeuvres, avait fini par mettre sur elle une sorte de blancheur et de clarté;\n",
      "##### [050] NO ENTITY FOUND IN THIS SENTENCE :et, en vieillissant, elle avait gagné ce qu'on pourrait appeler la beauté de la bonté.\n",
      "##### [051] NO ENTITY FOUND IN THIS SENTENCE :Ce qui avait été de la maigreur dans sa jeunesse était devenu, dans sa maturité, de la transparence;\n",
      "##### [052] NO ENTITY FOUND IN THIS SENTENCE :et cette diaphanéité laissait voir l'ange.\n",
      "##### [053] NO ENTITY FOUND IN THIS SENTENCE :C'était une âme plus encore que ce n'était une vierge.\n",
      "##### [054] NO ENTITY FOUND IN THIS SENTENCE :Sa personne semblait faite d'ombre;\n",
      "##### [055] NO ENTITY FOUND IN THIS SENTENCE :à peine assez de corps pour qu'il y eût là un sexe;\n",
      "##### [056] NO ENTITY FOUND IN THIS SENTENCE :un peu de matière contenant une lueur; de grands yeux toujours baissés;\n",
      "##### [057] NO ENTITY FOUND IN THIS SENTENCE :un prétexte pour qu'une âme reste sur la terre.\n",
      "##### [058] NO ENTITY FOUND IN THIS SENTENCE : \n",
      "##### [059] ENTITY FOUND IN THIS SENTENCE :\n"
     ]
    },
    {
     "data": {
      "text/html": [
       "<span class=\"tex2jax_ignore\"><div class=\"entities\" style=\"line-height: 2.5; direction: ltr\">\n",
       "<mark class=\"entity\" style=\"background: #ddd; padding: 0.45em 0.6em; margin: 0 0.25em; line-height: 1; border-radius: 0.35em;\">\n",
       "    Madame Magloire\n",
       "    <span style=\"font-size: 0.8em; font-weight: bold; line-height: 1; border-radius: 0.35em; vertical-align: middle; margin-left: 0.5rem\">PER</span>\n",
       "</mark>\n",
       " était une petite vieille, blanche, grasse, replète, affairée, toujours haletante, à cause de son activité d'abord, ensuite à cause d'un asthme.</div></span>"
      ],
      "text/plain": [
       "<IPython.core.display.HTML object>"
      ]
     },
     "metadata": {},
     "output_type": "display_data"
    },
    {
     "name": "stdout",
     "output_type": "stream",
     "text": [
      "##### [060] ENTITY FOUND IN THIS SENTENCE :\n"
     ]
    },
    {
     "data": {
      "text/html": [
       "<span class=\"tex2jax_ignore\"><div class=\"entities\" style=\"line-height: 2.5; direction: ltr\"> À son arrivée, on installa M. \n",
       "<mark class=\"entity\" style=\"background: #ff9561; padding: 0.45em 0.6em; margin: 0 0.25em; line-height: 1; border-radius: 0.35em;\">\n",
       "    Myriel\n",
       "    <span style=\"font-size: 0.8em; font-weight: bold; line-height: 1; border-radius: 0.35em; vertical-align: middle; margin-left: 0.5rem\">LOC</span>\n",
       "</mark>\n",
       " en son palais épiscopal avec les honneurs voulus par les décrets impériaux qui classent l'évêque immédiatement après le maréchal de camp.</div></span>"
      ],
      "text/plain": [
       "<IPython.core.display.HTML object>"
      ]
     },
     "metadata": {},
     "output_type": "display_data"
    },
    {
     "name": "stdout",
     "output_type": "stream",
     "text": [
      "##### [061] NO ENTITY FOUND IN THIS SENTENCE :Le maire et le président lui firent la première visite, et lui de son côté fit la première visite au général et au préfet.\n",
      "##### [062] NO ENTITY FOUND IN THIS SENTENCE : \n",
      "##### [063] NO ENTITY FOUND IN THIS SENTENCE :L'installation terminée, la ville attendit son évêque à l'oeuvre.\n",
      "##### [064] NO ENTITY FOUND IN THIS SENTENCE :   \n"
     ]
    }
   ],
   "source": [
    "def print_entities_in_sentence(spacy_doc):\n",
    "    for i,sentence in enumerate(spacy_doc.sents):\n",
    "        phrase = nlp(sentence.text)\n",
    "        if phrase.ents:\n",
    "            print(f'##### [{i:0>{3}}] ENTITY FOUND IN THIS SENTENCE :')\n",
    "            displacy.render(phrase, style='ent', jupyter=True)\n",
    "        else:\n",
    "            print(f'##### [{i:0>{3}}] NO ENTITY FOUND IN THIS SENTENCE :{phrase.text}')\n",
    "        \n",
    "print_entities_in_sentence(doc)\n",
    "    "
   ]
  },
  {
   "cell_type": "markdown",
   "id": "exceptional-rehabilitation",
   "metadata": {},
   "source": [
    "### Adding a Named Entity to a Span"
   ]
  },
  {
   "cell_type": "code",
   "execution_count": 8,
   "id": "rotary-italy",
   "metadata": {},
   "outputs": [
    {
     "name": "stdout",
     "output_type": "stream",
     "text": [
      "new_entities.append(Span(doc,308,309, label=PER))\n",
      "new_entities.append(Span(doc,455,456, label=PER))\n",
      "new_entities.append(Span(doc,581,582, label=PER))\n",
      "new_entities.append(Span(doc,624,625, label=PER))\n",
      "new_entities.append(Span(doc,664,665, label=PER))\n",
      "new_entities.append(Span(doc,678,679, label=PER))\n",
      "new_entities.append(Span(doc,685,686, label=PER))\n",
      "new_entities.append(Span(doc,841,842, label=PER))\n",
      "new_entities.append(Span(doc,1150,1151, label=PER))\n"
     ]
    }
   ],
   "source": [
    "# let's generate the code and store entities to remove\n",
    "entities_to_remove = []\n",
    "for e in doc.ents:\n",
    "    if e.label_ == 'LOC' and e.text == 'Myriel':\n",
    "        entities_to_remove.append(e)\n",
    "        print(f'new_entities.append(Span(doc,{e.start:{3}},{e.end:{3}}, label=PER))')"
   ]
  },
  {
   "cell_type": "code",
   "execution_count": 9,
   "id": "amber-conflict",
   "metadata": {},
   "outputs": [],
   "source": [
    "#let's remove the 'bad' Myriel POS entities\n",
    "doc.ents = [e for e in doc.ents if e not in entities_to_remove]"
   ]
  },
  {
   "cell_type": "code",
   "execution_count": 10,
   "id": "specific-convergence",
   "metadata": {},
   "outputs": [],
   "source": [
    "# Get the hash value of the ORG entity label\n",
    "PER = doc.vocab.strings[u'PER']  \n",
    "new_entities = []\n",
    "new_entities.append\n",
    "# Create a Span for the new entity and add it to the list\n",
    "new_entities.append(Span(doc,308,309, label=PER))\n",
    "new_entities.append(Span(doc,455,456, label=PER))\n",
    "new_entities.append(Span(doc,581,582, label=PER))\n",
    "new_entities.append(Span(doc,624,625, label=PER))\n",
    "new_entities.append(Span(doc,664,665, label=PER))\n",
    "new_entities.append(Span(doc,678,679, label=PER))\n",
    "# let'signore some of them on purpose\n",
    "# new_entities.append(Span(doc,685,686, label=PER))\n",
    "# new_entities.append(Span(doc,841,842, label=PER))\n",
    "# new_entities.append(Span(doc,1150,1151, label=PER))\n",
    "\n",
    "# Add the entity to the existing Doc object\n",
    "doc.ents = list(doc.ents) + new_entities"
   ]
  },
  {
   "cell_type": "code",
   "execution_count": 11,
   "id": "guilty-right",
   "metadata": {},
   "outputs": [
    {
     "name": "stdout",
     "output_type": "stream",
     "text": [
      "Charles                   PER        Named person or family.                 \n",
      "François                  PER        Named person or family.                 \n",
      "Bienvenu Myriel           PER        Named person or family.                 \n",
      "Digne                     LOC        Non-GPE locations, mountain ranges, bodies of water\n",
      "Digne                     LOC        Non-GPE locations, mountain ranges, bodies of water\n",
      "Vrai                      LOC        Non-GPE locations, mountain ranges, bodies of water\n",
      "Myriel                    PER        Named person or family.                 \n",
      "parlement d'Aix           MISC       Miscellaneous entities, e.g. events, nationalities, products or works of art\n",
      "Charles Myriel            PER        Named person or family.                 \n",
      "Charles Myriel            PER        Named person or family.                 \n",
      "Italie                    LOC        Non-GPE locations, mountain ranges, bodies of water\n",
      "Myriel                    PER        Named person or family.                 \n",
      "Fut                       PER        Named person or family.                 \n",
      "d'Italie                  LOC        Non-GPE locations, mountain ranges, bodies of water\n",
      "Myriel                    PER        Named person or family.                 \n",
      "Brignolles                LOC        Non-GPE locations, mountain ranges, bodies of water\n",
      "Paris                     LOC        Non-GPE locations, mountain ranges, bodies of water\n",
      "M.                        PER        Named person or family.                 \n",
      "Napoléon                  PER        Named person or family.                 \n",
      "Myriel                    PER        Named person or family.                 \n",
      "L'empereur                PER        Named person or family.                 \n",
      "M.                        PER        Named person or family.                 \n",
      "Myriel                    PER        Named person or family.                 \n",
      "Digne                     LOC        Non-GPE locations, mountain ranges, bodies of water\n",
      "Qu'                       MISC       Miscellaneous entities, e.g. events, nationalities, products or works of art\n",
      "Myriel                    PER        Named person or family.                 \n",
      "Myriel                    PER        Named person or family.                 \n",
      "Digne                     LOC        Non-GPE locations, mountain ranges, bodies of water\n",
      "Digne                     LOC        Non-GPE locations, mountain ranges, bodies of water\n",
      "Baptistine                LOC        Non-GPE locations, mountain ranges, bodies of water\n",
      "Baptistine                LOC        Non-GPE locations, mountain ranges, bodies of water\n",
      "Magloire                  PER        Named person or family.                 \n",
      "M. le Curé                PER        Named person or family.                 \n",
      "Mademoiselle Baptistine   PER        Named person or family.                 \n",
      "Madame Magloire           PER        Named person or family.                 \n"
     ]
    }
   ],
   "source": [
    "for e in doc.ents:\n",
    "    print(f'{e.text:{25}} {e.label_:{10}} {spacy.explain(e.label_):{40}}')"
   ]
  },
  {
   "cell_type": "markdown",
   "id": "quarterly-blogger",
   "metadata": {},
   "source": [
    "there is a couple of Myriel that where not found by the end of the text"
   ]
  },
  {
   "cell_type": "code",
   "execution_count": 12,
   "id": "systematic-distance",
   "metadata": {},
   "outputs": [
    {
     "data": {
      "text/html": [
       "<span class=\"tex2jax_ignore\"><div class=\"entities\" style=\"line-height: 2.5; direction: ltr\"> Monsieur Myriel   En 1815, M. \n",
       "<mark class=\"entity\" style=\"background: #ddd; padding: 0.45em 0.6em; margin: 0 0.25em; line-height: 1; border-radius: 0.35em;\">\n",
       "    Charles\n",
       "    <span style=\"font-size: 0.8em; font-weight: bold; line-height: 1; border-radius: 0.35em; vertical-align: middle; margin-left: 0.5rem\">PER</span>\n",
       "</mark>\n",
       "-\n",
       "<mark class=\"entity\" style=\"background: #ddd; padding: 0.45em 0.6em; margin: 0 0.25em; line-height: 1; border-radius: 0.35em;\">\n",
       "    François\n",
       "    <span style=\"font-size: 0.8em; font-weight: bold; line-height: 1; border-radius: 0.35em; vertical-align: middle; margin-left: 0.5rem\">PER</span>\n",
       "</mark>\n",
       "-\n",
       "<mark class=\"entity\" style=\"background: #ddd; padding: 0.45em 0.6em; margin: 0 0.25em; line-height: 1; border-radius: 0.35em;\">\n",
       "    Bienvenu Myriel\n",
       "    <span style=\"font-size: 0.8em; font-weight: bold; line-height: 1; border-radius: 0.35em; vertical-align: middle; margin-left: 0.5rem\">PER</span>\n",
       "</mark>\n",
       " était évêque de \n",
       "<mark class=\"entity\" style=\"background: #ff9561; padding: 0.45em 0.6em; margin: 0 0.25em; line-height: 1; border-radius: 0.35em;\">\n",
       "    Digne\n",
       "    <span style=\"font-size: 0.8em; font-weight: bold; line-height: 1; border-radius: 0.35em; vertical-align: middle; margin-left: 0.5rem\">LOC</span>\n",
       "</mark>\n",
       ". C'était un vieillard d'environ soixante-quinze ans; il occupait le siège de \n",
       "<mark class=\"entity\" style=\"background: #ff9561; padding: 0.45em 0.6em; margin: 0 0.25em; line-height: 1; border-radius: 0.35em;\">\n",
       "    Digne\n",
       "    <span style=\"font-size: 0.8em; font-weight: bold; line-height: 1; border-radius: 0.35em; vertical-align: middle; margin-left: 0.5rem\">LOC</span>\n",
       "</mark>\n",
       " depuis 1806.  Quoique ce détail ne touche en aucune manière au fond même de ce que nous avons à raconter, il n'est peut-être pas inutile, ne fût-ce que pour être exact en tout, d'indiquer ici les bruits et les propos qui avaient couru sur son compte au moment où il était arrivé dans le diocèse. \n",
       "<mark class=\"entity\" style=\"background: #ff9561; padding: 0.45em 0.6em; margin: 0 0.25em; line-height: 1; border-radius: 0.35em;\">\n",
       "    Vrai\n",
       "    <span style=\"font-size: 0.8em; font-weight: bold; line-height: 1; border-radius: 0.35em; vertical-align: middle; margin-left: 0.5rem\">LOC</span>\n",
       "</mark>\n",
       " ou faux, ce qu'on dit des hommes tient souvent autant de place dans leur vie et surtout dans leur destinée que ce qu'ils font. M. \n",
       "<mark class=\"entity\" style=\"background: #ddd; padding: 0.45em 0.6em; margin: 0 0.25em; line-height: 1; border-radius: 0.35em;\">\n",
       "    Myriel\n",
       "    <span style=\"font-size: 0.8em; font-weight: bold; line-height: 1; border-radius: 0.35em; vertical-align: middle; margin-left: 0.5rem\">PER</span>\n",
       "</mark>\n",
       " était fils d'un conseiller au \n",
       "<mark class=\"entity\" style=\"background: #ddd; padding: 0.45em 0.6em; margin: 0 0.25em; line-height: 1; border-radius: 0.35em;\">\n",
       "    parlement d'Aix\n",
       "    <span style=\"font-size: 0.8em; font-weight: bold; line-height: 1; border-radius: 0.35em; vertical-align: middle; margin-left: 0.5rem\">MISC</span>\n",
       "</mark>\n",
       "; noblesse de robe. On contait de lui que son père, le réservant pour hériter de sa charge, l'avait marié de fort bonne heure, à dix-huit ou vingt ans, suivant un usage assez répandu dans les familles parlementaires. \n",
       "<mark class=\"entity\" style=\"background: #ddd; padding: 0.45em 0.6em; margin: 0 0.25em; line-height: 1; border-radius: 0.35em;\">\n",
       "    Charles Myriel\n",
       "    <span style=\"font-size: 0.8em; font-weight: bold; line-height: 1; border-radius: 0.35em; vertical-align: middle; margin-left: 0.5rem\">PER</span>\n",
       "</mark>\n",
       ", nonobstant ce mariage, avait, disait-on, beaucoup fait parler de lui. Il était bien fait de sa personne, quoique d'assez petite taille, élégant, gracieux, spirituel; toute la première partie de sa vie avait été donnée au monde et aux galanteries. La révolution survint, les événements se précipitèrent, les familles parlementaires décimées, chassées, traquées, se dispersèrent. M. \n",
       "<mark class=\"entity\" style=\"background: #ddd; padding: 0.45em 0.6em; margin: 0 0.25em; line-height: 1; border-radius: 0.35em;\">\n",
       "    Charles Myriel\n",
       "    <span style=\"font-size: 0.8em; font-weight: bold; line-height: 1; border-radius: 0.35em; vertical-align: middle; margin-left: 0.5rem\">PER</span>\n",
       "</mark>\n",
       ", dès les premiers jours de la révolution, émigra en \n",
       "<mark class=\"entity\" style=\"background: #ff9561; padding: 0.45em 0.6em; margin: 0 0.25em; line-height: 1; border-radius: 0.35em;\">\n",
       "    Italie\n",
       "    <span style=\"font-size: 0.8em; font-weight: bold; line-height: 1; border-radius: 0.35em; vertical-align: middle; margin-left: 0.5rem\">LOC</span>\n",
       "</mark>\n",
       ". Sa femme y mourut d'une maladie de poitrine dont elle était atteinte depuis longtemps. Ils n'avaient point d'enfants. Que se passa-t-il ensuite dans la destinée de M. \n",
       "<mark class=\"entity\" style=\"background: #ddd; padding: 0.45em 0.6em; margin: 0 0.25em; line-height: 1; border-radius: 0.35em;\">\n",
       "    Myriel\n",
       "    <span style=\"font-size: 0.8em; font-weight: bold; line-height: 1; border-radius: 0.35em; vertical-align: middle; margin-left: 0.5rem\">PER</span>\n",
       "</mark>\n",
       "? L'écroulement de l'ancienne société française, la chute de sa propre famille, les tragiques spectacles de 93, plus effrayants encore peut-être pour les émigrés qui les voyaient de loin avec le grossissement de l'épouvante, firent-ils germer en lui des idées de renoncement et de solitude? \n",
       "<mark class=\"entity\" style=\"background: #ddd; padding: 0.45em 0.6em; margin: 0 0.25em; line-height: 1; border-radius: 0.35em;\">\n",
       "    Fut\n",
       "    <span style=\"font-size: 0.8em; font-weight: bold; line-height: 1; border-radius: 0.35em; vertical-align: middle; margin-left: 0.5rem\">PER</span>\n",
       "</mark>\n",
       "-il, au milieu d'une de ces distractions et de ces affections qui occupaient sa vie, subitement atteint d'un de ces coups mystérieux et terribles qui viennent quelquefois renverser, en le frappant au coeur, l'homme que les catastrophes publiques n'ébranleraient pas en le frappant dans son existence et dans sa fortune? Nul n'aurait pu le dire; tout ce qu'on savait, c'est que, lorsqu'il revint \n",
       "<mark class=\"entity\" style=\"background: #ff9561; padding: 0.45em 0.6em; margin: 0 0.25em; line-height: 1; border-radius: 0.35em;\">\n",
       "    d'Italie\n",
       "    <span style=\"font-size: 0.8em; font-weight: bold; line-height: 1; border-radius: 0.35em; vertical-align: middle; margin-left: 0.5rem\">LOC</span>\n",
       "</mark>\n",
       ", il était prêtre.  En 1804, M. \n",
       "<mark class=\"entity\" style=\"background: #ddd; padding: 0.45em 0.6em; margin: 0 0.25em; line-height: 1; border-radius: 0.35em;\">\n",
       "    Myriel\n",
       "    <span style=\"font-size: 0.8em; font-weight: bold; line-height: 1; border-radius: 0.35em; vertical-align: middle; margin-left: 0.5rem\">PER</span>\n",
       "</mark>\n",
       " était curé de \n",
       "<mark class=\"entity\" style=\"background: #ff9561; padding: 0.45em 0.6em; margin: 0 0.25em; line-height: 1; border-radius: 0.35em;\">\n",
       "    Brignolles\n",
       "    <span style=\"font-size: 0.8em; font-weight: bold; line-height: 1; border-radius: 0.35em; vertical-align: middle; margin-left: 0.5rem\">LOC</span>\n",
       "</mark>\n",
       ". Il était déjà vieux, et vivait dans une retraite profonde.  Vers l'époque du couronnement, une petite affaire de sa cure, on ne sait plus trop quoi, l'amena à \n",
       "<mark class=\"entity\" style=\"background: #ff9561; padding: 0.45em 0.6em; margin: 0 0.25em; line-height: 1; border-radius: 0.35em;\">\n",
       "    Paris\n",
       "    <span style=\"font-size: 0.8em; font-weight: bold; line-height: 1; border-radius: 0.35em; vertical-align: middle; margin-left: 0.5rem\">LOC</span>\n",
       "</mark>\n",
       ". Entre autres personnes puissantes, il alla solliciter pour ses paroissiens \n",
       "<mark class=\"entity\" style=\"background: #ddd; padding: 0.45em 0.6em; margin: 0 0.25em; line-height: 1; border-radius: 0.35em;\">\n",
       "    M.\n",
       "    <span style=\"font-size: 0.8em; font-weight: bold; line-height: 1; border-radius: 0.35em; vertical-align: middle; margin-left: 0.5rem\">PER</span>\n",
       "</mark>\n",
       " le cardinal Fesch. Un jour que l'empereur était venu faire visite à son oncle, le digne curé, qui attendait dans l'antichambre, se trouva sur le passage de sa majesté. \n",
       "<mark class=\"entity\" style=\"background: #ddd; padding: 0.45em 0.6em; margin: 0 0.25em; line-height: 1; border-radius: 0.35em;\">\n",
       "    Napoléon\n",
       "    <span style=\"font-size: 0.8em; font-weight: bold; line-height: 1; border-radius: 0.35em; vertical-align: middle; margin-left: 0.5rem\">PER</span>\n",
       "</mark>\n",
       ", se voyant regardé avec une certaine curiosité par ce vieillard, se retourna, et dit brusquement:  --Quel est ce bonhomme qui me regarde?  --Sire, dit M. \n",
       "<mark class=\"entity\" style=\"background: #ddd; padding: 0.45em 0.6em; margin: 0 0.25em; line-height: 1; border-radius: 0.35em;\">\n",
       "    Myriel\n",
       "    <span style=\"font-size: 0.8em; font-weight: bold; line-height: 1; border-radius: 0.35em; vertical-align: middle; margin-left: 0.5rem\">PER</span>\n",
       "</mark>\n",
       ", vous regardez un bonhomme, et moi je regarde un grand homme. Chacun de nous peut profiter.  \n",
       "<mark class=\"entity\" style=\"background: #ddd; padding: 0.45em 0.6em; margin: 0 0.25em; line-height: 1; border-radius: 0.35em;\">\n",
       "    L'empereur\n",
       "    <span style=\"font-size: 0.8em; font-weight: bold; line-height: 1; border-radius: 0.35em; vertical-align: middle; margin-left: 0.5rem\">PER</span>\n",
       "</mark>\n",
       ", le soir même, demanda au cardinal le nom de ce curé, et quelque temps après \n",
       "<mark class=\"entity\" style=\"background: #ddd; padding: 0.45em 0.6em; margin: 0 0.25em; line-height: 1; border-radius: 0.35em;\">\n",
       "    M.\n",
       "    <span style=\"font-size: 0.8em; font-weight: bold; line-height: 1; border-radius: 0.35em; vertical-align: middle; margin-left: 0.5rem\">PER</span>\n",
       "</mark>\n",
       " \n",
       "<mark class=\"entity\" style=\"background: #ddd; padding: 0.45em 0.6em; margin: 0 0.25em; line-height: 1; border-radius: 0.35em;\">\n",
       "    Myriel\n",
       "    <span style=\"font-size: 0.8em; font-weight: bold; line-height: 1; border-radius: 0.35em; vertical-align: middle; margin-left: 0.5rem\">PER</span>\n",
       "</mark>\n",
       " fut tout surpris d'apprendre qu'il était nommé évêque de \n",
       "<mark class=\"entity\" style=\"background: #ff9561; padding: 0.45em 0.6em; margin: 0 0.25em; line-height: 1; border-radius: 0.35em;\">\n",
       "    Digne\n",
       "    <span style=\"font-size: 0.8em; font-weight: bold; line-height: 1; border-radius: 0.35em; vertical-align: middle; margin-left: 0.5rem\">LOC</span>\n",
       "</mark>\n",
       ".  \n",
       "<mark class=\"entity\" style=\"background: #ddd; padding: 0.45em 0.6em; margin: 0 0.25em; line-height: 1; border-radius: 0.35em;\">\n",
       "    Qu'\n",
       "    <span style=\"font-size: 0.8em; font-weight: bold; line-height: 1; border-radius: 0.35em; vertical-align: middle; margin-left: 0.5rem\">MISC</span>\n",
       "</mark>\n",
       "y avait-il de vrai, du reste, dans les récits qu'on faisait sur la première partie de la vie de M. \n",
       "<mark class=\"entity\" style=\"background: #ddd; padding: 0.45em 0.6em; margin: 0 0.25em; line-height: 1; border-radius: 0.35em;\">\n",
       "    Myriel\n",
       "    <span style=\"font-size: 0.8em; font-weight: bold; line-height: 1; border-radius: 0.35em; vertical-align: middle; margin-left: 0.5rem\">PER</span>\n",
       "</mark>\n",
       "? Personne ne le savait. Peu de familles avaient connu la famille \n",
       "<mark class=\"entity\" style=\"background: #ddd; padding: 0.45em 0.6em; margin: 0 0.25em; line-height: 1; border-radius: 0.35em;\">\n",
       "    Myriel\n",
       "    <span style=\"font-size: 0.8em; font-weight: bold; line-height: 1; border-radius: 0.35em; vertical-align: middle; margin-left: 0.5rem\">PER</span>\n",
       "</mark>\n",
       " avant la révolution.  M. Myriel devait subir le sort de tout nouveau venu dans une petite ville où il y a beaucoup de bouches qui parlent et fort peu de têtes qui pensent. Il devait le subir, quoiqu'il fût évêque et parce qu'il était évêque. Mais, après tout, les propos auxquels on mêlait son nom n'étaient peut-être que des propos; du bruit, des mots, des paroles; moins que des paroles, des _palabres_, comme dit l'énergique langue du midi.  Quoi qu'il en fût, après neuf ans d'épiscopat et de résidence à \n",
       "<mark class=\"entity\" style=\"background: #ff9561; padding: 0.45em 0.6em; margin: 0 0.25em; line-height: 1; border-radius: 0.35em;\">\n",
       "    Digne\n",
       "    <span style=\"font-size: 0.8em; font-weight: bold; line-height: 1; border-radius: 0.35em; vertical-align: middle; margin-left: 0.5rem\">LOC</span>\n",
       "</mark>\n",
       ", tous ces racontages, sujets de conversation qui occupent dans le premier moment les petites villes et les petites gens, étaient tombés dans un oubli profond. Personne n'eût osé en parler, personne n'eût même osé s'en souvenir.  M. Myriel était arrivé à \n",
       "<mark class=\"entity\" style=\"background: #ff9561; padding: 0.45em 0.6em; margin: 0 0.25em; line-height: 1; border-radius: 0.35em;\">\n",
       "    Digne\n",
       "    <span style=\"font-size: 0.8em; font-weight: bold; line-height: 1; border-radius: 0.35em; vertical-align: middle; margin-left: 0.5rem\">LOC</span>\n",
       "</mark>\n",
       " accompagné d'une vieille fille, mademoiselle \n",
       "<mark class=\"entity\" style=\"background: #ff9561; padding: 0.45em 0.6em; margin: 0 0.25em; line-height: 1; border-radius: 0.35em;\">\n",
       "    Baptistine\n",
       "    <span style=\"font-size: 0.8em; font-weight: bold; line-height: 1; border-radius: 0.35em; vertical-align: middle; margin-left: 0.5rem\">LOC</span>\n",
       "</mark>\n",
       ", qui était sa soeur et qui avait dix ans de moins que lui.  Ils avaient pour tout domestique une servante du même âge que mademoiselle \n",
       "<mark class=\"entity\" style=\"background: #ff9561; padding: 0.45em 0.6em; margin: 0 0.25em; line-height: 1; border-radius: 0.35em;\">\n",
       "    Baptistine\n",
       "    <span style=\"font-size: 0.8em; font-weight: bold; line-height: 1; border-radius: 0.35em; vertical-align: middle; margin-left: 0.5rem\">LOC</span>\n",
       "</mark>\n",
       ", et appelée madame \n",
       "<mark class=\"entity\" style=\"background: #ddd; padding: 0.45em 0.6em; margin: 0 0.25em; line-height: 1; border-radius: 0.35em;\">\n",
       "    Magloire\n",
       "    <span style=\"font-size: 0.8em; font-weight: bold; line-height: 1; border-radius: 0.35em; vertical-align: middle; margin-left: 0.5rem\">PER</span>\n",
       "</mark>\n",
       ", laquelle, après avoir été _la servante de \n",
       "<mark class=\"entity\" style=\"background: #ddd; padding: 0.45em 0.6em; margin: 0 0.25em; line-height: 1; border-radius: 0.35em;\">\n",
       "    M. le Curé\n",
       "    <span style=\"font-size: 0.8em; font-weight: bold; line-height: 1; border-radius: 0.35em; vertical-align: middle; margin-left: 0.5rem\">PER</span>\n",
       "</mark>\n",
       "_, prenait maintenant le double titre de femme de chambre de mademoiselle et femme de charge de monseigneur.  \n",
       "<mark class=\"entity\" style=\"background: #ddd; padding: 0.45em 0.6em; margin: 0 0.25em; line-height: 1; border-radius: 0.35em;\">\n",
       "    Mademoiselle Baptistine\n",
       "    <span style=\"font-size: 0.8em; font-weight: bold; line-height: 1; border-radius: 0.35em; vertical-align: middle; margin-left: 0.5rem\">PER</span>\n",
       "</mark>\n",
       " était une personne longue, pâle, mince, douce; elle réalisait l'idéal de ce qu'exprime le mot «respectable»; car il semble qu'il soit nécessaire qu'une femme soit mère pour être vénérable. Elle n'avait jamais été jolie; toute sa vie, qui n'avait été qu'une suite de saintes oeuvres, avait fini par mettre sur elle une sorte de blancheur et de clarté; et, en vieillissant, elle avait gagné ce qu'on pourrait appeler la beauté de la bonté. Ce qui avait été de la maigreur dans sa jeunesse était devenu, dans sa maturité, de la transparence; et cette diaphanéité laissait voir l'ange. C'était une âme plus encore que ce n'était une vierge. Sa personne semblait faite d'ombre; à peine assez de corps pour qu'il y eût là un sexe; un peu de matière contenant une lueur; de grands yeux toujours baissés; un prétexte pour qu'une âme reste sur la terre.  \n",
       "<mark class=\"entity\" style=\"background: #ddd; padding: 0.45em 0.6em; margin: 0 0.25em; line-height: 1; border-radius: 0.35em;\">\n",
       "    Madame Magloire\n",
       "    <span style=\"font-size: 0.8em; font-weight: bold; line-height: 1; border-radius: 0.35em; vertical-align: middle; margin-left: 0.5rem\">PER</span>\n",
       "</mark>\n",
       " était une petite vieille, blanche, grasse, replète, affairée, toujours haletante, à cause de son activité d'abord, ensuite à cause d'un asthme.  À son arrivée, on installa M. Myriel en son palais épiscopal avec les honneurs voulus par les décrets impériaux qui classent l'évêque immédiatement après le maréchal de camp. Le maire et le président lui firent la première visite, et lui de son côté fit la première visite au général et au préfet.  L'installation terminée, la ville attendit son évêque à l'oeuvre.    </div></span>"
      ],
      "text/plain": [
       "<IPython.core.display.HTML object>"
      ]
     },
     "metadata": {},
     "output_type": "display_data"
    }
   ],
   "source": [
    "displacy.render(doc, style='ent', jupyter=True)"
   ]
  },
  {
   "cell_type": "code",
   "execution_count": 13,
   "id": "varying-dependence",
   "metadata": {},
   "outputs": [
    {
     "name": "stdout",
     "output_type": "stream",
     "text": [
      "Myriel                    PER        Named person or family.                 \n",
      "Myriel                    LOC        Non-GPE locations, mountain ranges, bodies of water\n",
      "Myriel                    LOC        Non-GPE locations, mountain ranges, bodies of water\n",
      "Myriel                    LOC        Non-GPE locations, mountain ranges, bodies of water\n",
      "Myriel                    LOC        Non-GPE locations, mountain ranges, bodies of water\n",
      "Myriel                    LOC        Non-GPE locations, mountain ranges, bodies of water\n",
      "Myriel                    LOC        Non-GPE locations, mountain ranges, bodies of water\n",
      "Myriel                    LOC        Non-GPE locations, mountain ranges, bodies of water\n",
      "Myriel                    LOC        Non-GPE locations, mountain ranges, bodies of water\n",
      "Myriel                    LOC        Non-GPE locations, mountain ranges, bodies of water\n"
     ]
    }
   ],
   "source": [
    "#but the change is not durable... as soon as you parse again the text BADABOUM\n",
    "doc = nlp(chapter_1)\n",
    "for e in doc.ents:\n",
    "    if e.text == 'Myriel':\n",
    "        print(f'{e.text:{25}} {e.label_:{10}} {spacy.explain(e.label_):{40}}')"
   ]
  },
  {
   "cell_type": "markdown",
   "id": "vulnerable-bronze",
   "metadata": {},
   "source": [
    "### let's do it in a more durable way !"
   ]
  },
  {
   "cell_type": "code",
   "execution_count": 14,
   "id": "cooked-citation",
   "metadata": {},
   "outputs": [],
   "source": [
    "ruler = nlp.add_pipe(\"entity_ruler\",before='ner')\n",
    "patterns = [{\"label\": \"PER\", \"pattern\": \"M. Myriel\"},\n",
    "            {\"label\": \"PER\", \"pattern\": [{\"LOWER\": \"mademoiselle\"}, {\"LOWER\": \"Baptistine\"}]}]\n",
    "ruler.add_patterns(patterns)\n",
    "doc = nlp(chapter_1)"
   ]
  },
  {
   "cell_type": "code",
   "execution_count": 15,
   "id": "clinical-equivalent",
   "metadata": {},
   "outputs": [
    {
     "name": "stdout",
     "output_type": "stream",
     "text": [
      "Charles                   PER        Named person or family.                 \n",
      "François                  PER        Named person or family.                 \n",
      "Bienvenu Myriel           PER        Named person or family.                 \n",
      "Digne                     LOC        Non-GPE locations, mountain ranges, bodies of water\n",
      "Digne                     LOC        Non-GPE locations, mountain ranges, bodies of water\n",
      "Vrai                      LOC        Non-GPE locations, mountain ranges, bodies of water\n",
      "M. Myriel                 PER        Named person or family.                 \n",
      "parlement d'Aix           MISC       Miscellaneous entities, e.g. events, nationalities, products or works of art\n",
      "Charles Myriel            PER        Named person or family.                 \n",
      "Charles Myriel            PER        Named person or family.                 \n",
      "Italie                    LOC        Non-GPE locations, mountain ranges, bodies of water\n",
      "M. Myriel                 PER        Named person or family.                 \n",
      "Fut                       PER        Named person or family.                 \n",
      "d'Italie                  LOC        Non-GPE locations, mountain ranges, bodies of water\n",
      "M. Myriel                 PER        Named person or family.                 \n",
      "Brignolles                LOC        Non-GPE locations, mountain ranges, bodies of water\n",
      "Paris                     LOC        Non-GPE locations, mountain ranges, bodies of water\n",
      "M.                        PER        Named person or family.                 \n",
      "Napoléon                  PER        Named person or family.                 \n",
      "M. Myriel                 PER        Named person or family.                 \n",
      "L'empereur                PER        Named person or family.                 \n",
      "M. Myriel                 PER        Named person or family.                 \n",
      "Digne                     LOC        Non-GPE locations, mountain ranges, bodies of water\n",
      "Qu'                       MISC       Miscellaneous entities, e.g. events, nationalities, products or works of art\n",
      "M. Myriel                 PER        Named person or family.                 \n",
      "Myriel                    LOC        Non-GPE locations, mountain ranges, bodies of water\n",
      "M. Myriel                 PER        Named person or family.                 \n",
      "Digne                     LOC        Non-GPE locations, mountain ranges, bodies of water\n",
      "M. Myriel                 PER        Named person or family.                 \n",
      "Digne                     LOC        Non-GPE locations, mountain ranges, bodies of water\n",
      "Baptistine                LOC        Non-GPE locations, mountain ranges, bodies of water\n",
      "Baptistine                LOC        Non-GPE locations, mountain ranges, bodies of water\n",
      "Magloire                  PER        Named person or family.                 \n",
      "M. le Curé                PER        Named person or family.                 \n",
      "Mademoiselle Baptistine   PER        Named person or family.                 \n",
      "Madame Magloire           PER        Named person or family.                 \n",
      "M. Myriel                 PER        Named person or family.                 \n"
     ]
    }
   ],
   "source": [
    "for e in doc.ents:\n",
    "    print(f'{e.text:{25}} {e.label_:{10}} {spacy.explain(e.label_):{40}}')"
   ]
  },
  {
   "cell_type": "code",
   "execution_count": 17,
   "id": "surrounded-eclipse",
   "metadata": {},
   "outputs": [
    {
     "name": "stdout",
     "output_type": "stream",
     "text": [
      "##### [000] NO ENTITY FOUND IN THIS SENTENCE : Monsieur Myriel   \n",
      "##### [001] ENTITY FOUND IN THIS SENTENCE :\n"
     ]
    },
    {
     "data": {
      "text/html": [
       "<span class=\"tex2jax_ignore\"><div class=\"entities\" style=\"line-height: 2.5; direction: ltr\">En 1815, M. \n",
       "<mark class=\"entity\" style=\"background: #ddd; padding: 0.45em 0.6em; margin: 0 0.25em; line-height: 1; border-radius: 0.35em;\">\n",
       "    Charles\n",
       "    <span style=\"font-size: 0.8em; font-weight: bold; line-height: 1; border-radius: 0.35em; vertical-align: middle; margin-left: 0.5rem\">PER</span>\n",
       "</mark>\n",
       "-\n",
       "<mark class=\"entity\" style=\"background: #ddd; padding: 0.45em 0.6em; margin: 0 0.25em; line-height: 1; border-radius: 0.35em;\">\n",
       "    François\n",
       "    <span style=\"font-size: 0.8em; font-weight: bold; line-height: 1; border-radius: 0.35em; vertical-align: middle; margin-left: 0.5rem\">PER</span>\n",
       "</mark>\n",
       "-\n",
       "<mark class=\"entity\" style=\"background: #ddd; padding: 0.45em 0.6em; margin: 0 0.25em; line-height: 1; border-radius: 0.35em;\">\n",
       "    Bienvenu Myriel\n",
       "    <span style=\"font-size: 0.8em; font-weight: bold; line-height: 1; border-radius: 0.35em; vertical-align: middle; margin-left: 0.5rem\">PER</span>\n",
       "</mark>\n",
       " était évêque de \n",
       "<mark class=\"entity\" style=\"background: #ff9561; padding: 0.45em 0.6em; margin: 0 0.25em; line-height: 1; border-radius: 0.35em;\">\n",
       "    Digne\n",
       "    <span style=\"font-size: 0.8em; font-weight: bold; line-height: 1; border-radius: 0.35em; vertical-align: middle; margin-left: 0.5rem\">LOC</span>\n",
       "</mark>\n",
       ".</div></span>"
      ],
      "text/plain": [
       "<IPython.core.display.HTML object>"
      ]
     },
     "metadata": {},
     "output_type": "display_data"
    },
    {
     "name": "stdout",
     "output_type": "stream",
     "text": [
      "##### [002] NO ENTITY FOUND IN THIS SENTENCE :C'était un vieillard d'environ soixante-quinze ans;\n",
      "##### [003] ENTITY FOUND IN THIS SENTENCE :\n"
     ]
    },
    {
     "data": {
      "text/html": [
       "<span class=\"tex2jax_ignore\"><div class=\"entities\" style=\"line-height: 2.5; direction: ltr\">il occupait le siège de \n",
       "<mark class=\"entity\" style=\"background: #ff9561; padding: 0.45em 0.6em; margin: 0 0.25em; line-height: 1; border-radius: 0.35em;\">\n",
       "    Digne\n",
       "    <span style=\"font-size: 0.8em; font-weight: bold; line-height: 1; border-radius: 0.35em; vertical-align: middle; margin-left: 0.5rem\">LOC</span>\n",
       "</mark>\n",
       " depuis 1806.</div></span>"
      ],
      "text/plain": [
       "<IPython.core.display.HTML object>"
      ]
     },
     "metadata": {},
     "output_type": "display_data"
    },
    {
     "name": "stdout",
     "output_type": "stream",
     "text": [
      "##### [004] NO ENTITY FOUND IN THIS SENTENCE : Quoique ce détail ne touche en aucune manière au fond même de ce que nous avons à raconter, il n'est peut-être pas inutile, ne fût-ce que pour être exact en tout, d'indiquer ici les bruits et les propos qui avaient couru sur son compte au moment où il était arrivé dans le diocèse.\n",
      "##### [005] ENTITY FOUND IN THIS SENTENCE :\n"
     ]
    },
    {
     "data": {
      "text/html": [
       "<span class=\"tex2jax_ignore\"><div class=\"entities\" style=\"line-height: 2.5; direction: ltr\">\n",
       "<mark class=\"entity\" style=\"background: #ff9561; padding: 0.45em 0.6em; margin: 0 0.25em; line-height: 1; border-radius: 0.35em;\">\n",
       "    Vrai\n",
       "    <span style=\"font-size: 0.8em; font-weight: bold; line-height: 1; border-radius: 0.35em; vertical-align: middle; margin-left: 0.5rem\">LOC</span>\n",
       "</mark>\n",
       " ou faux, ce qu'on dit des hommes tient souvent autant de place dans leur vie et surtout dans leur destinée que ce qu'ils font.</div></span>"
      ],
      "text/plain": [
       "<IPython.core.display.HTML object>"
      ]
     },
     "metadata": {},
     "output_type": "display_data"
    },
    {
     "name": "stdout",
     "output_type": "stream",
     "text": [
      "##### [006] ENTITY FOUND IN THIS SENTENCE :\n"
     ]
    },
    {
     "data": {
      "text/html": [
       "<span class=\"tex2jax_ignore\"><div class=\"entities\" style=\"line-height: 2.5; direction: ltr\">\n",
       "<mark class=\"entity\" style=\"background: #ddd; padding: 0.45em 0.6em; margin: 0 0.25em; line-height: 1; border-radius: 0.35em;\">\n",
       "    M. Myriel\n",
       "    <span style=\"font-size: 0.8em; font-weight: bold; line-height: 1; border-radius: 0.35em; vertical-align: middle; margin-left: 0.5rem\">PER</span>\n",
       "</mark>\n",
       " était fils d'un conseiller au \n",
       "<mark class=\"entity\" style=\"background: #ddd; padding: 0.45em 0.6em; margin: 0 0.25em; line-height: 1; border-radius: 0.35em;\">\n",
       "    parlement d'Aix\n",
       "    <span style=\"font-size: 0.8em; font-weight: bold; line-height: 1; border-radius: 0.35em; vertical-align: middle; margin-left: 0.5rem\">MISC</span>\n",
       "</mark>\n",
       ";</div></span>"
      ],
      "text/plain": [
       "<IPython.core.display.HTML object>"
      ]
     },
     "metadata": {},
     "output_type": "display_data"
    },
    {
     "name": "stdout",
     "output_type": "stream",
     "text": [
      "##### [007] NO ENTITY FOUND IN THIS SENTENCE :noblesse de robe.\n",
      "##### [008] NO ENTITY FOUND IN THIS SENTENCE :On contait de lui que son père, le réservant pour hériter de sa charge, l'avait marié de fort bonne heure, à dix-huit ou vingt ans, suivant un usage assez répandu dans les familles parlementaires.\n",
      "##### [009] ENTITY FOUND IN THIS SENTENCE :\n"
     ]
    },
    {
     "data": {
      "text/html": [
       "<span class=\"tex2jax_ignore\"><div class=\"entities\" style=\"line-height: 2.5; direction: ltr\">\n",
       "<mark class=\"entity\" style=\"background: #ddd; padding: 0.45em 0.6em; margin: 0 0.25em; line-height: 1; border-radius: 0.35em;\">\n",
       "    Charles Myriel\n",
       "    <span style=\"font-size: 0.8em; font-weight: bold; line-height: 1; border-radius: 0.35em; vertical-align: middle; margin-left: 0.5rem\">PER</span>\n",
       "</mark>\n",
       ", nonobstant ce mariage, avait, disait-on, beaucoup fait parler de lui.</div></span>"
      ],
      "text/plain": [
       "<IPython.core.display.HTML object>"
      ]
     },
     "metadata": {},
     "output_type": "display_data"
    },
    {
     "name": "stdout",
     "output_type": "stream",
     "text": [
      "##### [010] NO ENTITY FOUND IN THIS SENTENCE :Il était bien fait de sa personne, quoique d'assez petite taille, élégant, gracieux, spirituel;\n",
      "##### [011] NO ENTITY FOUND IN THIS SENTENCE :toute la première partie de sa vie avait été donnée au monde et aux galanteries.\n",
      "##### [012] NO ENTITY FOUND IN THIS SENTENCE :La révolution survint, les événements se précipitèrent, les familles parlementaires décimées, chassées, traquées, se dispersèrent.\n",
      "##### [013] ENTITY FOUND IN THIS SENTENCE :\n"
     ]
    },
    {
     "data": {
      "text/html": [
       "<span class=\"tex2jax_ignore\"><div class=\"entities\" style=\"line-height: 2.5; direction: ltr\">M. \n",
       "<mark class=\"entity\" style=\"background: #ddd; padding: 0.45em 0.6em; margin: 0 0.25em; line-height: 1; border-radius: 0.35em;\">\n",
       "    Charles Myriel\n",
       "    <span style=\"font-size: 0.8em; font-weight: bold; line-height: 1; border-radius: 0.35em; vertical-align: middle; margin-left: 0.5rem\">PER</span>\n",
       "</mark>\n",
       ", dès les premiers jours de la révolution, émigra en \n",
       "<mark class=\"entity\" style=\"background: #ff9561; padding: 0.45em 0.6em; margin: 0 0.25em; line-height: 1; border-radius: 0.35em;\">\n",
       "    Italie\n",
       "    <span style=\"font-size: 0.8em; font-weight: bold; line-height: 1; border-radius: 0.35em; vertical-align: middle; margin-left: 0.5rem\">LOC</span>\n",
       "</mark>\n",
       ".</div></span>"
      ],
      "text/plain": [
       "<IPython.core.display.HTML object>"
      ]
     },
     "metadata": {},
     "output_type": "display_data"
    },
    {
     "name": "stdout",
     "output_type": "stream",
     "text": [
      "##### [014] NO ENTITY FOUND IN THIS SENTENCE :Sa femme y mourut d'une maladie de poitrine dont elle était atteinte depuis longtemps.\n",
      "##### [015] NO ENTITY FOUND IN THIS SENTENCE :Ils n'avaient point d'enfants.\n",
      "##### [016] ENTITY FOUND IN THIS SENTENCE :\n"
     ]
    },
    {
     "data": {
      "text/html": [
       "<span class=\"tex2jax_ignore\"><div class=\"entities\" style=\"line-height: 2.5; direction: ltr\">Que se passa-t-il ensuite dans la destinée de \n",
       "<mark class=\"entity\" style=\"background: #ddd; padding: 0.45em 0.6em; margin: 0 0.25em; line-height: 1; border-radius: 0.35em;\">\n",
       "    M. Myriel\n",
       "    <span style=\"font-size: 0.8em; font-weight: bold; line-height: 1; border-radius: 0.35em; vertical-align: middle; margin-left: 0.5rem\">PER</span>\n",
       "</mark>\n",
       "?</div></span>"
      ],
      "text/plain": [
       "<IPython.core.display.HTML object>"
      ]
     },
     "metadata": {},
     "output_type": "display_data"
    },
    {
     "name": "stdout",
     "output_type": "stream",
     "text": [
      "##### [017] NO ENTITY FOUND IN THIS SENTENCE :L'écroulement de l'ancienne société française, la chute de sa propre famille, les tragiques spectacles de 93, plus effrayants encore peut-être pour les émigrés qui les voyaient de loin avec le grossissement de l'épouvante, firent-ils germer en lui des idées de renoncement et de solitude?\n",
      "##### [018] ENTITY FOUND IN THIS SENTENCE :\n"
     ]
    },
    {
     "data": {
      "text/html": [
       "<span class=\"tex2jax_ignore\"><div class=\"entities\" style=\"line-height: 2.5; direction: ltr\">\n",
       "<mark class=\"entity\" style=\"background: #ddd; padding: 0.45em 0.6em; margin: 0 0.25em; line-height: 1; border-radius: 0.35em;\">\n",
       "    Fut\n",
       "    <span style=\"font-size: 0.8em; font-weight: bold; line-height: 1; border-radius: 0.35em; vertical-align: middle; margin-left: 0.5rem\">PER</span>\n",
       "</mark>\n",
       "-il, au milieu d'une de ces distractions et de ces affections qui occupaient sa vie, subitement atteint d'un de ces coups mystérieux et terribles qui viennent quelquefois renverser, en le frappant au coeur, l'homme que les catastrophes publiques n'ébranleraient pas en le frappant dans son existence et dans sa fortune?</div></span>"
      ],
      "text/plain": [
       "<IPython.core.display.HTML object>"
      ]
     },
     "metadata": {},
     "output_type": "display_data"
    },
    {
     "name": "stdout",
     "output_type": "stream",
     "text": [
      "##### [019] NO ENTITY FOUND IN THIS SENTENCE :Nul n'aurait pu le dire;\n",
      "##### [020] ENTITY FOUND IN THIS SENTENCE :\n"
     ]
    },
    {
     "data": {
      "text/html": [
       "<span class=\"tex2jax_ignore\"><div class=\"entities\" style=\"line-height: 2.5; direction: ltr\">tout ce qu'on savait, c'est que, lorsqu'il revint \n",
       "<mark class=\"entity\" style=\"background: #ff9561; padding: 0.45em 0.6em; margin: 0 0.25em; line-height: 1; border-radius: 0.35em;\">\n",
       "    d'Italie\n",
       "    <span style=\"font-size: 0.8em; font-weight: bold; line-height: 1; border-radius: 0.35em; vertical-align: middle; margin-left: 0.5rem\">LOC</span>\n",
       "</mark>\n",
       ", il était prêtre.</div></span>"
      ],
      "text/plain": [
       "<IPython.core.display.HTML object>"
      ]
     },
     "metadata": {},
     "output_type": "display_data"
    },
    {
     "name": "stdout",
     "output_type": "stream",
     "text": [
      "##### [021] NO ENTITY FOUND IN THIS SENTENCE : \n",
      "##### [022] ENTITY FOUND IN THIS SENTENCE :\n"
     ]
    },
    {
     "data": {
      "text/html": [
       "<span class=\"tex2jax_ignore\"><div class=\"entities\" style=\"line-height: 2.5; direction: ltr\">En 1804, \n",
       "<mark class=\"entity\" style=\"background: #ddd; padding: 0.45em 0.6em; margin: 0 0.25em; line-height: 1; border-radius: 0.35em;\">\n",
       "    M. Myriel\n",
       "    <span style=\"font-size: 0.8em; font-weight: bold; line-height: 1; border-radius: 0.35em; vertical-align: middle; margin-left: 0.5rem\">PER</span>\n",
       "</mark>\n",
       " était curé de \n",
       "<mark class=\"entity\" style=\"background: #ff9561; padding: 0.45em 0.6em; margin: 0 0.25em; line-height: 1; border-radius: 0.35em;\">\n",
       "    Brignolles\n",
       "    <span style=\"font-size: 0.8em; font-weight: bold; line-height: 1; border-radius: 0.35em; vertical-align: middle; margin-left: 0.5rem\">LOC</span>\n",
       "</mark>\n",
       ".</div></span>"
      ],
      "text/plain": [
       "<IPython.core.display.HTML object>"
      ]
     },
     "metadata": {},
     "output_type": "display_data"
    },
    {
     "name": "stdout",
     "output_type": "stream",
     "text": [
      "##### [023] NO ENTITY FOUND IN THIS SENTENCE :Il était déjà vieux, et vivait dans une retraite profonde.\n",
      "##### [024] NO ENTITY FOUND IN THIS SENTENCE : \n",
      "##### [025] ENTITY FOUND IN THIS SENTENCE :\n"
     ]
    },
    {
     "data": {
      "text/html": [
       "<span class=\"tex2jax_ignore\"><div class=\"entities\" style=\"line-height: 2.5; direction: ltr\">Vers l'époque du couronnement, une petite affaire de sa cure, on ne sait plus trop quoi, l'amena à \n",
       "<mark class=\"entity\" style=\"background: #ff9561; padding: 0.45em 0.6em; margin: 0 0.25em; line-height: 1; border-radius: 0.35em;\">\n",
       "    Paris\n",
       "    <span style=\"font-size: 0.8em; font-weight: bold; line-height: 1; border-radius: 0.35em; vertical-align: middle; margin-left: 0.5rem\">LOC</span>\n",
       "</mark>\n",
       ".</div></span>"
      ],
      "text/plain": [
       "<IPython.core.display.HTML object>"
      ]
     },
     "metadata": {},
     "output_type": "display_data"
    },
    {
     "name": "stdout",
     "output_type": "stream",
     "text": [
      "##### [026] ENTITY FOUND IN THIS SENTENCE :\n"
     ]
    },
    {
     "data": {
      "text/html": [
       "<span class=\"tex2jax_ignore\"><div class=\"entities\" style=\"line-height: 2.5; direction: ltr\">Entre autres personnes puissantes, il alla solliciter pour ses paroissiens \n",
       "<mark class=\"entity\" style=\"background: #ddd; padding: 0.45em 0.6em; margin: 0 0.25em; line-height: 1; border-radius: 0.35em;\">\n",
       "    M.\n",
       "    <span style=\"font-size: 0.8em; font-weight: bold; line-height: 1; border-radius: 0.35em; vertical-align: middle; margin-left: 0.5rem\">PER</span>\n",
       "</mark>\n",
       " le cardinal Fesch.</div></span>"
      ],
      "text/plain": [
       "<IPython.core.display.HTML object>"
      ]
     },
     "metadata": {},
     "output_type": "display_data"
    },
    {
     "name": "stdout",
     "output_type": "stream",
     "text": [
      "##### [027] NO ENTITY FOUND IN THIS SENTENCE :Un jour que l'empereur était venu faire visite à son oncle, le digne curé, qui attendait dans l'antichambre, se trouva sur le passage de sa majesté.\n",
      "##### [028] ENTITY FOUND IN THIS SENTENCE :\n"
     ]
    },
    {
     "data": {
      "text/html": [
       "<span class=\"tex2jax_ignore\"><div class=\"entities\" style=\"line-height: 2.5; direction: ltr\">\n",
       "<mark class=\"entity\" style=\"background: #ddd; padding: 0.45em 0.6em; margin: 0 0.25em; line-height: 1; border-radius: 0.35em;\">\n",
       "    Napoléon\n",
       "    <span style=\"font-size: 0.8em; font-weight: bold; line-height: 1; border-radius: 0.35em; vertical-align: middle; margin-left: 0.5rem\">PER</span>\n",
       "</mark>\n",
       ", se voyant regardé avec une certaine curiosité par ce vieillard, se retourna, et dit brusquement:  --Quel est ce bonhomme qui me regarde?</div></span>"
      ],
      "text/plain": [
       "<IPython.core.display.HTML object>"
      ]
     },
     "metadata": {},
     "output_type": "display_data"
    },
    {
     "name": "stdout",
     "output_type": "stream",
     "text": [
      "##### [029] ENTITY FOUND IN THIS SENTENCE :\n"
     ]
    },
    {
     "data": {
      "text/html": [
       "<span class=\"tex2jax_ignore\"><div class=\"entities\" style=\"line-height: 2.5; direction: ltr\"> --Sire, dit \n",
       "<mark class=\"entity\" style=\"background: #ddd; padding: 0.45em 0.6em; margin: 0 0.25em; line-height: 1; border-radius: 0.35em;\">\n",
       "    M. Myriel\n",
       "    <span style=\"font-size: 0.8em; font-weight: bold; line-height: 1; border-radius: 0.35em; vertical-align: middle; margin-left: 0.5rem\">PER</span>\n",
       "</mark>\n",
       ", vous regardez un bonhomme, et moi je regarde un grand homme.</div></span>"
      ],
      "text/plain": [
       "<IPython.core.display.HTML object>"
      ]
     },
     "metadata": {},
     "output_type": "display_data"
    },
    {
     "name": "stdout",
     "output_type": "stream",
     "text": [
      "##### [030] NO ENTITY FOUND IN THIS SENTENCE :Chacun de nous peut profiter.\n",
      "##### [031] NO ENTITY FOUND IN THIS SENTENCE : \n",
      "##### [032] ENTITY FOUND IN THIS SENTENCE :\n"
     ]
    },
    {
     "data": {
      "text/html": [
       "<span class=\"tex2jax_ignore\"><div class=\"entities\" style=\"line-height: 2.5; direction: ltr\">L'empereur, le soir même, demanda au cardinal le nom de ce curé, et quelque temps après \n",
       "<mark class=\"entity\" style=\"background: #ddd; padding: 0.45em 0.6em; margin: 0 0.25em; line-height: 1; border-radius: 0.35em;\">\n",
       "    M. Myriel\n",
       "    <span style=\"font-size: 0.8em; font-weight: bold; line-height: 1; border-radius: 0.35em; vertical-align: middle; margin-left: 0.5rem\">PER</span>\n",
       "</mark>\n",
       " fut tout surpris d'apprendre qu'il était nommé évêque de \n",
       "<mark class=\"entity\" style=\"background: #ff9561; padding: 0.45em 0.6em; margin: 0 0.25em; line-height: 1; border-radius: 0.35em;\">\n",
       "    Digne\n",
       "    <span style=\"font-size: 0.8em; font-weight: bold; line-height: 1; border-radius: 0.35em; vertical-align: middle; margin-left: 0.5rem\">LOC</span>\n",
       "</mark>\n",
       ".</div></span>"
      ],
      "text/plain": [
       "<IPython.core.display.HTML object>"
      ]
     },
     "metadata": {},
     "output_type": "display_data"
    },
    {
     "name": "stdout",
     "output_type": "stream",
     "text": [
      "##### [033] NO ENTITY FOUND IN THIS SENTENCE : \n",
      "##### [034] ENTITY FOUND IN THIS SENTENCE :\n"
     ]
    },
    {
     "data": {
      "text/html": [
       "<span class=\"tex2jax_ignore\"><div class=\"entities\" style=\"line-height: 2.5; direction: ltr\">Qu'y avait-il de vrai, du reste, dans les récits qu'on faisait sur la première partie de la vie de \n",
       "<mark class=\"entity\" style=\"background: #ddd; padding: 0.45em 0.6em; margin: 0 0.25em; line-height: 1; border-radius: 0.35em;\">\n",
       "    M. Myriel\n",
       "    <span style=\"font-size: 0.8em; font-weight: bold; line-height: 1; border-radius: 0.35em; vertical-align: middle; margin-left: 0.5rem\">PER</span>\n",
       "</mark>\n",
       "?</div></span>"
      ],
      "text/plain": [
       "<IPython.core.display.HTML object>"
      ]
     },
     "metadata": {},
     "output_type": "display_data"
    },
    {
     "name": "stdout",
     "output_type": "stream",
     "text": [
      "##### [035] NO ENTITY FOUND IN THIS SENTENCE :Personne ne le savait.\n",
      "##### [036] ENTITY FOUND IN THIS SENTENCE :\n"
     ]
    },
    {
     "data": {
      "text/html": [
       "<span class=\"tex2jax_ignore\"><div class=\"entities\" style=\"line-height: 2.5; direction: ltr\">Peu de familles avaient connu la famille \n",
       "<mark class=\"entity\" style=\"background: #ff9561; padding: 0.45em 0.6em; margin: 0 0.25em; line-height: 1; border-radius: 0.35em;\">\n",
       "    Myriel\n",
       "    <span style=\"font-size: 0.8em; font-weight: bold; line-height: 1; border-radius: 0.35em; vertical-align: middle; margin-left: 0.5rem\">LOC</span>\n",
       "</mark>\n",
       " avant la révolution.</div></span>"
      ],
      "text/plain": [
       "<IPython.core.display.HTML object>"
      ]
     },
     "metadata": {},
     "output_type": "display_data"
    },
    {
     "name": "stdout",
     "output_type": "stream",
     "text": [
      "##### [037] ENTITY FOUND IN THIS SENTENCE :\n"
     ]
    },
    {
     "data": {
      "text/html": [
       "<span class=\"tex2jax_ignore\"><div class=\"entities\" style=\"line-height: 2.5; direction: ltr\"> \n",
       "<mark class=\"entity\" style=\"background: #ddd; padding: 0.45em 0.6em; margin: 0 0.25em; line-height: 1; border-radius: 0.35em;\">\n",
       "    M. Myriel\n",
       "    <span style=\"font-size: 0.8em; font-weight: bold; line-height: 1; border-radius: 0.35em; vertical-align: middle; margin-left: 0.5rem\">PER</span>\n",
       "</mark>\n",
       " devait subir le sort de tout nouveau venu dans une petite ville où il y a beaucoup de bouches qui parlent et fort peu de têtes qui pensent.</div></span>"
      ],
      "text/plain": [
       "<IPython.core.display.HTML object>"
      ]
     },
     "metadata": {},
     "output_type": "display_data"
    },
    {
     "name": "stdout",
     "output_type": "stream",
     "text": [
      "##### [038] NO ENTITY FOUND IN THIS SENTENCE :Il devait le subir, quoiqu'il fût évêque et parce qu'il était évêque.\n",
      "##### [039] NO ENTITY FOUND IN THIS SENTENCE :Mais, après tout, les propos auxquels on mêlait son nom n'étaient peut-être que des propos; du bruit, des mots, des paroles;\n",
      "##### [040] NO ENTITY FOUND IN THIS SENTENCE :moins que des paroles, des _palabres_, comme dit l'énergique langue du midi.\n",
      "##### [041] ENTITY FOUND IN THIS SENTENCE :\n"
     ]
    },
    {
     "data": {
      "text/html": [
       "<span class=\"tex2jax_ignore\"><div class=\"entities\" style=\"line-height: 2.5; direction: ltr\"> Quoi qu'il en fût, après neuf ans d'épiscopat et de résidence à \n",
       "<mark class=\"entity\" style=\"background: #ff9561; padding: 0.45em 0.6em; margin: 0 0.25em; line-height: 1; border-radius: 0.35em;\">\n",
       "    Digne\n",
       "    <span style=\"font-size: 0.8em; font-weight: bold; line-height: 1; border-radius: 0.35em; vertical-align: middle; margin-left: 0.5rem\">LOC</span>\n",
       "</mark>\n",
       ", tous ces racontages, sujets de conversation qui occupent dans le premier moment les petites villes et les petites gens, étaient tombés dans un oubli profond.</div></span>"
      ],
      "text/plain": [
       "<IPython.core.display.HTML object>"
      ]
     },
     "metadata": {},
     "output_type": "display_data"
    },
    {
     "name": "stdout",
     "output_type": "stream",
     "text": [
      "##### [042] NO ENTITY FOUND IN THIS SENTENCE :Personne n'eût osé en parler, personne n'eût même osé s'en souvenir.\n",
      "##### [043] ENTITY FOUND IN THIS SENTENCE :\n"
     ]
    },
    {
     "data": {
      "text/html": [
       "<span class=\"tex2jax_ignore\"><div class=\"entities\" style=\"line-height: 2.5; direction: ltr\"> \n",
       "<mark class=\"entity\" style=\"background: #ddd; padding: 0.45em 0.6em; margin: 0 0.25em; line-height: 1; border-radius: 0.35em;\">\n",
       "    M. Myriel\n",
       "    <span style=\"font-size: 0.8em; font-weight: bold; line-height: 1; border-radius: 0.35em; vertical-align: middle; margin-left: 0.5rem\">PER</span>\n",
       "</mark>\n",
       " était arrivé à \n",
       "<mark class=\"entity\" style=\"background: #ff9561; padding: 0.45em 0.6em; margin: 0 0.25em; line-height: 1; border-radius: 0.35em;\">\n",
       "    Digne\n",
       "    <span style=\"font-size: 0.8em; font-weight: bold; line-height: 1; border-radius: 0.35em; vertical-align: middle; margin-left: 0.5rem\">LOC</span>\n",
       "</mark>\n",
       " accompagné d'une vieille fille, mademoiselle \n",
       "<mark class=\"entity\" style=\"background: #ff9561; padding: 0.45em 0.6em; margin: 0 0.25em; line-height: 1; border-radius: 0.35em;\">\n",
       "    Baptistine\n",
       "    <span style=\"font-size: 0.8em; font-weight: bold; line-height: 1; border-radius: 0.35em; vertical-align: middle; margin-left: 0.5rem\">LOC</span>\n",
       "</mark>\n",
       ", qui était sa soeur et qui avait dix ans de moins que lui.</div></span>"
      ],
      "text/plain": [
       "<IPython.core.display.HTML object>"
      ]
     },
     "metadata": {},
     "output_type": "display_data"
    },
    {
     "name": "stdout",
     "output_type": "stream",
     "text": [
      "##### [044] ENTITY FOUND IN THIS SENTENCE :\n"
     ]
    },
    {
     "data": {
      "text/html": [
       "<span class=\"tex2jax_ignore\"><div class=\"entities\" style=\"line-height: 2.5; direction: ltr\"> Ils avaient pour tout domestique une servante du même âge que mademoiselle \n",
       "<mark class=\"entity\" style=\"background: #ff9561; padding: 0.45em 0.6em; margin: 0 0.25em; line-height: 1; border-radius: 0.35em;\">\n",
       "    Baptistine\n",
       "    <span style=\"font-size: 0.8em; font-weight: bold; line-height: 1; border-radius: 0.35em; vertical-align: middle; margin-left: 0.5rem\">LOC</span>\n",
       "</mark>\n",
       ", et appelée madame \n",
       "<mark class=\"entity\" style=\"background: #ddd; padding: 0.45em 0.6em; margin: 0 0.25em; line-height: 1; border-radius: 0.35em;\">\n",
       "    Magloire\n",
       "    <span style=\"font-size: 0.8em; font-weight: bold; line-height: 1; border-radius: 0.35em; vertical-align: middle; margin-left: 0.5rem\">PER</span>\n",
       "</mark>\n",
       ", laquelle, après avoir été _la servante de \n",
       "<mark class=\"entity\" style=\"background: #ddd; padding: 0.45em 0.6em; margin: 0 0.25em; line-height: 1; border-radius: 0.35em;\">\n",
       "    M. le Curé\n",
       "    <span style=\"font-size: 0.8em; font-weight: bold; line-height: 1; border-radius: 0.35em; vertical-align: middle; margin-left: 0.5rem\">PER</span>\n",
       "</mark>\n",
       "_, prenait maintenant le double titre de femme de chambre de mademoiselle et femme de charge de monseigneur.</div></span>"
      ],
      "text/plain": [
       "<IPython.core.display.HTML object>"
      ]
     },
     "metadata": {},
     "output_type": "display_data"
    },
    {
     "name": "stdout",
     "output_type": "stream",
     "text": [
      "##### [045] ENTITY FOUND IN THIS SENTENCE :\n"
     ]
    },
    {
     "data": {
      "text/html": [
       "<span class=\"tex2jax_ignore\"><div class=\"entities\" style=\"line-height: 2.5; direction: ltr\"> \n",
       "<mark class=\"entity\" style=\"background: #ddd; padding: 0.45em 0.6em; margin: 0 0.25em; line-height: 1; border-radius: 0.35em;\">\n",
       "    Mademoiselle Baptistine\n",
       "    <span style=\"font-size: 0.8em; font-weight: bold; line-height: 1; border-radius: 0.35em; vertical-align: middle; margin-left: 0.5rem\">PER</span>\n",
       "</mark>\n",
       " était une personne longue, pâle, mince, douce;</div></span>"
      ],
      "text/plain": [
       "<IPython.core.display.HTML object>"
      ]
     },
     "metadata": {},
     "output_type": "display_data"
    },
    {
     "name": "stdout",
     "output_type": "stream",
     "text": [
      "##### [046] NO ENTITY FOUND IN THIS SENTENCE :elle réalisait l'idéal de ce qu'exprime le mot «respectable»;\n",
      "##### [047] NO ENTITY FOUND IN THIS SENTENCE :car il semble qu'il soit nécessaire qu'une femme soit mère pour être vénérable.\n",
      "##### [048] NO ENTITY FOUND IN THIS SENTENCE :Elle n'avait jamais été jolie;\n",
      "##### [049] NO ENTITY FOUND IN THIS SENTENCE :toute sa vie, qui n'avait été qu'une suite de saintes oeuvres, avait fini par mettre sur elle une sorte de blancheur et de clarté;\n",
      "##### [050] NO ENTITY FOUND IN THIS SENTENCE :et, en vieillissant, elle avait gagné ce qu'on pourrait appeler la beauté de la bonté.\n",
      "##### [051] NO ENTITY FOUND IN THIS SENTENCE :Ce qui avait été de la maigreur dans sa jeunesse était devenu, dans sa maturité, de la transparence;\n",
      "##### [052] NO ENTITY FOUND IN THIS SENTENCE :et cette diaphanéité laissait voir l'ange.\n",
      "##### [053] NO ENTITY FOUND IN THIS SENTENCE :C'était une âme plus encore que ce n'était une vierge.\n",
      "##### [054] NO ENTITY FOUND IN THIS SENTENCE :Sa personne semblait faite d'ombre;\n",
      "##### [055] NO ENTITY FOUND IN THIS SENTENCE :à peine assez de corps pour qu'il y eût là un sexe;\n",
      "##### [056] NO ENTITY FOUND IN THIS SENTENCE :un peu de matière contenant une lueur; de grands yeux toujours baissés;\n",
      "##### [057] NO ENTITY FOUND IN THIS SENTENCE :un prétexte pour qu'une âme reste sur la terre.\n",
      "##### [058] NO ENTITY FOUND IN THIS SENTENCE : \n",
      "##### [059] ENTITY FOUND IN THIS SENTENCE :\n"
     ]
    },
    {
     "data": {
      "text/html": [
       "<span class=\"tex2jax_ignore\"><div class=\"entities\" style=\"line-height: 2.5; direction: ltr\">\n",
       "<mark class=\"entity\" style=\"background: #ddd; padding: 0.45em 0.6em; margin: 0 0.25em; line-height: 1; border-radius: 0.35em;\">\n",
       "    Madame Magloire\n",
       "    <span style=\"font-size: 0.8em; font-weight: bold; line-height: 1; border-radius: 0.35em; vertical-align: middle; margin-left: 0.5rem\">PER</span>\n",
       "</mark>\n",
       " était une petite vieille, blanche, grasse, replète, affairée, toujours haletante, à cause de son activité d'abord, ensuite à cause d'un asthme.</div></span>"
      ],
      "text/plain": [
       "<IPython.core.display.HTML object>"
      ]
     },
     "metadata": {},
     "output_type": "display_data"
    },
    {
     "name": "stdout",
     "output_type": "stream",
     "text": [
      "##### [060] ENTITY FOUND IN THIS SENTENCE :\n"
     ]
    },
    {
     "data": {
      "text/html": [
       "<span class=\"tex2jax_ignore\"><div class=\"entities\" style=\"line-height: 2.5; direction: ltr\"> À son arrivée, on installa \n",
       "<mark class=\"entity\" style=\"background: #ddd; padding: 0.45em 0.6em; margin: 0 0.25em; line-height: 1; border-radius: 0.35em;\">\n",
       "    M. Myriel\n",
       "    <span style=\"font-size: 0.8em; font-weight: bold; line-height: 1; border-radius: 0.35em; vertical-align: middle; margin-left: 0.5rem\">PER</span>\n",
       "</mark>\n",
       " en son palais épiscopal avec les honneurs voulus par les décrets impériaux qui classent l'évêque immédiatement après le maréchal de camp.</div></span>"
      ],
      "text/plain": [
       "<IPython.core.display.HTML object>"
      ]
     },
     "metadata": {},
     "output_type": "display_data"
    },
    {
     "name": "stdout",
     "output_type": "stream",
     "text": [
      "##### [061] NO ENTITY FOUND IN THIS SENTENCE :Le maire et le président lui firent la première visite, et lui de son côté fit la première visite au général et au préfet.\n",
      "##### [062] NO ENTITY FOUND IN THIS SENTENCE : \n",
      "##### [063] NO ENTITY FOUND IN THIS SENTENCE :L'installation terminée, la ville attendit son évêque à l'oeuvre.\n",
      "##### [064] NO ENTITY FOUND IN THIS SENTENCE :   \n"
     ]
    }
   ],
   "source": [
    "print_entities_in_sentence(doc)"
   ]
  },
  {
   "cell_type": "markdown",
   "id": "popular-tobacco",
   "metadata": {},
   "source": [
    "### Much better but,  what if we used the large model as is ?"
   ]
  },
  {
   "cell_type": "code",
   "execution_count": 18,
   "id": "involved-hands",
   "metadata": {},
   "outputs": [],
   "source": [
    "# load the big fat french model\n",
    "# https://spacy.io/models/fr#fr_core_news_lg\n",
    "nlp_large = spacy.load('fr_core_news_lg')\n"
   ]
  },
  {
   "cell_type": "code",
   "execution_count": 19,
   "id": "prime-sunrise",
   "metadata": {},
   "outputs": [],
   "source": [
    "doc_large = nlp_large(chapter_1)"
   ]
  },
  {
   "cell_type": "code",
   "execution_count": 21,
   "id": "brave-winter",
   "metadata": {
    "scrolled": true
   },
   "outputs": [
    {
     "name": "stdout",
     "output_type": "stream",
     "text": [
      "Myriel                    PER        Named person or family.                 \n",
      "M. Charles-François-Bienvenu Myriel PER        Named person or family.                 \n",
      "Digne                     LOC        Non-GPE locations, mountain ranges, bodies of water\n",
      "Digne                     LOC        Non-GPE locations, mountain ranges, bodies of water\n",
      "Myriel                    PER        Named person or family.                 \n",
      "Charles Myriel            PER        Named person or family.                 \n",
      "Charles Myriel            PER        Named person or family.                 \n",
      "Italie                    LOC        Non-GPE locations, mountain ranges, bodies of water\n",
      "M. Myriel                 PER        Named person or family.                 \n",
      "Fut                       PER        Named person or family.                 \n",
      "d'Italie                  LOC        Non-GPE locations, mountain ranges, bodies of water\n",
      "M. Myriel                 PER        Named person or family.                 \n",
      "Brignolles                LOC        Non-GPE locations, mountain ranges, bodies of water\n",
      "Paris                     LOC        Non-GPE locations, mountain ranges, bodies of water\n",
      "Fesch                     PER        Named person or family.                 \n",
      "Napoléon                  PER        Named person or family.                 \n",
      "M. Myriel                 PER        Named person or family.                 \n",
      "M. Myriel                 PER        Named person or family.                 \n",
      "Digne                     LOC        Non-GPE locations, mountain ranges, bodies of water\n",
      "M. Myriel                 PER        Named person or family.                 \n",
      "Myriel                    PER        Named person or family.                 \n",
      "Myriel                    PER        Named person or family.                 \n",
      "Digne                     LOC        Non-GPE locations, mountain ranges, bodies of water\n",
      "Myriel                    PER        Named person or family.                 \n",
      "Digne                     LOC        Non-GPE locations, mountain ranges, bodies of water\n",
      "Baptistine                PER        Named person or family.                 \n",
      "Baptistine                PER        Named person or family.                 \n",
      "Magloire                  PER        Named person or family.                 \n",
      "M. le Curé                PER        Named person or family.                 \n",
      "Mademoiselle              MISC       Miscellaneous entities, e.g. events, nationalities, products or works of art\n",
      "Madame Magloire           PER        Named person or family.                 \n",
      "Myriel                    PER        Named person or family.                 \n"
     ]
    }
   ],
   "source": [
    "for e in doc_large.ents:\n",
    "    print(f'{e.text:{25}} {e.label_:{10}} {spacy.explain(e.label_):{40}}')"
   ]
  },
  {
   "cell_type": "code",
   "execution_count": 22,
   "id": "documented-manual",
   "metadata": {},
   "outputs": [
    {
     "name": "stdout",
     "output_type": "stream",
     "text": [
      "##### [000] NO ENTITY FOUND IN THIS SENTENCE : \n",
      "##### [001] ENTITY FOUND IN THIS SENTENCE :\n"
     ]
    },
    {
     "data": {
      "text/html": [
       "<span class=\"tex2jax_ignore\"><div class=\"entities\" style=\"line-height: 2.5; direction: ltr\">Monsieur \n",
       "<mark class=\"entity\" style=\"background: #ff9561; padding: 0.45em 0.6em; margin: 0 0.25em; line-height: 1; border-radius: 0.35em;\">\n",
       "    Myriel\n",
       "    <span style=\"font-size: 0.8em; font-weight: bold; line-height: 1; border-radius: 0.35em; vertical-align: middle; margin-left: 0.5rem\">LOC</span>\n",
       "</mark>\n",
       "   </div></span>"
      ],
      "text/plain": [
       "<IPython.core.display.HTML object>"
      ]
     },
     "metadata": {},
     "output_type": "display_data"
    },
    {
     "name": "stdout",
     "output_type": "stream",
     "text": [
      "##### [002] ENTITY FOUND IN THIS SENTENCE :\n"
     ]
    },
    {
     "data": {
      "text/html": [
       "<span class=\"tex2jax_ignore\"><div class=\"entities\" style=\"line-height: 2.5; direction: ltr\">En 1815, M. \n",
       "<mark class=\"entity\" style=\"background: #ddd; padding: 0.45em 0.6em; margin: 0 0.25em; line-height: 1; border-radius: 0.35em;\">\n",
       "    Charles\n",
       "    <span style=\"font-size: 0.8em; font-weight: bold; line-height: 1; border-radius: 0.35em; vertical-align: middle; margin-left: 0.5rem\">PER</span>\n",
       "</mark>\n",
       "-\n",
       "<mark class=\"entity\" style=\"background: #ddd; padding: 0.45em 0.6em; margin: 0 0.25em; line-height: 1; border-radius: 0.35em;\">\n",
       "    François\n",
       "    <span style=\"font-size: 0.8em; font-weight: bold; line-height: 1; border-radius: 0.35em; vertical-align: middle; margin-left: 0.5rem\">PER</span>\n",
       "</mark>\n",
       "-\n",
       "<mark class=\"entity\" style=\"background: #ddd; padding: 0.45em 0.6em; margin: 0 0.25em; line-height: 1; border-radius: 0.35em;\">\n",
       "    Bienvenu Myriel\n",
       "    <span style=\"font-size: 0.8em; font-weight: bold; line-height: 1; border-radius: 0.35em; vertical-align: middle; margin-left: 0.5rem\">PER</span>\n",
       "</mark>\n",
       " était évêque de \n",
       "<mark class=\"entity\" style=\"background: #ff9561; padding: 0.45em 0.6em; margin: 0 0.25em; line-height: 1; border-radius: 0.35em;\">\n",
       "    Digne\n",
       "    <span style=\"font-size: 0.8em; font-weight: bold; line-height: 1; border-radius: 0.35em; vertical-align: middle; margin-left: 0.5rem\">LOC</span>\n",
       "</mark>\n",
       ".</div></span>"
      ],
      "text/plain": [
       "<IPython.core.display.HTML object>"
      ]
     },
     "metadata": {},
     "output_type": "display_data"
    },
    {
     "name": "stdout",
     "output_type": "stream",
     "text": [
      "##### [003] NO ENTITY FOUND IN THIS SENTENCE :C'était un vieillard d'environ soixante-quinze ans;\n",
      "##### [004] ENTITY FOUND IN THIS SENTENCE :\n"
     ]
    },
    {
     "data": {
      "text/html": [
       "<span class=\"tex2jax_ignore\"><div class=\"entities\" style=\"line-height: 2.5; direction: ltr\">il occupait le siège de \n",
       "<mark class=\"entity\" style=\"background: #ff9561; padding: 0.45em 0.6em; margin: 0 0.25em; line-height: 1; border-radius: 0.35em;\">\n",
       "    Digne\n",
       "    <span style=\"font-size: 0.8em; font-weight: bold; line-height: 1; border-radius: 0.35em; vertical-align: middle; margin-left: 0.5rem\">LOC</span>\n",
       "</mark>\n",
       " depuis 1806.</div></span>"
      ],
      "text/plain": [
       "<IPython.core.display.HTML object>"
      ]
     },
     "metadata": {},
     "output_type": "display_data"
    },
    {
     "name": "stdout",
     "output_type": "stream",
     "text": [
      "##### [005] NO ENTITY FOUND IN THIS SENTENCE : Quoique ce détail ne touche en aucune manière au fond même de ce que nous avons à raconter, il n'est peut-être pas inutile, ne fût-ce que pour être exact en tout, d'indiquer ici les bruits et les propos qui avaient couru sur son compte au moment où il était arrivé dans le diocèse.\n",
      "##### [006] ENTITY FOUND IN THIS SENTENCE :\n"
     ]
    },
    {
     "data": {
      "text/html": [
       "<span class=\"tex2jax_ignore\"><div class=\"entities\" style=\"line-height: 2.5; direction: ltr\">\n",
       "<mark class=\"entity\" style=\"background: #ff9561; padding: 0.45em 0.6em; margin: 0 0.25em; line-height: 1; border-radius: 0.35em;\">\n",
       "    Vrai\n",
       "    <span style=\"font-size: 0.8em; font-weight: bold; line-height: 1; border-radius: 0.35em; vertical-align: middle; margin-left: 0.5rem\">LOC</span>\n",
       "</mark>\n",
       " ou faux, ce qu'on dit des hommes tient souvent autant de place dans leur vie et surtout dans leur destinée que ce qu'ils font.</div></span>"
      ],
      "text/plain": [
       "<IPython.core.display.HTML object>"
      ]
     },
     "metadata": {},
     "output_type": "display_data"
    },
    {
     "name": "stdout",
     "output_type": "stream",
     "text": [
      "##### [007] ENTITY FOUND IN THIS SENTENCE :\n"
     ]
    },
    {
     "data": {
      "text/html": [
       "<span class=\"tex2jax_ignore\"><div class=\"entities\" style=\"line-height: 2.5; direction: ltr\">\n",
       "<mark class=\"entity\" style=\"background: #ddd; padding: 0.45em 0.6em; margin: 0 0.25em; line-height: 1; border-radius: 0.35em;\">\n",
       "    M. Myriel\n",
       "    <span style=\"font-size: 0.8em; font-weight: bold; line-height: 1; border-radius: 0.35em; vertical-align: middle; margin-left: 0.5rem\">PER</span>\n",
       "</mark>\n",
       " était fils d'un conseiller au \n",
       "<mark class=\"entity\" style=\"background: #ddd; padding: 0.45em 0.6em; margin: 0 0.25em; line-height: 1; border-radius: 0.35em;\">\n",
       "    parlement d'Aix\n",
       "    <span style=\"font-size: 0.8em; font-weight: bold; line-height: 1; border-radius: 0.35em; vertical-align: middle; margin-left: 0.5rem\">MISC</span>\n",
       "</mark>\n",
       ";</div></span>"
      ],
      "text/plain": [
       "<IPython.core.display.HTML object>"
      ]
     },
     "metadata": {},
     "output_type": "display_data"
    },
    {
     "name": "stdout",
     "output_type": "stream",
     "text": [
      "##### [008] NO ENTITY FOUND IN THIS SENTENCE :noblesse de robe.\n",
      "##### [009] NO ENTITY FOUND IN THIS SENTENCE :On contait de lui que son père, le réservant pour hériter de sa charge, l'avait marié de fort bonne heure, à dix-huit ou vingt ans, suivant un usage assez répandu dans les familles parlementaires.\n",
      "##### [010] ENTITY FOUND IN THIS SENTENCE :\n"
     ]
    },
    {
     "data": {
      "text/html": [
       "<span class=\"tex2jax_ignore\"><div class=\"entities\" style=\"line-height: 2.5; direction: ltr\">\n",
       "<mark class=\"entity\" style=\"background: #ddd; padding: 0.45em 0.6em; margin: 0 0.25em; line-height: 1; border-radius: 0.35em;\">\n",
       "    Charles Myriel\n",
       "    <span style=\"font-size: 0.8em; font-weight: bold; line-height: 1; border-radius: 0.35em; vertical-align: middle; margin-left: 0.5rem\">PER</span>\n",
       "</mark>\n",
       ", nonobstant ce mariage, avait, disait-on, beaucoup fait parler de lui.</div></span>"
      ],
      "text/plain": [
       "<IPython.core.display.HTML object>"
      ]
     },
     "metadata": {},
     "output_type": "display_data"
    },
    {
     "name": "stdout",
     "output_type": "stream",
     "text": [
      "##### [011] NO ENTITY FOUND IN THIS SENTENCE :Il était bien fait de sa personne, quoique d'assez petite taille, élégant, gracieux, spirituel;\n",
      "##### [012] NO ENTITY FOUND IN THIS SENTENCE :toute la première partie de sa vie avait été donnée au monde et aux galanteries.\n",
      "##### [013] NO ENTITY FOUND IN THIS SENTENCE :La révolution survint, les événements se précipitèrent, les familles parlementaires décimées, chassées, traquées, se dispersèrent.\n",
      "##### [014] ENTITY FOUND IN THIS SENTENCE :\n"
     ]
    },
    {
     "data": {
      "text/html": [
       "<span class=\"tex2jax_ignore\"><div class=\"entities\" style=\"line-height: 2.5; direction: ltr\">M. \n",
       "<mark class=\"entity\" style=\"background: #ddd; padding: 0.45em 0.6em; margin: 0 0.25em; line-height: 1; border-radius: 0.35em;\">\n",
       "    Charles Myriel\n",
       "    <span style=\"font-size: 0.8em; font-weight: bold; line-height: 1; border-radius: 0.35em; vertical-align: middle; margin-left: 0.5rem\">PER</span>\n",
       "</mark>\n",
       ", dès les premiers jours de la révolution, émigra en \n",
       "<mark class=\"entity\" style=\"background: #ff9561; padding: 0.45em 0.6em; margin: 0 0.25em; line-height: 1; border-radius: 0.35em;\">\n",
       "    Italie\n",
       "    <span style=\"font-size: 0.8em; font-weight: bold; line-height: 1; border-radius: 0.35em; vertical-align: middle; margin-left: 0.5rem\">LOC</span>\n",
       "</mark>\n",
       ".</div></span>"
      ],
      "text/plain": [
       "<IPython.core.display.HTML object>"
      ]
     },
     "metadata": {},
     "output_type": "display_data"
    },
    {
     "name": "stdout",
     "output_type": "stream",
     "text": [
      "##### [015] NO ENTITY FOUND IN THIS SENTENCE :Sa femme y mourut d'une maladie de poitrine dont elle était atteinte depuis longtemps.\n",
      "##### [016] NO ENTITY FOUND IN THIS SENTENCE :Ils n'avaient point d'enfants.\n",
      "##### [017] ENTITY FOUND IN THIS SENTENCE :\n"
     ]
    },
    {
     "data": {
      "text/html": [
       "<span class=\"tex2jax_ignore\"><div class=\"entities\" style=\"line-height: 2.5; direction: ltr\">Que se passa-t-il ensuite dans la destinée de \n",
       "<mark class=\"entity\" style=\"background: #ddd; padding: 0.45em 0.6em; margin: 0 0.25em; line-height: 1; border-radius: 0.35em;\">\n",
       "    M. Myriel\n",
       "    <span style=\"font-size: 0.8em; font-weight: bold; line-height: 1; border-radius: 0.35em; vertical-align: middle; margin-left: 0.5rem\">PER</span>\n",
       "</mark>\n",
       "?</div></span>"
      ],
      "text/plain": [
       "<IPython.core.display.HTML object>"
      ]
     },
     "metadata": {},
     "output_type": "display_data"
    },
    {
     "name": "stdout",
     "output_type": "stream",
     "text": [
      "##### [018] NO ENTITY FOUND IN THIS SENTENCE :L'écroulement de l'ancienne société française, la chute de sa propre famille, les tragiques spectacles de 93, plus effrayants encore peut-être pour les émigrés qui les voyaient de loin avec le grossissement de l'épouvante, firent-ils germer en lui des idées de renoncement et de solitude?\n",
      "##### [019] ENTITY FOUND IN THIS SENTENCE :\n"
     ]
    },
    {
     "data": {
      "text/html": [
       "<span class=\"tex2jax_ignore\"><div class=\"entities\" style=\"line-height: 2.5; direction: ltr\">\n",
       "<mark class=\"entity\" style=\"background: #ddd; padding: 0.45em 0.6em; margin: 0 0.25em; line-height: 1; border-radius: 0.35em;\">\n",
       "    Fut\n",
       "    <span style=\"font-size: 0.8em; font-weight: bold; line-height: 1; border-radius: 0.35em; vertical-align: middle; margin-left: 0.5rem\">PER</span>\n",
       "</mark>\n",
       "-il, au milieu d'une de ces distractions et de ces affections qui occupaient sa vie, subitement atteint d'un de ces coups mystérieux et terribles qui viennent quelquefois renverser, en le frappant au coeur, l'homme que les catastrophes publiques n'ébranleraient pas en le frappant dans son existence et dans sa fortune?</div></span>"
      ],
      "text/plain": [
       "<IPython.core.display.HTML object>"
      ]
     },
     "metadata": {},
     "output_type": "display_data"
    },
    {
     "name": "stdout",
     "output_type": "stream",
     "text": [
      "##### [020] NO ENTITY FOUND IN THIS SENTENCE :Nul n'aurait pu le dire;\n",
      "##### [021] ENTITY FOUND IN THIS SENTENCE :\n"
     ]
    },
    {
     "data": {
      "text/html": [
       "<span class=\"tex2jax_ignore\"><div class=\"entities\" style=\"line-height: 2.5; direction: ltr\">tout ce qu'on savait, c'est que, lorsqu'il revint \n",
       "<mark class=\"entity\" style=\"background: #ff9561; padding: 0.45em 0.6em; margin: 0 0.25em; line-height: 1; border-radius: 0.35em;\">\n",
       "    d'Italie\n",
       "    <span style=\"font-size: 0.8em; font-weight: bold; line-height: 1; border-radius: 0.35em; vertical-align: middle; margin-left: 0.5rem\">LOC</span>\n",
       "</mark>\n",
       ", il était prêtre.</div></span>"
      ],
      "text/plain": [
       "<IPython.core.display.HTML object>"
      ]
     },
     "metadata": {},
     "output_type": "display_data"
    },
    {
     "name": "stdout",
     "output_type": "stream",
     "text": [
      "##### [022] NO ENTITY FOUND IN THIS SENTENCE : \n",
      "##### [023] ENTITY FOUND IN THIS SENTENCE :\n"
     ]
    },
    {
     "data": {
      "text/html": [
       "<span class=\"tex2jax_ignore\"><div class=\"entities\" style=\"line-height: 2.5; direction: ltr\">En 1804, \n",
       "<mark class=\"entity\" style=\"background: #ddd; padding: 0.45em 0.6em; margin: 0 0.25em; line-height: 1; border-radius: 0.35em;\">\n",
       "    M. Myriel\n",
       "    <span style=\"font-size: 0.8em; font-weight: bold; line-height: 1; border-radius: 0.35em; vertical-align: middle; margin-left: 0.5rem\">PER</span>\n",
       "</mark>\n",
       " était curé de \n",
       "<mark class=\"entity\" style=\"background: #ff9561; padding: 0.45em 0.6em; margin: 0 0.25em; line-height: 1; border-radius: 0.35em;\">\n",
       "    Brignolles\n",
       "    <span style=\"font-size: 0.8em; font-weight: bold; line-height: 1; border-radius: 0.35em; vertical-align: middle; margin-left: 0.5rem\">LOC</span>\n",
       "</mark>\n",
       ".</div></span>"
      ],
      "text/plain": [
       "<IPython.core.display.HTML object>"
      ]
     },
     "metadata": {},
     "output_type": "display_data"
    },
    {
     "name": "stdout",
     "output_type": "stream",
     "text": [
      "##### [024] NO ENTITY FOUND IN THIS SENTENCE :Il était déjà vieux, et vivait dans une retraite profonde.\n",
      "##### [025] ENTITY FOUND IN THIS SENTENCE :\n"
     ]
    },
    {
     "data": {
      "text/html": [
       "<span class=\"tex2jax_ignore\"><div class=\"entities\" style=\"line-height: 2.5; direction: ltr\"> Vers l'époque du couronnement, une petite affaire de sa cure, on ne sait plus trop quoi, l'amena à \n",
       "<mark class=\"entity\" style=\"background: #ff9561; padding: 0.45em 0.6em; margin: 0 0.25em; line-height: 1; border-radius: 0.35em;\">\n",
       "    Paris\n",
       "    <span style=\"font-size: 0.8em; font-weight: bold; line-height: 1; border-radius: 0.35em; vertical-align: middle; margin-left: 0.5rem\">LOC</span>\n",
       "</mark>\n",
       ".</div></span>"
      ],
      "text/plain": [
       "<IPython.core.display.HTML object>"
      ]
     },
     "metadata": {},
     "output_type": "display_data"
    },
    {
     "name": "stdout",
     "output_type": "stream",
     "text": [
      "##### [026] ENTITY FOUND IN THIS SENTENCE :\n"
     ]
    },
    {
     "data": {
      "text/html": [
       "<span class=\"tex2jax_ignore\"><div class=\"entities\" style=\"line-height: 2.5; direction: ltr\">Entre autres personnes puissantes, il alla solliciter pour ses paroissiens \n",
       "<mark class=\"entity\" style=\"background: #ddd; padding: 0.45em 0.6em; margin: 0 0.25em; line-height: 1; border-radius: 0.35em;\">\n",
       "    M.\n",
       "    <span style=\"font-size: 0.8em; font-weight: bold; line-height: 1; border-radius: 0.35em; vertical-align: middle; margin-left: 0.5rem\">PER</span>\n",
       "</mark>\n",
       " le cardinal Fesch.</div></span>"
      ],
      "text/plain": [
       "<IPython.core.display.HTML object>"
      ]
     },
     "metadata": {},
     "output_type": "display_data"
    },
    {
     "name": "stdout",
     "output_type": "stream",
     "text": [
      "##### [027] NO ENTITY FOUND IN THIS SENTENCE :Un jour que l'empereur était venu faire visite à son oncle, le digne curé, qui attendait dans l'antichambre, se trouva sur le passage de sa majesté.\n",
      "##### [028] ENTITY FOUND IN THIS SENTENCE :\n"
     ]
    },
    {
     "data": {
      "text/html": [
       "<span class=\"tex2jax_ignore\"><div class=\"entities\" style=\"line-height: 2.5; direction: ltr\">\n",
       "<mark class=\"entity\" style=\"background: #ddd; padding: 0.45em 0.6em; margin: 0 0.25em; line-height: 1; border-radius: 0.35em;\">\n",
       "    Napoléon\n",
       "    <span style=\"font-size: 0.8em; font-weight: bold; line-height: 1; border-radius: 0.35em; vertical-align: middle; margin-left: 0.5rem\">PER</span>\n",
       "</mark>\n",
       ", se voyant regardé avec une certaine curiosité par ce vieillard, se retourna, et dit brusquement:  --Quel est ce bonhomme qui me regarde?</div></span>"
      ],
      "text/plain": [
       "<IPython.core.display.HTML object>"
      ]
     },
     "metadata": {},
     "output_type": "display_data"
    },
    {
     "name": "stdout",
     "output_type": "stream",
     "text": [
      "##### [029] ENTITY FOUND IN THIS SENTENCE :\n"
     ]
    },
    {
     "data": {
      "text/html": [
       "<span class=\"tex2jax_ignore\"><div class=\"entities\" style=\"line-height: 2.5; direction: ltr\"> --Sire, dit \n",
       "<mark class=\"entity\" style=\"background: #ddd; padding: 0.45em 0.6em; margin: 0 0.25em; line-height: 1; border-radius: 0.35em;\">\n",
       "    M. Myriel\n",
       "    <span style=\"font-size: 0.8em; font-weight: bold; line-height: 1; border-radius: 0.35em; vertical-align: middle; margin-left: 0.5rem\">PER</span>\n",
       "</mark>\n",
       ", vous regardez un bonhomme, et moi je regarde un grand homme.</div></span>"
      ],
      "text/plain": [
       "<IPython.core.display.HTML object>"
      ]
     },
     "metadata": {},
     "output_type": "display_data"
    },
    {
     "name": "stdout",
     "output_type": "stream",
     "text": [
      "##### [030] NO ENTITY FOUND IN THIS SENTENCE :Chacun de nous peut profiter.\n",
      "##### [031] ENTITY FOUND IN THIS SENTENCE :\n"
     ]
    },
    {
     "data": {
      "text/html": [
       "<span class=\"tex2jax_ignore\"><div class=\"entities\" style=\"line-height: 2.5; direction: ltr\"> \n",
       "<mark class=\"entity\" style=\"background: #ddd; padding: 0.45em 0.6em; margin: 0 0.25em; line-height: 1; border-radius: 0.35em;\">\n",
       "    L'empereur\n",
       "    <span style=\"font-size: 0.8em; font-weight: bold; line-height: 1; border-radius: 0.35em; vertical-align: middle; margin-left: 0.5rem\">PER</span>\n",
       "</mark>\n",
       ", le soir même, demanda au cardinal le nom de ce curé, et quelque temps après \n",
       "<mark class=\"entity\" style=\"background: #ddd; padding: 0.45em 0.6em; margin: 0 0.25em; line-height: 1; border-radius: 0.35em;\">\n",
       "    M. Myriel\n",
       "    <span style=\"font-size: 0.8em; font-weight: bold; line-height: 1; border-radius: 0.35em; vertical-align: middle; margin-left: 0.5rem\">PER</span>\n",
       "</mark>\n",
       " fut tout surpris d'apprendre qu'il était nommé évêque de \n",
       "<mark class=\"entity\" style=\"background: #ff9561; padding: 0.45em 0.6em; margin: 0 0.25em; line-height: 1; border-radius: 0.35em;\">\n",
       "    Digne\n",
       "    <span style=\"font-size: 0.8em; font-weight: bold; line-height: 1; border-radius: 0.35em; vertical-align: middle; margin-left: 0.5rem\">LOC</span>\n",
       "</mark>\n",
       ".</div></span>"
      ],
      "text/plain": [
       "<IPython.core.display.HTML object>"
      ]
     },
     "metadata": {},
     "output_type": "display_data"
    },
    {
     "name": "stdout",
     "output_type": "stream",
     "text": [
      "##### [032] ENTITY FOUND IN THIS SENTENCE :\n"
     ]
    },
    {
     "data": {
      "text/html": [
       "<span class=\"tex2jax_ignore\"><div class=\"entities\" style=\"line-height: 2.5; direction: ltr\"> \n",
       "<mark class=\"entity\" style=\"background: #ddd; padding: 0.45em 0.6em; margin: 0 0.25em; line-height: 1; border-radius: 0.35em;\">\n",
       "    Qu'\n",
       "    <span style=\"font-size: 0.8em; font-weight: bold; line-height: 1; border-radius: 0.35em; vertical-align: middle; margin-left: 0.5rem\">MISC</span>\n",
       "</mark>\n",
       "y avait-il de vrai, du reste, dans les récits qu'on faisait sur la première partie de la vie de \n",
       "<mark class=\"entity\" style=\"background: #ddd; padding: 0.45em 0.6em; margin: 0 0.25em; line-height: 1; border-radius: 0.35em;\">\n",
       "    M. Myriel\n",
       "    <span style=\"font-size: 0.8em; font-weight: bold; line-height: 1; border-radius: 0.35em; vertical-align: middle; margin-left: 0.5rem\">PER</span>\n",
       "</mark>\n",
       "?</div></span>"
      ],
      "text/plain": [
       "<IPython.core.display.HTML object>"
      ]
     },
     "metadata": {},
     "output_type": "display_data"
    },
    {
     "name": "stdout",
     "output_type": "stream",
     "text": [
      "##### [033] NO ENTITY FOUND IN THIS SENTENCE :Personne ne le savait.\n",
      "##### [034] NO ENTITY FOUND IN THIS SENTENCE :Peu de familles avaient connu la famille\n",
      "##### [035] ENTITY FOUND IN THIS SENTENCE :\n"
     ]
    },
    {
     "data": {
      "text/html": [
       "<span class=\"tex2jax_ignore\"><div class=\"entities\" style=\"line-height: 2.5; direction: ltr\">\n",
       "<mark class=\"entity\" style=\"background: #ff9561; padding: 0.45em 0.6em; margin: 0 0.25em; line-height: 1; border-radius: 0.35em;\">\n",
       "    Myriel\n",
       "    <span style=\"font-size: 0.8em; font-weight: bold; line-height: 1; border-radius: 0.35em; vertical-align: middle; margin-left: 0.5rem\">LOC</span>\n",
       "</mark>\n",
       " avant la révolution.</div></span>"
      ],
      "text/plain": [
       "<IPython.core.display.HTML object>"
      ]
     },
     "metadata": {},
     "output_type": "display_data"
    },
    {
     "name": "stdout",
     "output_type": "stream",
     "text": [
      "##### [036] NO ENTITY FOUND IN THIS SENTENCE : \n",
      "##### [037] ENTITY FOUND IN THIS SENTENCE :\n"
     ]
    },
    {
     "data": {
      "text/html": [
       "<span class=\"tex2jax_ignore\"><div class=\"entities\" style=\"line-height: 2.5; direction: ltr\">\n",
       "<mark class=\"entity\" style=\"background: #ddd; padding: 0.45em 0.6em; margin: 0 0.25em; line-height: 1; border-radius: 0.35em;\">\n",
       "    M. Myriel\n",
       "    <span style=\"font-size: 0.8em; font-weight: bold; line-height: 1; border-radius: 0.35em; vertical-align: middle; margin-left: 0.5rem\">PER</span>\n",
       "</mark>\n",
       " devait subir le sort de tout nouveau venu dans une petite ville où il y a beaucoup de bouches qui parlent et fort peu de têtes qui pensent.</div></span>"
      ],
      "text/plain": [
       "<IPython.core.display.HTML object>"
      ]
     },
     "metadata": {},
     "output_type": "display_data"
    },
    {
     "name": "stdout",
     "output_type": "stream",
     "text": [
      "##### [038] NO ENTITY FOUND IN THIS SENTENCE :Il devait le subir, quoiqu'il fût évêque et parce qu'il était évêque.\n",
      "##### [039] NO ENTITY FOUND IN THIS SENTENCE :Mais, après tout, les propos auxquels on mêlait son nom n'étaient peut-être que des propos;\n",
      "##### [040] NO ENTITY FOUND IN THIS SENTENCE :du bruit, des mots, des paroles;\n",
      "##### [041] NO ENTITY FOUND IN THIS SENTENCE :moins que des paroles, des _palabres_, comme dit l'énergique langue du midi.\n",
      "##### [042] NO ENTITY FOUND IN THIS SENTENCE : \n",
      "##### [043] ENTITY FOUND IN THIS SENTENCE :\n"
     ]
    },
    {
     "data": {
      "text/html": [
       "<span class=\"tex2jax_ignore\"><div class=\"entities\" style=\"line-height: 2.5; direction: ltr\">Quoi qu'il en fût, après neuf ans d'épiscopat et de résidence à \n",
       "<mark class=\"entity\" style=\"background: #ff9561; padding: 0.45em 0.6em; margin: 0 0.25em; line-height: 1; border-radius: 0.35em;\">\n",
       "    Digne\n",
       "    <span style=\"font-size: 0.8em; font-weight: bold; line-height: 1; border-radius: 0.35em; vertical-align: middle; margin-left: 0.5rem\">LOC</span>\n",
       "</mark>\n",
       ", tous ces racontages, sujets de conversation qui occupent dans le premier moment les petites villes et les petites gens, étaient tombés dans un oubli profond.</div></span>"
      ],
      "text/plain": [
       "<IPython.core.display.HTML object>"
      ]
     },
     "metadata": {},
     "output_type": "display_data"
    },
    {
     "name": "stdout",
     "output_type": "stream",
     "text": [
      "##### [044] NO ENTITY FOUND IN THIS SENTENCE :Personne n'eût osé en parler, personne n'eût même osé s'en souvenir.\n",
      "##### [045] NO ENTITY FOUND IN THIS SENTENCE : \n",
      "##### [046] ENTITY FOUND IN THIS SENTENCE :\n"
     ]
    },
    {
     "data": {
      "text/html": [
       "<span class=\"tex2jax_ignore\"><div class=\"entities\" style=\"line-height: 2.5; direction: ltr\">\n",
       "<mark class=\"entity\" style=\"background: #ddd; padding: 0.45em 0.6em; margin: 0 0.25em; line-height: 1; border-radius: 0.35em;\">\n",
       "    M. Myriel\n",
       "    <span style=\"font-size: 0.8em; font-weight: bold; line-height: 1; border-radius: 0.35em; vertical-align: middle; margin-left: 0.5rem\">PER</span>\n",
       "</mark>\n",
       " était arrivé à \n",
       "<mark class=\"entity\" style=\"background: #ff9561; padding: 0.45em 0.6em; margin: 0 0.25em; line-height: 1; border-radius: 0.35em;\">\n",
       "    Digne\n",
       "    <span style=\"font-size: 0.8em; font-weight: bold; line-height: 1; border-radius: 0.35em; vertical-align: middle; margin-left: 0.5rem\">LOC</span>\n",
       "</mark>\n",
       " accompagné d'une vieille fille, mademoiselle \n",
       "<mark class=\"entity\" style=\"background: #ff9561; padding: 0.45em 0.6em; margin: 0 0.25em; line-height: 1; border-radius: 0.35em;\">\n",
       "    Baptistine\n",
       "    <span style=\"font-size: 0.8em; font-weight: bold; line-height: 1; border-radius: 0.35em; vertical-align: middle; margin-left: 0.5rem\">LOC</span>\n",
       "</mark>\n",
       ", qui était sa soeur et qui avait dix ans de moins que lui.</div></span>"
      ],
      "text/plain": [
       "<IPython.core.display.HTML object>"
      ]
     },
     "metadata": {},
     "output_type": "display_data"
    },
    {
     "name": "stdout",
     "output_type": "stream",
     "text": [
      "##### [047] ENTITY FOUND IN THIS SENTENCE :\n"
     ]
    },
    {
     "data": {
      "text/html": [
       "<span class=\"tex2jax_ignore\"><div class=\"entities\" style=\"line-height: 2.5; direction: ltr\"> Ils avaient pour tout domestique une servante du même âge que mademoiselle \n",
       "<mark class=\"entity\" style=\"background: #ff9561; padding: 0.45em 0.6em; margin: 0 0.25em; line-height: 1; border-radius: 0.35em;\">\n",
       "    Baptistine\n",
       "    <span style=\"font-size: 0.8em; font-weight: bold; line-height: 1; border-radius: 0.35em; vertical-align: middle; margin-left: 0.5rem\">LOC</span>\n",
       "</mark>\n",
       ", et appelée madame \n",
       "<mark class=\"entity\" style=\"background: #ddd; padding: 0.45em 0.6em; margin: 0 0.25em; line-height: 1; border-radius: 0.35em;\">\n",
       "    Magloire\n",
       "    <span style=\"font-size: 0.8em; font-weight: bold; line-height: 1; border-radius: 0.35em; vertical-align: middle; margin-left: 0.5rem\">PER</span>\n",
       "</mark>\n",
       ", laquelle, après avoir été _la servante de \n",
       "<mark class=\"entity\" style=\"background: #ddd; padding: 0.45em 0.6em; margin: 0 0.25em; line-height: 1; border-radius: 0.35em;\">\n",
       "    M. le Curé\n",
       "    <span style=\"font-size: 0.8em; font-weight: bold; line-height: 1; border-radius: 0.35em; vertical-align: middle; margin-left: 0.5rem\">PER</span>\n",
       "</mark>\n",
       "_, prenait maintenant le double titre de femme de chambre de mademoiselle et femme de charge de monseigneur.</div></span>"
      ],
      "text/plain": [
       "<IPython.core.display.HTML object>"
      ]
     },
     "metadata": {},
     "output_type": "display_data"
    },
    {
     "name": "stdout",
     "output_type": "stream",
     "text": [
      "##### [048] ENTITY FOUND IN THIS SENTENCE :\n"
     ]
    },
    {
     "data": {
      "text/html": [
       "<span class=\"tex2jax_ignore\"><div class=\"entities\" style=\"line-height: 2.5; direction: ltr\"> \n",
       "<mark class=\"entity\" style=\"background: #ff9561; padding: 0.45em 0.6em; margin: 0 0.25em; line-height: 1; border-radius: 0.35em;\">\n",
       "    Mademoiselle\n",
       "    <span style=\"font-size: 0.8em; font-weight: bold; line-height: 1; border-radius: 0.35em; vertical-align: middle; margin-left: 0.5rem\">LOC</span>\n",
       "</mark>\n",
       "</div></span>"
      ],
      "text/plain": [
       "<IPython.core.display.HTML object>"
      ]
     },
     "metadata": {},
     "output_type": "display_data"
    },
    {
     "name": "stdout",
     "output_type": "stream",
     "text": [
      "##### [049] ENTITY FOUND IN THIS SENTENCE :\n"
     ]
    },
    {
     "data": {
      "text/html": [
       "<span class=\"tex2jax_ignore\"><div class=\"entities\" style=\"line-height: 2.5; direction: ltr\">\n",
       "<mark class=\"entity\" style=\"background: #ddd; padding: 0.45em 0.6em; margin: 0 0.25em; line-height: 1; border-radius: 0.35em;\">\n",
       "    Baptistine\n",
       "    <span style=\"font-size: 0.8em; font-weight: bold; line-height: 1; border-radius: 0.35em; vertical-align: middle; margin-left: 0.5rem\">PER</span>\n",
       "</mark>\n",
       " était une personne longue, pâle, mince, douce;</div></span>"
      ],
      "text/plain": [
       "<IPython.core.display.HTML object>"
      ]
     },
     "metadata": {},
     "output_type": "display_data"
    },
    {
     "name": "stdout",
     "output_type": "stream",
     "text": [
      "##### [050] NO ENTITY FOUND IN THIS SENTENCE :elle réalisait l'idéal de ce qu'exprime le mot «respectable»;\n",
      "##### [051] NO ENTITY FOUND IN THIS SENTENCE :car il semble qu'il soit nécessaire qu'une femme soit mère pour être vénérable.\n",
      "##### [052] NO ENTITY FOUND IN THIS SENTENCE :Elle n'avait jamais été jolie;\n",
      "##### [053] NO ENTITY FOUND IN THIS SENTENCE :toute sa vie, qui n'avait été qu'une suite de saintes oeuvres, avait fini par mettre sur elle une sorte de blancheur et de clarté; et, en vieillissant, elle avait gagné ce qu'on pourrait appeler la beauté de la bonté.\n",
      "##### [054] NO ENTITY FOUND IN THIS SENTENCE :Ce qui avait été de la maigreur dans sa jeunesse était devenu, dans sa maturité, de la transparence;\n",
      "##### [055] NO ENTITY FOUND IN THIS SENTENCE :et cette diaphanéité laissait voir l'ange.\n",
      "##### [056] NO ENTITY FOUND IN THIS SENTENCE :C'était une âme plus encore que ce n'était une vierge.\n",
      "##### [057] NO ENTITY FOUND IN THIS SENTENCE :Sa personne semblait faite d'ombre;\n",
      "##### [058] NO ENTITY FOUND IN THIS SENTENCE :à peine assez de corps pour qu'il y eût là un sexe;\n",
      "##### [059] NO ENTITY FOUND IN THIS SENTENCE :un peu de matière contenant une lueur;\n",
      "##### [060] NO ENTITY FOUND IN THIS SENTENCE :de grands yeux toujours baissés\n",
      "##### [061] NO ENTITY FOUND IN THIS SENTENCE :;\n",
      "##### [062] NO ENTITY FOUND IN THIS SENTENCE :un prétexte pour qu'une âme reste sur la terre.\n",
      "##### [063] NO ENTITY FOUND IN THIS SENTENCE : \n",
      "##### [064] ENTITY FOUND IN THIS SENTENCE :\n"
     ]
    },
    {
     "data": {
      "text/html": [
       "<span class=\"tex2jax_ignore\"><div class=\"entities\" style=\"line-height: 2.5; direction: ltr\">\n",
       "<mark class=\"entity\" style=\"background: #ddd; padding: 0.45em 0.6em; margin: 0 0.25em; line-height: 1; border-radius: 0.35em;\">\n",
       "    Madame Magloire\n",
       "    <span style=\"font-size: 0.8em; font-weight: bold; line-height: 1; border-radius: 0.35em; vertical-align: middle; margin-left: 0.5rem\">PER</span>\n",
       "</mark>\n",
       " était une petite vieille, blanche, grasse, replète, affairée, toujours haletante, à cause de son activité d'abord, ensuite à cause d'un asthme.</div></span>"
      ],
      "text/plain": [
       "<IPython.core.display.HTML object>"
      ]
     },
     "metadata": {},
     "output_type": "display_data"
    },
    {
     "name": "stdout",
     "output_type": "stream",
     "text": [
      "##### [065] ENTITY FOUND IN THIS SENTENCE :\n"
     ]
    },
    {
     "data": {
      "text/html": [
       "<span class=\"tex2jax_ignore\"><div class=\"entities\" style=\"line-height: 2.5; direction: ltr\"> À son arrivée, on installa \n",
       "<mark class=\"entity\" style=\"background: #ddd; padding: 0.45em 0.6em; margin: 0 0.25em; line-height: 1; border-radius: 0.35em;\">\n",
       "    M. Myriel\n",
       "    <span style=\"font-size: 0.8em; font-weight: bold; line-height: 1; border-radius: 0.35em; vertical-align: middle; margin-left: 0.5rem\">PER</span>\n",
       "</mark>\n",
       " en son palais épiscopal avec les honneurs voulus par les décrets impériaux qui classent l'évêque immédiatement après le maréchal de camp.</div></span>"
      ],
      "text/plain": [
       "<IPython.core.display.HTML object>"
      ]
     },
     "metadata": {},
     "output_type": "display_data"
    },
    {
     "name": "stdout",
     "output_type": "stream",
     "text": [
      "##### [066] NO ENTITY FOUND IN THIS SENTENCE :Le maire et le président lui firent la première visite, et lui de son côté fit la première visite au général et au préfet.\n",
      "##### [067] NO ENTITY FOUND IN THIS SENTENCE : \n",
      "##### [068] NO ENTITY FOUND IN THIS SENTENCE :L'installation terminée, la ville attendit son évêque à l'oeuvre.\n",
      "##### [069] NO ENTITY FOUND IN THIS SENTENCE :   \n"
     ]
    }
   ],
   "source": [
    "print_entities_in_sentence(doc_large)"
   ]
  }
 ],
 "metadata": {
  "kernelspec": {
   "display_name": "Python 3",
   "language": "python",
   "name": "python3"
  },
  "language_info": {
   "codemirror_mode": {
    "name": "ipython",
    "version": 3
   },
   "file_extension": ".py",
   "mimetype": "text/x-python",
   "name": "python",
   "nbconvert_exporter": "python",
   "pygments_lexer": "ipython3",
   "version": "3.8.5"
  }
 },
 "nbformat": 4,
 "nbformat_minor": 5
}
