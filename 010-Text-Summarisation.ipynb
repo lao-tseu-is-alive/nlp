{
 "cells": [
  {
   "cell_type": "code",
   "execution_count": 5,
   "id": "legitimate-fundamentals",
   "metadata": {},
   "outputs": [
    {
     "name": "stdout",
     "output_type": "stream",
     "text": [
      "Python version : 3.8.5 (default, Jul 28 2020, 12:59:40) \n",
      "[GCC 9.3.0]\n",
      "Spacy version  : 3.0.1     \n",
      "Current dir : /home/cgil/PycharmProjects\n"
     ]
    }
   ],
   "source": [
    "import spacy\n",
    "import gensim\n",
    "from transformers import pipeline\n",
    "from spacy import displacy\n",
    "from spacy.tokens import Span\n",
    "from spacy.matcher import PhraseMatcher\n",
    "from my_nlp_lib import spacy_utilities as su\n",
    "from my_nlp_lib import text_utilities as tu\n",
    "su.print_versions()"
   ]
  },
  {
   "cell_type": "markdown",
   "id": "ruled-navigation",
   "metadata": {},
   "source": [
    "## First let us get the first chapter of Victor Hugo \"Les Misérables\""
   ]
  },
  {
   "cell_type": "code",
   "execution_count": 3,
   "id": "turned-looking",
   "metadata": {},
   "outputs": [
    {
     "name": "stdout",
     "output_type": "stream",
     "text": [
      "## OK : let's print 5 first and last lines of the first chapter of the section :\n",
      "### 5 FIRST LINES : ###\n",
      "\n",
      "Monsieur Myriel\n",
      "\n",
      "\n",
      "En 1815, M. Charles-François-Bienvenu Myriel était évêque de Digne.\n",
      "########################\n",
      "### 5 LAST  LINES : ###\n",
      "L'installation terminée, la ville attendit son évêque à l'oeuvre.\n",
      "\n",
      "\n",
      "\n",
      "\n",
      "########################\n"
     ]
    }
   ],
   "source": [
    "first_section_chapters = tu.get_chapters_dic_of_first_section_of_french_book()\n",
    "first_section_chapter_1 = first_section_chapters['01) Chapitre I']\n",
    "my_offset = 5\n",
    "print(f\"## OK : let's print {my_offset} first and last lines of the first chapter of the section :\")\n",
    "tu.print_head_and_tail(first_section_chapter_1, offset=my_offset)"
   ]
  },
  {
   "cell_type": "code",
   "execution_count": 13,
   "id": "recreational-optimization",
   "metadata": {},
   "outputs": [
    {
     "name": "stdout",
     "output_type": "stream",
     "text": [
      "5862\n"
     ]
    }
   ],
   "source": [
    "chapter_1 = \" \".join(first_section_chapter_1)\n",
    "chapter_1 = chapter_1.replace('\\n\\n', '\\n')\n",
    "print(len(chapter_1))"
   ]
  },
  {
   "cell_type": "markdown",
   "id": "favorite-plumbing",
   "metadata": {},
   "source": [
    "### let's try to summarize the first chapter"
   ]
  },
  {
   "cell_type": "code",
   "execution_count": null,
   "id": "sustainable-density",
   "metadata": {},
   "outputs": [],
   "source": []
  },
  {
   "cell_type": "code",
   "execution_count": 14,
   "id": "arctic-mining",
   "metadata": {},
   "outputs": [
    {
     "name": "stdout",
     "output_type": "stream",
     "text": [
      "1998\n"
     ]
    }
   ],
   "source": [
    "original_text = \"\"\"\n",
    "In 1815 M. Charles François Bienvenu Myriel was Bishop of Digne.\n",
    "He was a man of about seventy-five years of age, and had held the see of Digne since 1806.\n",
    "Although the following details in no way affect our narrative, \n",
    "it may not be useless to quote the rumors that were current\n",
    "about him at the moment when he came to the diocese, for what is said\n",
    "of men, whether it be true or false, often occupies as much space in\n",
    "their life, and especially in their destiny, as what they do. M. Myriel\n",
    "was the son of a councillor of the Aix Parliament. It was said that\n",
    "his father, who intended that he should be his successor, married him\n",
    "at the age of eighteen or twenty, according to a not uncommon custom\n",
    "in parliamentary families. Charles Myriel, in spite of this marriage\n",
    "(so people said), had been the cause of much tattle. He was well\n",
    "built, though of short stature, elegant, graceful, and witty; and the\n",
    "earlier part of his life was devoted to the world and to gallantry. The\n",
    "Revolution came, events hurried on, and the parliamentary families,\n",
    "decimated and hunted down, became dispersed. M. Charles Myriel\n",
    "emigrated to Italy in the early part of the Revolution, and his wife,\n",
    "who had been long suffering from a chest complaint, died there, leaving\n",
    "no children. What next took place in M. Myriel's destiny? Did the\n",
    "overthrow of the old French society, the fall of his own family, and\n",
    "the tragic spectacles of '93, more frightful perhaps to the emigrés who\n",
    "saw them from a distance with the magnifying power of terror, cause\n",
    "ideas of renunciation and solitude to germinate in him? Was he, in the\n",
    "midst of one of the distractions and affections which occupied his\n",
    "life, suddenly assailed by one of those mysterious and terrible blows\n",
    "which often prostrate, by striking at his heart, a man whom public\n",
    "catastrophes could not overthrow by attacking him in his existence and\n",
    "his fortune? No one could have answered these questions; all that was\n",
    "known was that when he returned from Italy he was a priest.\"\"\"\n",
    "print(len(original_text))"
   ]
  },
  {
   "cell_type": "markdown",
   "id": "spoken-quest",
   "metadata": {},
   "source": [
    "here we use the [huggingface transformers](https://huggingface.co/transformers) pretrained model.\n",
    "\n",
    "the first time you run it it will download the rather big 1.2GB model architecture and the weights, so be patient."
   ]
  },
  {
   "cell_type": "code",
   "execution_count": null,
   "id": "entire-pixel",
   "metadata": {},
   "outputs": [],
   "source": [
    "summarization = pipeline(\"summarization\")"
   ]
  },
  {
   "cell_type": "code",
   "execution_count": 15,
   "id": "sufficient-orlando",
   "metadata": {},
   "outputs": [
    {
     "name": "stdout",
     "output_type": "stream",
     "text": [
      "Summary: [{'summary_text': ' In 1815 M. Charles François Bienvenu Myriel was Bishop of Digne . He was a man of about seventy-five years of age, and had held the see of Digne since 1806 . M. Myriel had been the son of a councillor of the Aix Parliament . The Revolution came, events hurried on, and the parliamentary families were dispersed .'}]\n"
     ]
    }
   ],
   "source": [
    "summarization = pipeline(\"summarization\")\n",
    "summary_text = summarization(original_text)\n",
    "print(\"Summary:\", summary_text)"
   ]
  },
  {
   "cell_type": "code",
   "execution_count": null,
   "id": "commercial-collar",
   "metadata": {},
   "outputs": [],
   "source": []
  }
 ],
 "metadata": {
  "kernelspec": {
   "display_name": "Python 3",
   "language": "python",
   "name": "python3"
  },
  "language_info": {
   "codemirror_mode": {
    "name": "ipython",
    "version": 3
   },
   "file_extension": ".py",
   "mimetype": "text/x-python",
   "name": "python",
   "nbconvert_exporter": "python",
   "pygments_lexer": "ipython3",
   "version": "3.8.5"
  }
 },
 "nbformat": 4,
 "nbformat_minor": 5
}
