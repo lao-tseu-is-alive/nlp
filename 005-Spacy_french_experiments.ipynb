{
 "cells": [
  {
   "cell_type": "code",
   "execution_count": 1,
   "id": "exclusive-elimination",
   "metadata": {},
   "outputs": [
    {
     "name": "stdout",
     "output_type": "stream",
     "text": [
      "Python version : 3.8.5 (default, Jul 28 2020, 12:59:40) \n",
      "[GCC 9.3.0]\n",
      "Spacy version  : 3.0.1     \n",
      "Current dir : /home/cgil/PycharmProjects\n"
     ]
    }
   ],
   "source": [
    "import spacy\n",
    "from my_nlp_lib import spacy_utilities as su\n",
    "from my_nlp_lib import text_utilities as tu\n",
    "su.print_versions()"
   ]
  },
  {
   "cell_type": "markdown",
   "id": "deadly-building",
   "metadata": {},
   "source": [
    "## First let us get the first chapter of Victor Hugo \"Les Misérables\""
   ]
  },
  {
   "cell_type": "code",
   "execution_count": 2,
   "id": "reported-plymouth",
   "metadata": {},
   "outputs": [],
   "source": [
    "VICTOR_HUGO_LES_MISERABLES_TOME_1_FANTINE_FILE_PATH='data/pg17489.txt'\n",
    "all_book = tu.get_real_book_from_gutenberg_file(VICTOR_HUGO_LES_MISERABLES_TOME_1_FANTINE_FILE_PATH,offset=5)"
   ]
  },
  {
   "cell_type": "code",
   "execution_count": 3,
   "id": "combined-postage",
   "metadata": {},
   "outputs": [
    {
     "name": "stdout",
     "output_type": "stream",
     "text": [
      "[   15] Livre premier--Un juste\n",
      "[   34] Livre deuxième--La chute\n",
      "[   51] Livre troisième--En l'année 1817\n",
      "[   62] Livre quatrième--Confier, c'est quelquefois livrer\n",
      "[   68] Livre cinquième--La descente\n",
      "[   85] Livre sixième--Javert\n",
      "[   91] Livre septième--L'affaire Champmathieu\n",
      "[  106] Livre huitième--Contre-coup\n",
      "[  117] Livre premier--Un juste\n",
      "[ 2708] Livre deuxième--La chute\n",
      "[ 5384] Livre troisième--En l'année 1817\n",
      "[ 6664] Livre quatrième--Confier, c'est quelquefois livrer\n",
      "[ 7254] Livre cinquième--La descente\n",
      "[ 9170] Livre sixième--Javert\n",
      "[ 9759] Livre septième--L'affaire Champmathieu\n",
      "[13089] Livre huitième--Contre-coup\n"
     ]
    }
   ],
   "source": [
    "tu.print_book_sections_indices(all_book)"
   ]
  },
  {
   "cell_type": "code",
   "execution_count": 4,
   "id": "romance-tribune",
   "metadata": {},
   "outputs": [
    {
     "name": "stdout",
     "output_type": "stream",
     "text": [
      "## OK : let's keep only the lines of the real sections, starting from index 117 upwards\n"
     ]
    }
   ],
   "source": [
    "REAL_BEGINNING_OF_BOOK = 117  # first indice after the table of contents\n",
    "print(f\"## OK : let's keep only the lines of the real sections, starting from index {REAL_BEGINNING_OF_BOOK} upwards\")\n",
    "book = all_book[117:]"
   ]
  },
  {
   "cell_type": "markdown",
   "id": "approved-picking",
   "metadata": {},
   "source": [
    "###  let us get a dictionary from the book sections"
   ]
  },
  {
   "cell_type": "code",
   "execution_count": 5,
   "id": "ancient-charge",
   "metadata": {},
   "outputs": [
    {
     "name": "stdout",
     "output_type": "stream",
     "text": [
      "BOOK SECTIONS KEYS : \n",
      "01) Livre premier--Un juste\n",
      "02) Livre deuxième--La chute\n",
      "03) Livre troisième--En l'année 1817\n",
      "04) Livre quatrième--Confier, c'est quelquefois livrer\n",
      "05) Livre cinquième--La descente\n",
      "06) Livre sixième--Javert\n",
      "07) Livre septième--L'affaire Champmathieu\n",
      "08) Livre huitième--Contre-coup\n"
     ]
    }
   ],
   "source": [
    "book_sections = tu.get_dict_book_parts(book, section_regex=r'^Livre (.+)\\-\\-(.+)$')\n",
    "sections_keys_string = \"\\n\".join(book_sections.keys())\n",
    "print(f\"BOOK SECTIONS KEYS : \\n{sections_keys_string}\")"
   ]
  },
  {
   "cell_type": "markdown",
   "id": "backed-petite",
   "metadata": {},
   "source": [
    "### store first section and extract the chapters into a dictionary"
   ]
  },
  {
   "cell_type": "code",
   "execution_count": 6,
   "id": "associate-rapid",
   "metadata": {},
   "outputs": [
    {
     "name": "stdout",
     "output_type": "stream",
     "text": [
      "FIRST SECTION CHAPTER KEYS : \n",
      "01) Chapitre I\n",
      "02) Chapitre II\n",
      "03) Chapitre III\n",
      "04) Chapitre IV\n",
      "05) Chapitre V\n",
      "06) Chapitre VI\n",
      "07) Chapitre VII\n",
      "08) Chapitre VIII\n",
      "09) Chapitre IX\n",
      "10) Chapitre X\n",
      "11) Chapitre XI\n",
      "12) Chapitre XII\n",
      "13) Chapitre XIII\n",
      "14) Chapitre XIV\n"
     ]
    }
   ],
   "source": [
    "first_section = book_sections['01) Livre premier--Un juste']\n",
    "section_chapters = tu.get_dict_book_parts(first_section, section_regex=r'^Chapitre\\s([IVX]+)$')\n",
    "chapters_keys_string = \"\\n\".join(section_chapters.keys())\n",
    "print(f\"FIRST SECTION CHAPTER KEYS : \\n{chapters_keys_string}\")"
   ]
  },
  {
   "cell_type": "code",
   "execution_count": 8,
   "id": "american-anaheim",
   "metadata": {},
   "outputs": [
    {
     "name": "stdout",
     "output_type": "stream",
     "text": [
      "## OK : let's print 20 first and last lines of the first chapter of the section :\n",
      "### 20 FIRST LINES : ###\n",
      "Chapitre I\n",
      "\n",
      "Monsieur Myriel\n",
      "\n",
      "\n",
      "En 1815, M. Charles-François-Bienvenu Myriel était évêque de Digne.\n",
      "C'était un vieillard d'environ soixante-quinze ans; il occupait le siège\n",
      "de Digne depuis 1806.\n",
      "\n",
      "Quoique ce détail ne touche en aucune manière au fond même de ce que\n",
      "nous avons à raconter, il n'est peut-être pas inutile, ne fût-ce que\n",
      "pour être exact en tout, d'indiquer ici les bruits et les propos qui\n",
      "avaient couru sur son compte au moment où il était arrivé dans le\n",
      "diocèse. Vrai ou faux, ce qu'on dit des hommes tient souvent autant de\n",
      "place dans leur vie et surtout dans leur destinée que ce qu'ils font. M.\n",
      "Myriel était fils d'un conseiller au parlement d'Aix; noblesse de robe.\n",
      "On contait de lui que son père, le réservant pour hériter de sa charge,\n",
      "l'avait marié de fort bonne heure, à dix-huit ou vingt ans, suivant un\n",
      "usage assez répandu dans les familles parlementaires. Charles Myriel,\n",
      "nonobstant ce mariage, avait, disait-on, beaucoup fait parler de lui. Il\n",
      "########################\n",
      "### 20 LAST  LINES : ###\n",
      "ce n'était une vierge. Sa personne semblait faite d'ombre; à peine assez\n",
      "de corps pour qu'il y eût là un sexe; un peu de matière contenant une\n",
      "lueur; de grands yeux toujours baissés; un prétexte pour qu'une âme\n",
      "reste sur la terre.\n",
      "\n",
      "Madame Magloire était une petite vieille, blanche, grasse, replète,\n",
      "affairée, toujours haletante, à cause de son activité d'abord, ensuite à\n",
      "cause d'un asthme.\n",
      "\n",
      "À son arrivée, on installa M. Myriel en son palais épiscopal avec les\n",
      "honneurs voulus par les décrets impériaux qui classent l'évêque\n",
      "immédiatement après le maréchal de camp. Le maire et le président lui\n",
      "firent la première visite, et lui de son côté fit la première visite au\n",
      "général et au préfet.\n",
      "\n",
      "L'installation terminée, la ville attendit son évêque à l'oeuvre.\n",
      "\n",
      "\n",
      "\n",
      "\n",
      "########################\n"
     ]
    }
   ],
   "source": [
    "first_section_chapter_1 = section_chapters['01) Chapitre I']\n",
    "my_offset = 20\n",
    "print(f\"## OK : let's print {my_offset} first and last lines of the first chapter of the section :\")\n",
    "tu.print_head_and_tail(first_section_chapter_1, offset=my_offset)"
   ]
  },
  {
   "cell_type": "markdown",
   "id": "paperback-analysis",
   "metadata": {},
   "source": [
    "## let's now use spacy to analyse the first chapter"
   ]
  },
  {
   "cell_type": "code",
   "execution_count": 9,
   "id": "fixed-password",
   "metadata": {},
   "outputs": [],
   "source": [
    "# load the normal french model\n",
    "nlp = spacy.load('fr_core_news_sm')"
   ]
  },
  {
   "cell_type": "code",
   "execution_count": 16,
   "id": "instant-august",
   "metadata": {},
   "outputs": [],
   "source": [
    "doc = nlp(\"\\n\".join(first_section_chapter_1))"
   ]
  },
  {
   "cell_type": "code",
   "execution_count": 17,
   "id": "seven-enzyme",
   "metadata": {},
   "outputs": [],
   "source": [
    "from spacy import displacy"
   ]
  },
  {
   "cell_type": "code",
   "execution_count": 18,
   "id": "cloudy-framing",
   "metadata": {},
   "outputs": [
    {
     "data": {
      "text/html": [
       "<span class=\"tex2jax_ignore\"><div class=\"entities\" style=\"line-height: 2.5; direction: ltr\">\n",
       "<mark class=\"entity\" style=\"background: #ddd; padding: 0.45em 0.6em; margin: 0 0.25em; line-height: 1; border-radius: 0.35em;\">\n",
       "    Chapitre I\n",
       "\n",
       "Monsieur\n",
       "    <span style=\"font-size: 0.8em; font-weight: bold; line-height: 1; border-radius: 0.35em; vertical-align: middle; margin-left: 0.5rem\">PER</span>\n",
       "</mark>\n",
       " Myriel</br></br></br>En 1815, M. \n",
       "<mark class=\"entity\" style=\"background: #ddd; padding: 0.45em 0.6em; margin: 0 0.25em; line-height: 1; border-radius: 0.35em;\">\n",
       "    Charles\n",
       "    <span style=\"font-size: 0.8em; font-weight: bold; line-height: 1; border-radius: 0.35em; vertical-align: middle; margin-left: 0.5rem\">PER</span>\n",
       "</mark>\n",
       "-\n",
       "<mark class=\"entity\" style=\"background: #ddd; padding: 0.45em 0.6em; margin: 0 0.25em; line-height: 1; border-radius: 0.35em;\">\n",
       "    François\n",
       "    <span style=\"font-size: 0.8em; font-weight: bold; line-height: 1; border-radius: 0.35em; vertical-align: middle; margin-left: 0.5rem\">PER</span>\n",
       "</mark>\n",
       "-\n",
       "<mark class=\"entity\" style=\"background: #ddd; padding: 0.45em 0.6em; margin: 0 0.25em; line-height: 1; border-radius: 0.35em;\">\n",
       "    Bienvenu Myriel\n",
       "    <span style=\"font-size: 0.8em; font-weight: bold; line-height: 1; border-radius: 0.35em; vertical-align: middle; margin-left: 0.5rem\">PER</span>\n",
       "</mark>\n",
       " était évêque de \n",
       "<mark class=\"entity\" style=\"background: #ff9561; padding: 0.45em 0.6em; margin: 0 0.25em; line-height: 1; border-radius: 0.35em;\">\n",
       "    Digne\n",
       "    <span style=\"font-size: 0.8em; font-weight: bold; line-height: 1; border-radius: 0.35em; vertical-align: middle; margin-left: 0.5rem\">LOC</span>\n",
       "</mark>\n",
       ".</br>C'était un vieillard d'environ soixante-quinze ans; il occupait le siège</br>de \n",
       "<mark class=\"entity\" style=\"background: #ff9561; padding: 0.45em 0.6em; margin: 0 0.25em; line-height: 1; border-radius: 0.35em;\">\n",
       "    Digne\n",
       "    <span style=\"font-size: 0.8em; font-weight: bold; line-height: 1; border-radius: 0.35em; vertical-align: middle; margin-left: 0.5rem\">LOC</span>\n",
       "</mark>\n",
       " depuis 1806.</br></br>Quoique ce détail ne touche en aucune manière au fond même de ce que</br>nous avons à raconter, il n'est peut-être pas inutile, ne fût-ce que</br>pour être exact en tout, d'indiquer ici les bruits et les propos qui</br>avaient couru sur son compte au moment où il était arrivé dans le</br>diocèse. \n",
       "<mark class=\"entity\" style=\"background: #ff9561; padding: 0.45em 0.6em; margin: 0 0.25em; line-height: 1; border-radius: 0.35em;\">\n",
       "    Vrai\n",
       "    <span style=\"font-size: 0.8em; font-weight: bold; line-height: 1; border-radius: 0.35em; vertical-align: middle; margin-left: 0.5rem\">LOC</span>\n",
       "</mark>\n",
       " ou faux, ce qu'on dit des hommes tient souvent autant de</br>place dans leur vie et surtout dans leur destinée que ce qu'ils font. M.</br>\n",
       "<mark class=\"entity\" style=\"background: #ff9561; padding: 0.45em 0.6em; margin: 0 0.25em; line-height: 1; border-radius: 0.35em;\">\n",
       "    Myriel\n",
       "    <span style=\"font-size: 0.8em; font-weight: bold; line-height: 1; border-radius: 0.35em; vertical-align: middle; margin-left: 0.5rem\">LOC</span>\n",
       "</mark>\n",
       " était fils d'un conseiller au \n",
       "<mark class=\"entity\" style=\"background: #ddd; padding: 0.45em 0.6em; margin: 0 0.25em; line-height: 1; border-radius: 0.35em;\">\n",
       "    parlement d'Aix\n",
       "    <span style=\"font-size: 0.8em; font-weight: bold; line-height: 1; border-radius: 0.35em; vertical-align: middle; margin-left: 0.5rem\">MISC</span>\n",
       "</mark>\n",
       "; noblesse de robe.</br>On contait de lui que son père, le réservant pour hériter de sa charge,</br>l'avait marié de fort bonne heure, à dix-huit ou vingt ans, suivant un</br>usage assez répandu dans les familles parlementaires. \n",
       "<mark class=\"entity\" style=\"background: #ddd; padding: 0.45em 0.6em; margin: 0 0.25em; line-height: 1; border-radius: 0.35em;\">\n",
       "    Charles Myriel\n",
       "    <span style=\"font-size: 0.8em; font-weight: bold; line-height: 1; border-radius: 0.35em; vertical-align: middle; margin-left: 0.5rem\">PER</span>\n",
       "</mark>\n",
       ",</br>nonobstant ce mariage, avait, disait-on, beaucoup fait parler de lui. Il</br>était bien fait de sa personne, quoique d'assez petite taille, élégant,</br>gracieux, spirituel; toute la première partie de sa vie avait été donnée</br>au monde et aux galanteries. La révolution survint, les événements se</br>précipitèrent, les familles parlementaires décimées, chassées, traquées,</br>se dispersèrent. M. \n",
       "<mark class=\"entity\" style=\"background: #ddd; padding: 0.45em 0.6em; margin: 0 0.25em; line-height: 1; border-radius: 0.35em;\">\n",
       "    Charles Myriel\n",
       "    <span style=\"font-size: 0.8em; font-weight: bold; line-height: 1; border-radius: 0.35em; vertical-align: middle; margin-left: 0.5rem\">PER</span>\n",
       "</mark>\n",
       ", dès les premiers jours de la</br>révolution, émigra en \n",
       "<mark class=\"entity\" style=\"background: #ff9561; padding: 0.45em 0.6em; margin: 0 0.25em; line-height: 1; border-radius: 0.35em;\">\n",
       "    Italie\n",
       "    <span style=\"font-size: 0.8em; font-weight: bold; line-height: 1; border-radius: 0.35em; vertical-align: middle; margin-left: 0.5rem\">LOC</span>\n",
       "</mark>\n",
       ". Sa femme y mourut d'une maladie de</br>poitrine dont elle était atteinte depuis longtemps. Ils n'avaient point</br>d'enfants. Que se passa-t-il ensuite dans la destinée de M. \n",
       "<mark class=\"entity\" style=\"background: #ff9561; padding: 0.45em 0.6em; margin: 0 0.25em; line-height: 1; border-radius: 0.35em;\">\n",
       "    Myriel\n",
       "    <span style=\"font-size: 0.8em; font-weight: bold; line-height: 1; border-radius: 0.35em; vertical-align: middle; margin-left: 0.5rem\">LOC</span>\n",
       "</mark>\n",
       "?</br>L'écroulement de l'ancienne société française, la chute de sa propre</br>famille, les tragiques spectacles de 93, plus effrayants encore</br>peut-être pour les émigrés qui les voyaient de loin avec le</br>grossissement de l'épouvante, firent-ils germer en lui des idées de</br>renoncement et de solitude? \n",
       "<mark class=\"entity\" style=\"background: #ddd; padding: 0.45em 0.6em; margin: 0 0.25em; line-height: 1; border-radius: 0.35em;\">\n",
       "    Fut\n",
       "    <span style=\"font-size: 0.8em; font-weight: bold; line-height: 1; border-radius: 0.35em; vertical-align: middle; margin-left: 0.5rem\">PER</span>\n",
       "</mark>\n",
       "-il, au milieu d'une de ces distractions</br>et de ces affections qui occupaient sa vie, subitement atteint d'un de</br>ces coups mystérieux et terribles qui viennent quelquefois renverser, en</br>le frappant au coeur, l'homme que les catastrophes publiques</br>n'ébranleraient pas en le frappant dans son existence et dans sa</br>fortune? Nul n'aurait pu le dire; tout ce qu'on savait, c'est que,</br>lorsqu'il revint \n",
       "<mark class=\"entity\" style=\"background: #ff9561; padding: 0.45em 0.6em; margin: 0 0.25em; line-height: 1; border-radius: 0.35em;\">\n",
       "    d'Italie\n",
       "    <span style=\"font-size: 0.8em; font-weight: bold; line-height: 1; border-radius: 0.35em; vertical-align: middle; margin-left: 0.5rem\">LOC</span>\n",
       "</mark>\n",
       ", il était prêtre.</br></br>En 1804, M. \n",
       "<mark class=\"entity\" style=\"background: #ff9561; padding: 0.45em 0.6em; margin: 0 0.25em; line-height: 1; border-radius: 0.35em;\">\n",
       "    Myriel\n",
       "    <span style=\"font-size: 0.8em; font-weight: bold; line-height: 1; border-radius: 0.35em; vertical-align: middle; margin-left: 0.5rem\">LOC</span>\n",
       "</mark>\n",
       " était curé de \n",
       "<mark class=\"entity\" style=\"background: #ff9561; padding: 0.45em 0.6em; margin: 0 0.25em; line-height: 1; border-radius: 0.35em;\">\n",
       "    Brignolles\n",
       "    <span style=\"font-size: 0.8em; font-weight: bold; line-height: 1; border-radius: 0.35em; vertical-align: middle; margin-left: 0.5rem\">LOC</span>\n",
       "</mark>\n",
       ". Il était déjà vieux, et</br>vivait dans une retraite profonde.</br></br>Vers l'époque du couronnement, une petite affaire de sa cure, on ne sait</br>plus trop quoi, l'amena à \n",
       "<mark class=\"entity\" style=\"background: #ff9561; padding: 0.45em 0.6em; margin: 0 0.25em; line-height: 1; border-radius: 0.35em;\">\n",
       "    Paris\n",
       "    <span style=\"font-size: 0.8em; font-weight: bold; line-height: 1; border-radius: 0.35em; vertical-align: middle; margin-left: 0.5rem\">LOC</span>\n",
       "</mark>\n",
       ". Entre autres personnes puissantes, il</br>alla solliciter pour ses paroissiens \n",
       "<mark class=\"entity\" style=\"background: #ddd; padding: 0.45em 0.6em; margin: 0 0.25em; line-height: 1; border-radius: 0.35em;\">\n",
       "    M.\n",
       "    <span style=\"font-size: 0.8em; font-weight: bold; line-height: 1; border-radius: 0.35em; vertical-align: middle; margin-left: 0.5rem\">PER</span>\n",
       "</mark>\n",
       " le cardinal Fesch. Un jour que</br>l'empereur était venu faire visite à son oncle, le digne curé, qui</br>attendait dans l'antichambre, se trouva sur le passage de sa majesté.</br>\n",
       "<mark class=\"entity\" style=\"background: #ddd; padding: 0.45em 0.6em; margin: 0 0.25em; line-height: 1; border-radius: 0.35em;\">\n",
       "    Napoléon\n",
       "    <span style=\"font-size: 0.8em; font-weight: bold; line-height: 1; border-radius: 0.35em; vertical-align: middle; margin-left: 0.5rem\">PER</span>\n",
       "</mark>\n",
       ", se voyant regardé avec une certaine curiosité par ce</br>vieillard, se retourna, et dit brusquement:</br></br>--Quel est ce bonhomme qui me regarde?</br></br>--Sire, dit M. \n",
       "<mark class=\"entity\" style=\"background: #ff9561; padding: 0.45em 0.6em; margin: 0 0.25em; line-height: 1; border-radius: 0.35em;\">\n",
       "    Myriel\n",
       "    <span style=\"font-size: 0.8em; font-weight: bold; line-height: 1; border-radius: 0.35em; vertical-align: middle; margin-left: 0.5rem\">LOC</span>\n",
       "</mark>\n",
       ", vous regardez un bonhomme, et moi je regarde un</br>grand homme. Chacun de nous peut profiter.</br></br>\n",
       "<mark class=\"entity\" style=\"background: #ddd; padding: 0.45em 0.6em; margin: 0 0.25em; line-height: 1; border-radius: 0.35em;\">\n",
       "    L'empereur\n",
       "    <span style=\"font-size: 0.8em; font-weight: bold; line-height: 1; border-radius: 0.35em; vertical-align: middle; margin-left: 0.5rem\">PER</span>\n",
       "</mark>\n",
       ", le soir même, demanda au cardinal le nom de ce curé, et</br>quelque temps après \n",
       "<mark class=\"entity\" style=\"background: #ddd; padding: 0.45em 0.6em; margin: 0 0.25em; line-height: 1; border-radius: 0.35em;\">\n",
       "    M.\n",
       "    <span style=\"font-size: 0.8em; font-weight: bold; line-height: 1; border-radius: 0.35em; vertical-align: middle; margin-left: 0.5rem\">PER</span>\n",
       "</mark>\n",
       " \n",
       "<mark class=\"entity\" style=\"background: #ff9561; padding: 0.45em 0.6em; margin: 0 0.25em; line-height: 1; border-radius: 0.35em;\">\n",
       "    Myriel\n",
       "    <span style=\"font-size: 0.8em; font-weight: bold; line-height: 1; border-radius: 0.35em; vertical-align: middle; margin-left: 0.5rem\">LOC</span>\n",
       "</mark>\n",
       " fut tout surpris d'apprendre qu'il était</br>nommé évêque de \n",
       "<mark class=\"entity\" style=\"background: #ff9561; padding: 0.45em 0.6em; margin: 0 0.25em; line-height: 1; border-radius: 0.35em;\">\n",
       "    Digne\n",
       "    <span style=\"font-size: 0.8em; font-weight: bold; line-height: 1; border-radius: 0.35em; vertical-align: middle; margin-left: 0.5rem\">LOC</span>\n",
       "</mark>\n",
       ".</br></br>Qu'y avait-il de vrai, du reste, dans les récits qu'on faisait sur la</br>première partie de la vie de M. \n",
       "<mark class=\"entity\" style=\"background: #ff9561; padding: 0.45em 0.6em; margin: 0 0.25em; line-height: 1; border-radius: 0.35em;\">\n",
       "    Myriel\n",
       "    <span style=\"font-size: 0.8em; font-weight: bold; line-height: 1; border-radius: 0.35em; vertical-align: middle; margin-left: 0.5rem\">LOC</span>\n",
       "</mark>\n",
       "? Personne ne le savait. Peu de</br>familles avaient connu la famille \n",
       "<mark class=\"entity\" style=\"background: #ff9561; padding: 0.45em 0.6em; margin: 0 0.25em; line-height: 1; border-radius: 0.35em;\">\n",
       "    Myriel\n",
       "    <span style=\"font-size: 0.8em; font-weight: bold; line-height: 1; border-radius: 0.35em; vertical-align: middle; margin-left: 0.5rem\">LOC</span>\n",
       "</mark>\n",
       " avant la révolution.</br></br>M. \n",
       "<mark class=\"entity\" style=\"background: #ff9561; padding: 0.45em 0.6em; margin: 0 0.25em; line-height: 1; border-radius: 0.35em;\">\n",
       "    Myriel\n",
       "    <span style=\"font-size: 0.8em; font-weight: bold; line-height: 1; border-radius: 0.35em; vertical-align: middle; margin-left: 0.5rem\">LOC</span>\n",
       "</mark>\n",
       " devait subir le sort de tout nouveau venu dans une petite</br>ville où il y a beaucoup de bouches qui parlent et fort peu de têtes qui</br>pensent. Il devait le subir, quoiqu'il fût évêque et parce qu'il était</br>évêque. Mais, après tout, les propos auxquels on mêlait son nom</br>n'étaient peut-être que des propos; du bruit, des mots, des paroles;</br>moins que des paroles, des _palabres_, comme dit l'énergique langue du</br>midi.</br></br>Quoi qu'il en fût, après neuf ans d'épiscopat et de résidence à \n",
       "<mark class=\"entity\" style=\"background: #ff9561; padding: 0.45em 0.6em; margin: 0 0.25em; line-height: 1; border-radius: 0.35em;\">\n",
       "    Digne\n",
       "    <span style=\"font-size: 0.8em; font-weight: bold; line-height: 1; border-radius: 0.35em; vertical-align: middle; margin-left: 0.5rem\">LOC</span>\n",
       "</mark>\n",
       ",</br>tous ces racontages, sujets de conversation qui occupent dans le premier</br>moment les petites villes et les petites gens, étaient tombés dans un</br>oubli profond. Personne n'eût osé en parler, personne n'eût même osé</br>s'en souvenir.</br></br>M. \n",
       "<mark class=\"entity\" style=\"background: #ff9561; padding: 0.45em 0.6em; margin: 0 0.25em; line-height: 1; border-radius: 0.35em;\">\n",
       "    Myriel\n",
       "    <span style=\"font-size: 0.8em; font-weight: bold; line-height: 1; border-radius: 0.35em; vertical-align: middle; margin-left: 0.5rem\">LOC</span>\n",
       "</mark>\n",
       " était arrivé à \n",
       "<mark class=\"entity\" style=\"background: #ff9561; padding: 0.45em 0.6em; margin: 0 0.25em; line-height: 1; border-radius: 0.35em;\">\n",
       "    Digne\n",
       "    <span style=\"font-size: 0.8em; font-weight: bold; line-height: 1; border-radius: 0.35em; vertical-align: middle; margin-left: 0.5rem\">LOC</span>\n",
       "</mark>\n",
       " accompagné d'une vieille fille,</br>mademoiselle \n",
       "<mark class=\"entity\" style=\"background: #ff9561; padding: 0.45em 0.6em; margin: 0 0.25em; line-height: 1; border-radius: 0.35em;\">\n",
       "    Baptistine\n",
       "    <span style=\"font-size: 0.8em; font-weight: bold; line-height: 1; border-radius: 0.35em; vertical-align: middle; margin-left: 0.5rem\">LOC</span>\n",
       "</mark>\n",
       ", qui était sa soeur et qui avait dix ans de</br>moins que lui.</br></br>Ils avaient pour tout domestique une servante du même âge que</br>\n",
       "<mark class=\"entity\" style=\"background: #ff9561; padding: 0.45em 0.6em; margin: 0 0.25em; line-height: 1; border-radius: 0.35em;\">\n",
       "    mademoiselle Baptistine\n",
       "    <span style=\"font-size: 0.8em; font-weight: bold; line-height: 1; border-radius: 0.35em; vertical-align: middle; margin-left: 0.5rem\">LOC</span>\n",
       "</mark>\n",
       ", et appelée madame \n",
       "<mark class=\"entity\" style=\"background: #ddd; padding: 0.45em 0.6em; margin: 0 0.25em; line-height: 1; border-radius: 0.35em;\">\n",
       "    Magloire\n",
       "    <span style=\"font-size: 0.8em; font-weight: bold; line-height: 1; border-radius: 0.35em; vertical-align: middle; margin-left: 0.5rem\">PER</span>\n",
       "</mark>\n",
       ", laquelle, après</br>avoir été _la servante de \n",
       "<mark class=\"entity\" style=\"background: #ddd; padding: 0.45em 0.6em; margin: 0 0.25em; line-height: 1; border-radius: 0.35em;\">\n",
       "    M. le Curé\n",
       "    <span style=\"font-size: 0.8em; font-weight: bold; line-height: 1; border-radius: 0.35em; vertical-align: middle; margin-left: 0.5rem\">PER</span>\n",
       "</mark>\n",
       "_, prenait maintenant le double</br>titre de femme de chambre de mademoiselle et femme de charge de</br>monseigneur.</br></br>\n",
       "<mark class=\"entity\" style=\"background: #ddd; padding: 0.45em 0.6em; margin: 0 0.25em; line-height: 1; border-radius: 0.35em;\">\n",
       "    Mademoiselle Baptistine\n",
       "    <span style=\"font-size: 0.8em; font-weight: bold; line-height: 1; border-radius: 0.35em; vertical-align: middle; margin-left: 0.5rem\">PER</span>\n",
       "</mark>\n",
       " était une personne longue, pâle, mince, douce;</br>elle réalisait l'idéal de ce qu'exprime le mot «respectable»; car il</br>semble qu'il soit nécessaire qu'une femme soit mère pour être vénérable.</br>Elle n'avait jamais été jolie; toute sa vie, qui n'avait été qu'une</br>suite de saintes oeuvres, avait fini par mettre sur elle une sorte de</br>blancheur et de clarté; et, en vieillissant, elle avait gagné ce qu'on</br>pourrait appeler la beauté de la bonté. Ce qui avait été de la maigreur</br>dans sa jeunesse était devenu, dans sa maturité, de la transparence; et</br>cette diaphanéité laissait voir l'ange. C'était une âme plus encore que</br>ce n'était une vierge. Sa personne semblait faite d'ombre; à peine assez</br>de corps pour qu'il y eût là un sexe; un peu de matière contenant une</br>lueur; de grands yeux toujours baissés; un prétexte pour qu'une âme</br>reste sur la terre.</br></br>\n",
       "<mark class=\"entity\" style=\"background: #ddd; padding: 0.45em 0.6em; margin: 0 0.25em; line-height: 1; border-radius: 0.35em;\">\n",
       "    Madame Magloire\n",
       "    <span style=\"font-size: 0.8em; font-weight: bold; line-height: 1; border-radius: 0.35em; vertical-align: middle; margin-left: 0.5rem\">PER</span>\n",
       "</mark>\n",
       " était une petite vieille, blanche, grasse, replète,</br>affairée, toujours haletante, à cause de son activité d'abord, ensuite à</br>cause d'un asthme.</br></br>À son arrivée, on installa M. \n",
       "<mark class=\"entity\" style=\"background: #ff9561; padding: 0.45em 0.6em; margin: 0 0.25em; line-height: 1; border-radius: 0.35em;\">\n",
       "    Myriel\n",
       "    <span style=\"font-size: 0.8em; font-weight: bold; line-height: 1; border-radius: 0.35em; vertical-align: middle; margin-left: 0.5rem\">LOC</span>\n",
       "</mark>\n",
       " en son palais épiscopal avec les</br>honneurs voulus par les décrets impériaux qui classent l'évêque</br>immédiatement après le maréchal de camp. Le maire et le président lui</br>firent la première visite, et lui de son côté fit la première visite au</br>général et au préfet.</br></br>L'installation terminée, la ville attendit son évêque à l'oeuvre.</br></br></br></br></div></span>"
      ],
      "text/plain": [
       "<IPython.core.display.HTML object>"
      ]
     },
     "metadata": {},
     "output_type": "display_data"
    }
   ],
   "source": [
    "displacy.render(doc, style='ent', jupyter=True)"
   ]
  },
  {
   "cell_type": "code",
   "execution_count": null,
   "id": "laden-circus",
   "metadata": {},
   "outputs": [],
   "source": []
  }
 ],
 "metadata": {
  "kernelspec": {
   "display_name": "Python 3",
   "language": "python",
   "name": "python3"
  },
  "language_info": {
   "codemirror_mode": {
    "name": "ipython",
    "version": 3
   },
   "file_extension": ".py",
   "mimetype": "text/x-python",
   "name": "python",
   "nbconvert_exporter": "python",
   "pygments_lexer": "ipython3",
   "version": "3.8.5"
  }
 },
 "nbformat": 4,
 "nbformat_minor": 5
}
