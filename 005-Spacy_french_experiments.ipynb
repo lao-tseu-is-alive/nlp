{
 "cells": [
  {
   "cell_type": "code",
   "execution_count": 1,
   "id": "legitimate-fundamentals",
   "metadata": {},
   "outputs": [
    {
     "name": "stdout",
     "output_type": "stream",
     "text": [
      "Python version : 3.8.5 (default, Jul 28 2020, 12:59:40) \n",
      "[GCC 9.3.0]\n",
      "Spacy version  : 3.0.1     \n",
      "Current dir : /home/cgil/PycharmProjects\n"
     ]
    }
   ],
   "source": [
    "import spacy\n",
    "from spacy import displacy\n",
    "from my_nlp_lib import spacy_utilities as su\n",
    "from my_nlp_lib import text_utilities as tu\n",
    "su.print_versions()"
   ]
  },
  {
   "cell_type": "markdown",
   "id": "ruled-navigation",
   "metadata": {},
   "source": [
    "## First let us get the first chapter of Victor Hugo \"Les Misérables\""
   ]
  },
  {
   "cell_type": "code",
   "execution_count": 2,
   "id": "formed-spell",
   "metadata": {},
   "outputs": [],
   "source": [
    "VICTOR_HUGO_LES_MISERABLES_TOME_1_FANTINE_FILE_PATH='data/pg17489.txt'\n",
    "all_book = tu.get_real_book_from_gutenberg_file(VICTOR_HUGO_LES_MISERABLES_TOME_1_FANTINE_FILE_PATH,offset=5)"
   ]
  },
  {
   "cell_type": "code",
   "execution_count": 3,
   "id": "round-navigation",
   "metadata": {},
   "outputs": [
    {
     "name": "stdout",
     "output_type": "stream",
     "text": [
      "[   15] Livre premier--Un juste\n",
      "[   34] Livre deuxième--La chute\n",
      "[   51] Livre troisième--En l'année 1817\n",
      "[   62] Livre quatrième--Confier, c'est quelquefois livrer\n",
      "[   68] Livre cinquième--La descente\n",
      "[   85] Livre sixième--Javert\n",
      "[   91] Livre septième--L'affaire Champmathieu\n",
      "[  106] Livre huitième--Contre-coup\n",
      "[  117] Livre premier--Un juste\n",
      "[ 2708] Livre deuxième--La chute\n",
      "[ 5384] Livre troisième--En l'année 1817\n",
      "[ 6664] Livre quatrième--Confier, c'est quelquefois livrer\n",
      "[ 7254] Livre cinquième--La descente\n",
      "[ 9170] Livre sixième--Javert\n",
      "[ 9759] Livre septième--L'affaire Champmathieu\n",
      "[13089] Livre huitième--Contre-coup\n"
     ]
    }
   ],
   "source": [
    "tu.print_book_sections_indices(all_book)"
   ]
  },
  {
   "cell_type": "code",
   "execution_count": 4,
   "id": "provincial-accessory",
   "metadata": {},
   "outputs": [
    {
     "name": "stdout",
     "output_type": "stream",
     "text": [
      "## OK : let's keep only the lines of the real sections, starting from index 117 upwards\n"
     ]
    }
   ],
   "source": [
    "REAL_BEGINNING_OF_BOOK = 117  # first indice after the table of contents\n",
    "print(f\"## OK : let's keep only the lines of the real sections, starting from index {REAL_BEGINNING_OF_BOOK} upwards\")\n",
    "book = all_book[117:]"
   ]
  },
  {
   "cell_type": "markdown",
   "id": "encouraging-adoption",
   "metadata": {},
   "source": [
    "###  let us get a dictionary from the book sections"
   ]
  },
  {
   "cell_type": "code",
   "execution_count": 5,
   "id": "fleet-transsexual",
   "metadata": {},
   "outputs": [
    {
     "name": "stdout",
     "output_type": "stream",
     "text": [
      "BOOK SECTIONS KEYS : \n",
      "01) Livre premier--Un juste\n",
      "02) Livre deuxième--La chute\n",
      "03) Livre troisième--En l'année 1817\n",
      "04) Livre quatrième--Confier, c'est quelquefois livrer\n",
      "05) Livre cinquième--La descente\n",
      "06) Livre sixième--Javert\n",
      "07) Livre septième--L'affaire Champmathieu\n",
      "08) Livre huitième--Contre-coup\n"
     ]
    }
   ],
   "source": [
    "book_sections = tu.get_dict_book_parts(book, section_regex=r'^Livre (.+)\\-\\-(.+)$')\n",
    "sections_keys_string = \"\\n\".join(book_sections.keys())\n",
    "print(f\"BOOK SECTIONS KEYS : \\n{sections_keys_string}\")"
   ]
  },
  {
   "cell_type": "markdown",
   "id": "structured-spanking",
   "metadata": {},
   "source": [
    "### store first section and extract the chapters into a dictionary"
   ]
  },
  {
   "cell_type": "code",
   "execution_count": 6,
   "id": "promising-belle",
   "metadata": {},
   "outputs": [
    {
     "name": "stdout",
     "output_type": "stream",
     "text": [
      "FIRST SECTION CHAPTER KEYS : \n",
      "01) Chapitre I\n",
      "02) Chapitre II\n",
      "03) Chapitre III\n",
      "04) Chapitre IV\n",
      "05) Chapitre V\n",
      "06) Chapitre VI\n",
      "07) Chapitre VII\n",
      "08) Chapitre VIII\n",
      "09) Chapitre IX\n",
      "10) Chapitre X\n",
      "11) Chapitre XI\n",
      "12) Chapitre XII\n",
      "13) Chapitre XIII\n",
      "14) Chapitre XIV\n"
     ]
    }
   ],
   "source": [
    "first_section = book_sections['01) Livre premier--Un juste']\n",
    "section_chapters = tu.get_dict_book_parts(first_section, section_regex=r'^Chapitre\\s([IVX]+)$')\n",
    "chapters_keys_string = \"\\n\".join(section_chapters.keys())\n",
    "print(f\"FIRST SECTION CHAPTER KEYS : \\n{chapters_keys_string}\")"
   ]
  },
  {
   "cell_type": "code",
   "execution_count": 7,
   "id": "turned-looking",
   "metadata": {},
   "outputs": [
    {
     "name": "stdout",
     "output_type": "stream",
     "text": [
      "## OK : let's print 20 first and last lines of the first chapter of the section :\n",
      "### 20 FIRST LINES : ###\n",
      "\n",
      "Monsieur Myriel\n",
      "\n",
      "\n",
      "En 1815, M. Charles-François-Bienvenu Myriel était évêque de Digne.\n",
      "C'était un vieillard d'environ soixante-quinze ans; il occupait le siège\n",
      "de Digne depuis 1806.\n",
      "\n",
      "Quoique ce détail ne touche en aucune manière au fond même de ce que\n",
      "nous avons à raconter, il n'est peut-être pas inutile, ne fût-ce que\n",
      "pour être exact en tout, d'indiquer ici les bruits et les propos qui\n",
      "avaient couru sur son compte au moment où il était arrivé dans le\n",
      "diocèse. Vrai ou faux, ce qu'on dit des hommes tient souvent autant de\n",
      "place dans leur vie et surtout dans leur destinée que ce qu'ils font. M.\n",
      "Myriel était fils d'un conseiller au parlement d'Aix; noblesse de robe.\n",
      "On contait de lui que son père, le réservant pour hériter de sa charge,\n",
      "l'avait marié de fort bonne heure, à dix-huit ou vingt ans, suivant un\n",
      "usage assez répandu dans les familles parlementaires. Charles Myriel,\n",
      "nonobstant ce mariage, avait, disait-on, beaucoup fait parler de lui. Il\n",
      "était bien fait de sa personne, quoique d'assez petite taille, élégant,\n",
      "########################\n",
      "### 20 LAST  LINES : ###\n",
      "ce n'était une vierge. Sa personne semblait faite d'ombre; à peine assez\n",
      "de corps pour qu'il y eût là un sexe; un peu de matière contenant une\n",
      "lueur; de grands yeux toujours baissés; un prétexte pour qu'une âme\n",
      "reste sur la terre.\n",
      "\n",
      "Madame Magloire était une petite vieille, blanche, grasse, replète,\n",
      "affairée, toujours haletante, à cause de son activité d'abord, ensuite à\n",
      "cause d'un asthme.\n",
      "\n",
      "À son arrivée, on installa M. Myriel en son palais épiscopal avec les\n",
      "honneurs voulus par les décrets impériaux qui classent l'évêque\n",
      "immédiatement après le maréchal de camp. Le maire et le président lui\n",
      "firent la première visite, et lui de son côté fit la première visite au\n",
      "général et au préfet.\n",
      "\n",
      "L'installation terminée, la ville attendit son évêque à l'oeuvre.\n",
      "\n",
      "\n",
      "\n",
      "\n",
      "########################\n"
     ]
    }
   ],
   "source": [
    "first_section_chapter_1 = section_chapters['01) Chapitre I']\n",
    "my_offset = 20\n",
    "print(f\"## OK : let's print {my_offset} first and last lines of the first chapter of the section :\")\n",
    "tu.print_head_and_tail(first_section_chapter_1, offset=my_offset)"
   ]
  },
  {
   "cell_type": "markdown",
   "id": "favorite-plumbing",
   "metadata": {},
   "source": [
    "## let's now use spacy to analyse the first chapter"
   ]
  },
  {
   "cell_type": "code",
   "execution_count": 8,
   "id": "harmful-request",
   "metadata": {},
   "outputs": [],
   "source": [
    "# load the normal french model\n",
    "nlp = spacy.load('fr_core_news_sm')"
   ]
  },
  {
   "cell_type": "code",
   "execution_count": 46,
   "id": "recreational-optimization",
   "metadata": {},
   "outputs": [
    {
     "name": "stdout",
     "output_type": "stream",
     "text": [
      " Monsieur Myriel   En 1815, M. Charles-François-Bienvenu Myriel était évêque de Digne. C'était un vieillard d'environ soixante-quinze ans; il occupait le siège de Digne depuis 1806.  Quoique ce détail ne touche en aucune manière au fond même de ce que nous avons à raconter, il n'est peut-être pas inutile, ne fût-ce que pour être exact en tout, d'indiquer ici les bruits et les propos qui avaient couru sur son compte au moment où il était arrivé dans le diocèse. Vrai ou faux, ce qu'on dit des hommes tient souvent autant de place dans leur vie et surtout dans leur destinée que ce qu'ils font. M. Myriel était fils d'un conseiller au parlement d'Aix; noblesse de robe. On contait de lui que son père, le réservant pour hériter de sa charge, l'avait marié de fort bonne heure, à dix-huit ou vingt ans, suivant un usage assez répandu dans les familles parlementaires. Charles Myriel, nonobstant ce mariage, avait, disait-on, beaucoup fait parler de lui. Il était bien fait de sa personne, quoique d'assez petite taille, élégant, gracieux, spirituel; toute la première partie de sa vie avait été donnée au monde et aux galanteries. La révolution survint, les événements se précipitèrent, les familles parlementaires décimées, chassées, traquées, se dispersèrent. M. Charles Myriel, dès les premiers jours de la révolution, émigra en Italie. Sa femme y mourut d'une maladie de poitrine dont elle était atteinte depuis longtemps. Ils n'avaient point d'enfants. Que se passa-t-il ensuite dans la destinée de M. Myriel? L'écroulement de l'ancienne société française, la chute de sa propre famille, les tragiques spectacles de 93, plus effrayants encore peut-être pour les émigrés qui les voyaient de loin avec le grossissement de l'épouvante, firent-ils germer en lui des idées de renoncement et de solitude? Fut-il, au milieu d'une de ces distractions et de ces affections qui occupaient sa vie, subitement atteint d'un de ces coups mystérieux et terribles qui viennent quelquefois renverser, en le frappant au coeur, l'homme que les catastrophes publiques n'ébranleraient pas en le frappant dans son existence et dans sa fortune? Nul n'aurait pu le dire; tout ce qu'on savait, c'est que, lorsqu'il revint d'Italie, il était prêtre.  En 1804, M. Myriel était curé de Brignolles. Il était déjà vieux, et vivait dans une retraite profonde.  Vers l'époque du couronnement, une petite affaire de sa cure, on ne sait plus trop quoi, l'amena à Paris. Entre autres personnes puissantes, il alla solliciter pour ses paroissiens M. le cardinal Fesch. Un jour que l'empereur était venu faire visite à son oncle, le digne curé, qui attendait dans l'antichambre, se trouva sur le passage de sa majesté. Napoléon, se voyant regardé avec une certaine curiosité par ce vieillard, se retourna, et dit brusquement:  --Quel est ce bonhomme qui me regarde?  --Sire, dit M. Myriel, vous regardez un bonhomme, et moi je regarde un grand homme. Chacun de nous peut profiter.  L'empereur, le soir même, demanda au cardinal le nom de ce curé, et quelque temps après M. Myriel fut tout surpris d'apprendre qu'il était nommé évêque de Digne.  Qu'y avait-il de vrai, du reste, dans les récits qu'on faisait sur la première partie de la vie de M. Myriel? Personne ne le savait. Peu de familles avaient connu la famille Myriel avant la révolution.  M. Myriel devait subir le sort de tout nouveau venu dans une petite ville où il y a beaucoup de bouches qui parlent et fort peu de têtes qui pensent. Il devait le subir, quoiqu'il fût évêque et parce qu'il était évêque. Mais, après tout, les propos auxquels on mêlait son nom n'étaient peut-être que des propos; du bruit, des mots, des paroles; moins que des paroles, des _palabres_, comme dit l'énergique langue du midi.  Quoi qu'il en fût, après neuf ans d'épiscopat et de résidence à Digne, tous ces racontages, sujets de conversation qui occupent dans le premier moment les petites villes et les petites gens, étaient tombés dans un oubli profond. Personne n'eût osé en parler, personne n'eût même osé s'en souvenir.  M. Myriel était arrivé à Digne accompagné d'une vieille fille, mademoiselle Baptistine, qui était sa soeur et qui avait dix ans de moins que lui.  Ils avaient pour tout domestique une servante du même âge que mademoiselle Baptistine, et appelée madame Magloire, laquelle, après avoir été _la servante de M. le Curé_, prenait maintenant le double titre de femme de chambre de mademoiselle et femme de charge de monseigneur.  Mademoiselle Baptistine était une personne longue, pâle, mince, douce; elle réalisait l'idéal de ce qu'exprime le mot «respectable»; car il semble qu'il soit nécessaire qu'une femme soit mère pour être vénérable. Elle n'avait jamais été jolie; toute sa vie, qui n'avait été qu'une suite de saintes oeuvres, avait fini par mettre sur elle une sorte de blancheur et de clarté; et, en vieillissant, elle avait gagné ce qu'on pourrait appeler la beauté de la bonté. Ce qui avait été de la maigreur dans sa jeunesse était devenu, dans sa maturité, de la transparence; et cette diaphanéité laissait voir l'ange. C'était une âme plus encore que ce n'était une vierge. Sa personne semblait faite d'ombre; à peine assez de corps pour qu'il y eût là un sexe; un peu de matière contenant une lueur; de grands yeux toujours baissés; un prétexte pour qu'une âme reste sur la terre.  Madame Magloire était une petite vieille, blanche, grasse, replète, affairée, toujours haletante, à cause de son activité d'abord, ensuite à cause d'un asthme.  À son arrivée, on installa M. Myriel en son palais épiscopal avec les honneurs voulus par les décrets impériaux qui classent l'évêque immédiatement après le maréchal de camp. Le maire et le président lui firent la première visite, et lui de son côté fit la première visite au général et au préfet.  L'installation terminée, la ville attendit son évêque à l'oeuvre.    \n"
     ]
    }
   ],
   "source": [
    "chapter_1 = \" \".join(first_section_chapter_1)\n",
    "chapter_1 = chapter_1.replace('\\n\\n', '\\n')\n",
    "print(chapter_1)"
   ]
  },
  {
   "cell_type": "code",
   "execution_count": 47,
   "id": "mighty-longitude",
   "metadata": {},
   "outputs": [],
   "source": [
    "doc = nlp(chapter_1)"
   ]
  },
  {
   "cell_type": "markdown",
   "id": "committed-turkey",
   "metadata": {},
   "source": [
    "### let's list the named entities found by spacy"
   ]
  },
  {
   "cell_type": "code",
   "execution_count": 48,
   "id": "instrumental-amateur",
   "metadata": {},
   "outputs": [
    {
     "name": "stdout",
     "output_type": "stream",
     "text": [
      "Charles                   PER        Named person or family.                 \n",
      "François                  PER        Named person or family.                 \n",
      "Bienvenu Myriel           PER        Named person or family.                 \n",
      "Digne                     LOC        Non-GPE locations, mountain ranges, bodies of water\n",
      "Digne                     LOC        Non-GPE locations, mountain ranges, bodies of water\n",
      "Vrai                      LOC        Non-GPE locations, mountain ranges, bodies of water\n",
      "Myriel                    PER        Named person or family.                 \n",
      "parlement d'Aix           MISC       Miscellaneous entities, e.g. events, nationalities, products or works of art\n",
      "Charles Myriel            PER        Named person or family.                 \n",
      "Charles Myriel            PER        Named person or family.                 \n",
      "Italie                    LOC        Non-GPE locations, mountain ranges, bodies of water\n",
      "Myriel                    LOC        Non-GPE locations, mountain ranges, bodies of water\n",
      "Fut                       PER        Named person or family.                 \n",
      "d'Italie                  LOC        Non-GPE locations, mountain ranges, bodies of water\n",
      "Myriel                    LOC        Non-GPE locations, mountain ranges, bodies of water\n",
      "Brignolles                LOC        Non-GPE locations, mountain ranges, bodies of water\n",
      "Paris                     LOC        Non-GPE locations, mountain ranges, bodies of water\n",
      "M.                        PER        Named person or family.                 \n",
      "Napoléon                  PER        Named person or family.                 \n",
      "Myriel                    LOC        Non-GPE locations, mountain ranges, bodies of water\n",
      "L'empereur                PER        Named person or family.                 \n",
      "M.                        PER        Named person or family.                 \n",
      "Myriel                    LOC        Non-GPE locations, mountain ranges, bodies of water\n",
      "Digne                     LOC        Non-GPE locations, mountain ranges, bodies of water\n",
      "Qu'                       MISC       Miscellaneous entities, e.g. events, nationalities, products or works of art\n",
      "Myriel                    LOC        Non-GPE locations, mountain ranges, bodies of water\n",
      "Myriel                    LOC        Non-GPE locations, mountain ranges, bodies of water\n",
      "Myriel                    LOC        Non-GPE locations, mountain ranges, bodies of water\n",
      "Digne                     LOC        Non-GPE locations, mountain ranges, bodies of water\n",
      "Myriel                    LOC        Non-GPE locations, mountain ranges, bodies of water\n",
      "Digne                     LOC        Non-GPE locations, mountain ranges, bodies of water\n",
      "Baptistine                LOC        Non-GPE locations, mountain ranges, bodies of water\n",
      "Baptistine                LOC        Non-GPE locations, mountain ranges, bodies of water\n",
      "Magloire                  PER        Named person or family.                 \n",
      "M. le Curé                PER        Named person or family.                 \n",
      "Mademoiselle Baptistine   PER        Named person or family.                 \n",
      "Madame Magloire           PER        Named person or family.                 \n",
      "Myriel                    LOC        Non-GPE locations, mountain ranges, bodies of water\n"
     ]
    }
   ],
   "source": [
    "for e in doc.ents:\n",
    "    print(f'{e.text:{25}} {e.label_:{10}} {spacy.explain(e.label_):{40}}')"
   ]
  },
  {
   "cell_type": "markdown",
   "id": "crude-greece",
   "metadata": {},
   "source": [
    "#### we can see some wrong named entities\n",
    "* *Vrai* is obviously not a location\n",
    "* *Fut* is not a person\n",
    "* *Myriel* is a person and not a location\n",
    "*   *Baptistine* is also a person and not a location\n",
    "*    *M.* it's not a person but should be used as an indicator that next token could be a person"
   ]
  },
  {
   "cell_type": "code",
   "execution_count": 49,
   "id": "bigger-hierarchy",
   "metadata": {},
   "outputs": [
    {
     "name": "stdout",
     "output_type": "stream",
     "text": [
      "##### [000] NO ENTITY FOUND IN THIS SENTENCE : Monsieur Myriel   \n",
      "##### [001] ENTITY FOUND IN THIS SENTENCE :\n"
     ]
    },
    {
     "data": {
      "text/html": [
       "<span class=\"tex2jax_ignore\"><div class=\"entities\" style=\"line-height: 2.5; direction: ltr\">En 1815, M. \n",
       "<mark class=\"entity\" style=\"background: #ddd; padding: 0.45em 0.6em; margin: 0 0.25em; line-height: 1; border-radius: 0.35em;\">\n",
       "    Charles\n",
       "    <span style=\"font-size: 0.8em; font-weight: bold; line-height: 1; border-radius: 0.35em; vertical-align: middle; margin-left: 0.5rem\">PER</span>\n",
       "</mark>\n",
       "-\n",
       "<mark class=\"entity\" style=\"background: #ddd; padding: 0.45em 0.6em; margin: 0 0.25em; line-height: 1; border-radius: 0.35em;\">\n",
       "    François\n",
       "    <span style=\"font-size: 0.8em; font-weight: bold; line-height: 1; border-radius: 0.35em; vertical-align: middle; margin-left: 0.5rem\">PER</span>\n",
       "</mark>\n",
       "-\n",
       "<mark class=\"entity\" style=\"background: #ddd; padding: 0.45em 0.6em; margin: 0 0.25em; line-height: 1; border-radius: 0.35em;\">\n",
       "    Bienvenu Myriel\n",
       "    <span style=\"font-size: 0.8em; font-weight: bold; line-height: 1; border-radius: 0.35em; vertical-align: middle; margin-left: 0.5rem\">PER</span>\n",
       "</mark>\n",
       " était évêque de \n",
       "<mark class=\"entity\" style=\"background: #ff9561; padding: 0.45em 0.6em; margin: 0 0.25em; line-height: 1; border-radius: 0.35em;\">\n",
       "    Digne\n",
       "    <span style=\"font-size: 0.8em; font-weight: bold; line-height: 1; border-radius: 0.35em; vertical-align: middle; margin-left: 0.5rem\">LOC</span>\n",
       "</mark>\n",
       ".</div></span>"
      ],
      "text/plain": [
       "<IPython.core.display.HTML object>"
      ]
     },
     "metadata": {},
     "output_type": "display_data"
    },
    {
     "name": "stdout",
     "output_type": "stream",
     "text": [
      "##### [002] NO ENTITY FOUND IN THIS SENTENCE :C'était un vieillard d'environ soixante-quinze ans;\n",
      "##### [003] ENTITY FOUND IN THIS SENTENCE :\n"
     ]
    },
    {
     "data": {
      "text/html": [
       "<span class=\"tex2jax_ignore\"><div class=\"entities\" style=\"line-height: 2.5; direction: ltr\">il occupait le siège de \n",
       "<mark class=\"entity\" style=\"background: #ff9561; padding: 0.45em 0.6em; margin: 0 0.25em; line-height: 1; border-radius: 0.35em;\">\n",
       "    Digne\n",
       "    <span style=\"font-size: 0.8em; font-weight: bold; line-height: 1; border-radius: 0.35em; vertical-align: middle; margin-left: 0.5rem\">LOC</span>\n",
       "</mark>\n",
       " depuis 1806.</div></span>"
      ],
      "text/plain": [
       "<IPython.core.display.HTML object>"
      ]
     },
     "metadata": {},
     "output_type": "display_data"
    },
    {
     "name": "stdout",
     "output_type": "stream",
     "text": [
      "##### [004] NO ENTITY FOUND IN THIS SENTENCE : Quoique ce détail ne touche en aucune manière au fond même de ce que nous avons à raconter, il n'est peut-être pas inutile, ne fût-ce que pour être exact en tout, d'indiquer ici les bruits et les propos qui avaient couru sur son compte au moment où il était arrivé dans le diocèse.\n",
      "##### [005] ENTITY FOUND IN THIS SENTENCE :\n"
     ]
    },
    {
     "data": {
      "text/html": [
       "<span class=\"tex2jax_ignore\"><div class=\"entities\" style=\"line-height: 2.5; direction: ltr\">\n",
       "<mark class=\"entity\" style=\"background: #ff9561; padding: 0.45em 0.6em; margin: 0 0.25em; line-height: 1; border-radius: 0.35em;\">\n",
       "    Vrai\n",
       "    <span style=\"font-size: 0.8em; font-weight: bold; line-height: 1; border-radius: 0.35em; vertical-align: middle; margin-left: 0.5rem\">LOC</span>\n",
       "</mark>\n",
       " ou faux, ce qu'on dit des hommes tient souvent autant de place dans leur vie et surtout dans leur destinée que ce qu'ils font.</div></span>"
      ],
      "text/plain": [
       "<IPython.core.display.HTML object>"
      ]
     },
     "metadata": {},
     "output_type": "display_data"
    },
    {
     "name": "stdout",
     "output_type": "stream",
     "text": [
      "##### [006] ENTITY FOUND IN THIS SENTENCE :\n"
     ]
    },
    {
     "data": {
      "text/html": [
       "<span class=\"tex2jax_ignore\"><div class=\"entities\" style=\"line-height: 2.5; direction: ltr\">M. \n",
       "<mark class=\"entity\" style=\"background: #ff9561; padding: 0.45em 0.6em; margin: 0 0.25em; line-height: 1; border-radius: 0.35em;\">\n",
       "    Myriel\n",
       "    <span style=\"font-size: 0.8em; font-weight: bold; line-height: 1; border-radius: 0.35em; vertical-align: middle; margin-left: 0.5rem\">LOC</span>\n",
       "</mark>\n",
       " était fils d'un conseiller au \n",
       "<mark class=\"entity\" style=\"background: #ddd; padding: 0.45em 0.6em; margin: 0 0.25em; line-height: 1; border-radius: 0.35em;\">\n",
       "    parlement d'Aix\n",
       "    <span style=\"font-size: 0.8em; font-weight: bold; line-height: 1; border-radius: 0.35em; vertical-align: middle; margin-left: 0.5rem\">MISC</span>\n",
       "</mark>\n",
       ";</div></span>"
      ],
      "text/plain": [
       "<IPython.core.display.HTML object>"
      ]
     },
     "metadata": {},
     "output_type": "display_data"
    },
    {
     "name": "stdout",
     "output_type": "stream",
     "text": [
      "##### [007] NO ENTITY FOUND IN THIS SENTENCE :noblesse de robe.\n",
      "##### [008] NO ENTITY FOUND IN THIS SENTENCE :On contait de lui que son père, le réservant pour hériter de sa charge, l'avait marié de fort bonne heure, à dix-huit ou vingt ans, suivant un usage assez répandu dans les familles parlementaires.\n",
      "##### [009] ENTITY FOUND IN THIS SENTENCE :\n"
     ]
    },
    {
     "data": {
      "text/html": [
       "<span class=\"tex2jax_ignore\"><div class=\"entities\" style=\"line-height: 2.5; direction: ltr\">\n",
       "<mark class=\"entity\" style=\"background: #ddd; padding: 0.45em 0.6em; margin: 0 0.25em; line-height: 1; border-radius: 0.35em;\">\n",
       "    Charles Myriel\n",
       "    <span style=\"font-size: 0.8em; font-weight: bold; line-height: 1; border-radius: 0.35em; vertical-align: middle; margin-left: 0.5rem\">PER</span>\n",
       "</mark>\n",
       ", nonobstant ce mariage, avait, disait-on, beaucoup fait parler de lui.</div></span>"
      ],
      "text/plain": [
       "<IPython.core.display.HTML object>"
      ]
     },
     "metadata": {},
     "output_type": "display_data"
    },
    {
     "name": "stdout",
     "output_type": "stream",
     "text": [
      "##### [010] NO ENTITY FOUND IN THIS SENTENCE :Il était bien fait de sa personne, quoique d'assez petite taille, élégant, gracieux, spirituel;\n",
      "##### [011] NO ENTITY FOUND IN THIS SENTENCE :toute la première partie de sa vie avait été donnée au monde et aux galanteries.\n",
      "##### [012] NO ENTITY FOUND IN THIS SENTENCE :La révolution survint, les événements se précipitèrent, les familles parlementaires décimées, chassées, traquées, se dispersèrent.\n",
      "##### [013] ENTITY FOUND IN THIS SENTENCE :\n"
     ]
    },
    {
     "data": {
      "text/html": [
       "<span class=\"tex2jax_ignore\"><div class=\"entities\" style=\"line-height: 2.5; direction: ltr\">M. \n",
       "<mark class=\"entity\" style=\"background: #ddd; padding: 0.45em 0.6em; margin: 0 0.25em; line-height: 1; border-radius: 0.35em;\">\n",
       "    Charles Myriel\n",
       "    <span style=\"font-size: 0.8em; font-weight: bold; line-height: 1; border-radius: 0.35em; vertical-align: middle; margin-left: 0.5rem\">PER</span>\n",
       "</mark>\n",
       ", dès les premiers jours de la révolution, émigra en \n",
       "<mark class=\"entity\" style=\"background: #ff9561; padding: 0.45em 0.6em; margin: 0 0.25em; line-height: 1; border-radius: 0.35em;\">\n",
       "    Italie\n",
       "    <span style=\"font-size: 0.8em; font-weight: bold; line-height: 1; border-radius: 0.35em; vertical-align: middle; margin-left: 0.5rem\">LOC</span>\n",
       "</mark>\n",
       ".</div></span>"
      ],
      "text/plain": [
       "<IPython.core.display.HTML object>"
      ]
     },
     "metadata": {},
     "output_type": "display_data"
    },
    {
     "name": "stdout",
     "output_type": "stream",
     "text": [
      "##### [014] NO ENTITY FOUND IN THIS SENTENCE :Sa femme y mourut d'une maladie de poitrine dont elle était atteinte depuis longtemps.\n",
      "##### [015] NO ENTITY FOUND IN THIS SENTENCE :Ils n'avaient point d'enfants.\n",
      "##### [016] ENTITY FOUND IN THIS SENTENCE :\n"
     ]
    },
    {
     "data": {
      "text/html": [
       "<span class=\"tex2jax_ignore\"><div class=\"entities\" style=\"line-height: 2.5; direction: ltr\">Que se passa-t-il ensuite dans la destinée de M. \n",
       "<mark class=\"entity\" style=\"background: #ff9561; padding: 0.45em 0.6em; margin: 0 0.25em; line-height: 1; border-radius: 0.35em;\">\n",
       "    Myriel\n",
       "    <span style=\"font-size: 0.8em; font-weight: bold; line-height: 1; border-radius: 0.35em; vertical-align: middle; margin-left: 0.5rem\">LOC</span>\n",
       "</mark>\n",
       "?</div></span>"
      ],
      "text/plain": [
       "<IPython.core.display.HTML object>"
      ]
     },
     "metadata": {},
     "output_type": "display_data"
    },
    {
     "name": "stdout",
     "output_type": "stream",
     "text": [
      "##### [017] NO ENTITY FOUND IN THIS SENTENCE :L'écroulement de l'ancienne société française, la chute de sa propre famille, les tragiques spectacles de 93, plus effrayants encore peut-être pour les émigrés qui les voyaient de loin avec le grossissement de l'épouvante, firent-ils germer en lui des idées de renoncement et de solitude?\n",
      "##### [018] ENTITY FOUND IN THIS SENTENCE :\n"
     ]
    },
    {
     "data": {
      "text/html": [
       "<span class=\"tex2jax_ignore\"><div class=\"entities\" style=\"line-height: 2.5; direction: ltr\">\n",
       "<mark class=\"entity\" style=\"background: #ddd; padding: 0.45em 0.6em; margin: 0 0.25em; line-height: 1; border-radius: 0.35em;\">\n",
       "    Fut\n",
       "    <span style=\"font-size: 0.8em; font-weight: bold; line-height: 1; border-radius: 0.35em; vertical-align: middle; margin-left: 0.5rem\">PER</span>\n",
       "</mark>\n",
       "-il, au milieu d'une de ces distractions et de ces affections qui occupaient sa vie, subitement atteint d'un de ces coups mystérieux et terribles qui viennent quelquefois renverser, en le frappant au coeur, l'homme que les catastrophes publiques n'ébranleraient pas en le frappant dans son existence et dans sa fortune?</div></span>"
      ],
      "text/plain": [
       "<IPython.core.display.HTML object>"
      ]
     },
     "metadata": {},
     "output_type": "display_data"
    },
    {
     "name": "stdout",
     "output_type": "stream",
     "text": [
      "##### [019] NO ENTITY FOUND IN THIS SENTENCE :Nul n'aurait pu le dire;\n",
      "##### [020] ENTITY FOUND IN THIS SENTENCE :\n"
     ]
    },
    {
     "data": {
      "text/html": [
       "<span class=\"tex2jax_ignore\"><div class=\"entities\" style=\"line-height: 2.5; direction: ltr\">tout ce qu'on savait, c'est que, lorsqu'il revint \n",
       "<mark class=\"entity\" style=\"background: #ff9561; padding: 0.45em 0.6em; margin: 0 0.25em; line-height: 1; border-radius: 0.35em;\">\n",
       "    d'Italie\n",
       "    <span style=\"font-size: 0.8em; font-weight: bold; line-height: 1; border-radius: 0.35em; vertical-align: middle; margin-left: 0.5rem\">LOC</span>\n",
       "</mark>\n",
       ", il était prêtre.</div></span>"
      ],
      "text/plain": [
       "<IPython.core.display.HTML object>"
      ]
     },
     "metadata": {},
     "output_type": "display_data"
    },
    {
     "name": "stdout",
     "output_type": "stream",
     "text": [
      "##### [021] NO ENTITY FOUND IN THIS SENTENCE : \n",
      "##### [022] ENTITY FOUND IN THIS SENTENCE :\n"
     ]
    },
    {
     "data": {
      "text/html": [
       "<span class=\"tex2jax_ignore\"><div class=\"entities\" style=\"line-height: 2.5; direction: ltr\">En 1804, M. \n",
       "<mark class=\"entity\" style=\"background: #ff9561; padding: 0.45em 0.6em; margin: 0 0.25em; line-height: 1; border-radius: 0.35em;\">\n",
       "    Myriel\n",
       "    <span style=\"font-size: 0.8em; font-weight: bold; line-height: 1; border-radius: 0.35em; vertical-align: middle; margin-left: 0.5rem\">LOC</span>\n",
       "</mark>\n",
       " était curé de \n",
       "<mark class=\"entity\" style=\"background: #ff9561; padding: 0.45em 0.6em; margin: 0 0.25em; line-height: 1; border-radius: 0.35em;\">\n",
       "    Brignolles\n",
       "    <span style=\"font-size: 0.8em; font-weight: bold; line-height: 1; border-radius: 0.35em; vertical-align: middle; margin-left: 0.5rem\">LOC</span>\n",
       "</mark>\n",
       ".</div></span>"
      ],
      "text/plain": [
       "<IPython.core.display.HTML object>"
      ]
     },
     "metadata": {},
     "output_type": "display_data"
    },
    {
     "name": "stdout",
     "output_type": "stream",
     "text": [
      "##### [023] NO ENTITY FOUND IN THIS SENTENCE :Il était déjà vieux, et vivait dans une retraite profonde.\n",
      "##### [024] NO ENTITY FOUND IN THIS SENTENCE : \n",
      "##### [025] ENTITY FOUND IN THIS SENTENCE :\n"
     ]
    },
    {
     "data": {
      "text/html": [
       "<span class=\"tex2jax_ignore\"><div class=\"entities\" style=\"line-height: 2.5; direction: ltr\">Vers l'époque du couronnement, une petite affaire de sa cure, on ne sait plus trop quoi, l'amena à \n",
       "<mark class=\"entity\" style=\"background: #ff9561; padding: 0.45em 0.6em; margin: 0 0.25em; line-height: 1; border-radius: 0.35em;\">\n",
       "    Paris\n",
       "    <span style=\"font-size: 0.8em; font-weight: bold; line-height: 1; border-radius: 0.35em; vertical-align: middle; margin-left: 0.5rem\">LOC</span>\n",
       "</mark>\n",
       ".</div></span>"
      ],
      "text/plain": [
       "<IPython.core.display.HTML object>"
      ]
     },
     "metadata": {},
     "output_type": "display_data"
    },
    {
     "name": "stdout",
     "output_type": "stream",
     "text": [
      "##### [026] ENTITY FOUND IN THIS SENTENCE :\n"
     ]
    },
    {
     "data": {
      "text/html": [
       "<span class=\"tex2jax_ignore\"><div class=\"entities\" style=\"line-height: 2.5; direction: ltr\">Entre autres personnes puissantes, il alla solliciter pour ses paroissiens \n",
       "<mark class=\"entity\" style=\"background: #ddd; padding: 0.45em 0.6em; margin: 0 0.25em; line-height: 1; border-radius: 0.35em;\">\n",
       "    M.\n",
       "    <span style=\"font-size: 0.8em; font-weight: bold; line-height: 1; border-radius: 0.35em; vertical-align: middle; margin-left: 0.5rem\">PER</span>\n",
       "</mark>\n",
       " le cardinal Fesch.</div></span>"
      ],
      "text/plain": [
       "<IPython.core.display.HTML object>"
      ]
     },
     "metadata": {},
     "output_type": "display_data"
    },
    {
     "name": "stdout",
     "output_type": "stream",
     "text": [
      "##### [027] NO ENTITY FOUND IN THIS SENTENCE :Un jour que l'empereur était venu faire visite à son oncle, le digne curé, qui attendait dans l'antichambre, se trouva sur le passage de sa majesté.\n",
      "##### [028] ENTITY FOUND IN THIS SENTENCE :\n"
     ]
    },
    {
     "data": {
      "text/html": [
       "<span class=\"tex2jax_ignore\"><div class=\"entities\" style=\"line-height: 2.5; direction: ltr\">\n",
       "<mark class=\"entity\" style=\"background: #ddd; padding: 0.45em 0.6em; margin: 0 0.25em; line-height: 1; border-radius: 0.35em;\">\n",
       "    Napoléon\n",
       "    <span style=\"font-size: 0.8em; font-weight: bold; line-height: 1; border-radius: 0.35em; vertical-align: middle; margin-left: 0.5rem\">PER</span>\n",
       "</mark>\n",
       ", se voyant regardé avec une certaine curiosité par ce vieillard, se retourna, et dit brusquement:  --Quel est ce bonhomme qui me regarde?</div></span>"
      ],
      "text/plain": [
       "<IPython.core.display.HTML object>"
      ]
     },
     "metadata": {},
     "output_type": "display_data"
    },
    {
     "name": "stdout",
     "output_type": "stream",
     "text": [
      "##### [029] ENTITY FOUND IN THIS SENTENCE :\n"
     ]
    },
    {
     "data": {
      "text/html": [
       "<span class=\"tex2jax_ignore\"><div class=\"entities\" style=\"line-height: 2.5; direction: ltr\"> --Sire, dit M. \n",
       "<mark class=\"entity\" style=\"background: #ff9561; padding: 0.45em 0.6em; margin: 0 0.25em; line-height: 1; border-radius: 0.35em;\">\n",
       "    Myriel\n",
       "    <span style=\"font-size: 0.8em; font-weight: bold; line-height: 1; border-radius: 0.35em; vertical-align: middle; margin-left: 0.5rem\">LOC</span>\n",
       "</mark>\n",
       ", vous regardez un bonhomme, et moi je regarde un grand homme.</div></span>"
      ],
      "text/plain": [
       "<IPython.core.display.HTML object>"
      ]
     },
     "metadata": {},
     "output_type": "display_data"
    },
    {
     "name": "stdout",
     "output_type": "stream",
     "text": [
      "##### [030] NO ENTITY FOUND IN THIS SENTENCE :Chacun de nous peut profiter.\n",
      "##### [031] NO ENTITY FOUND IN THIS SENTENCE : \n",
      "##### [032] ENTITY FOUND IN THIS SENTENCE :\n"
     ]
    },
    {
     "data": {
      "text/html": [
       "<span class=\"tex2jax_ignore\"><div class=\"entities\" style=\"line-height: 2.5; direction: ltr\">L'empereur, le soir même, demanda au cardinal le nom de ce curé, et quelque temps après \n",
       "<mark class=\"entity\" style=\"background: #ddd; padding: 0.45em 0.6em; margin: 0 0.25em; line-height: 1; border-radius: 0.35em;\">\n",
       "    M.\n",
       "    <span style=\"font-size: 0.8em; font-weight: bold; line-height: 1; border-radius: 0.35em; vertical-align: middle; margin-left: 0.5rem\">PER</span>\n",
       "</mark>\n",
       " \n",
       "<mark class=\"entity\" style=\"background: #ff9561; padding: 0.45em 0.6em; margin: 0 0.25em; line-height: 1; border-radius: 0.35em;\">\n",
       "    Myriel\n",
       "    <span style=\"font-size: 0.8em; font-weight: bold; line-height: 1; border-radius: 0.35em; vertical-align: middle; margin-left: 0.5rem\">LOC</span>\n",
       "</mark>\n",
       " fut tout surpris d'apprendre qu'il était nommé évêque de \n",
       "<mark class=\"entity\" style=\"background: #ff9561; padding: 0.45em 0.6em; margin: 0 0.25em; line-height: 1; border-radius: 0.35em;\">\n",
       "    Digne\n",
       "    <span style=\"font-size: 0.8em; font-weight: bold; line-height: 1; border-radius: 0.35em; vertical-align: middle; margin-left: 0.5rem\">LOC</span>\n",
       "</mark>\n",
       ".</div></span>"
      ],
      "text/plain": [
       "<IPython.core.display.HTML object>"
      ]
     },
     "metadata": {},
     "output_type": "display_data"
    },
    {
     "name": "stdout",
     "output_type": "stream",
     "text": [
      "##### [033] NO ENTITY FOUND IN THIS SENTENCE : \n",
      "##### [034] ENTITY FOUND IN THIS SENTENCE :\n"
     ]
    },
    {
     "data": {
      "text/html": [
       "<span class=\"tex2jax_ignore\"><div class=\"entities\" style=\"line-height: 2.5; direction: ltr\">Qu'y avait-il de vrai, du reste, dans les récits qu'on faisait sur la première partie de la vie de M. \n",
       "<mark class=\"entity\" style=\"background: #ff9561; padding: 0.45em 0.6em; margin: 0 0.25em; line-height: 1; border-radius: 0.35em;\">\n",
       "    Myriel\n",
       "    <span style=\"font-size: 0.8em; font-weight: bold; line-height: 1; border-radius: 0.35em; vertical-align: middle; margin-left: 0.5rem\">LOC</span>\n",
       "</mark>\n",
       "?</div></span>"
      ],
      "text/plain": [
       "<IPython.core.display.HTML object>"
      ]
     },
     "metadata": {},
     "output_type": "display_data"
    },
    {
     "name": "stdout",
     "output_type": "stream",
     "text": [
      "##### [035] NO ENTITY FOUND IN THIS SENTENCE :Personne ne le savait.\n",
      "##### [036] ENTITY FOUND IN THIS SENTENCE :\n"
     ]
    },
    {
     "data": {
      "text/html": [
       "<span class=\"tex2jax_ignore\"><div class=\"entities\" style=\"line-height: 2.5; direction: ltr\">Peu de familles avaient connu la famille \n",
       "<mark class=\"entity\" style=\"background: #ff9561; padding: 0.45em 0.6em; margin: 0 0.25em; line-height: 1; border-radius: 0.35em;\">\n",
       "    Myriel\n",
       "    <span style=\"font-size: 0.8em; font-weight: bold; line-height: 1; border-radius: 0.35em; vertical-align: middle; margin-left: 0.5rem\">LOC</span>\n",
       "</mark>\n",
       " avant la révolution.</div></span>"
      ],
      "text/plain": [
       "<IPython.core.display.HTML object>"
      ]
     },
     "metadata": {},
     "output_type": "display_data"
    },
    {
     "name": "stdout",
     "output_type": "stream",
     "text": [
      "##### [037] ENTITY FOUND IN THIS SENTENCE :\n"
     ]
    },
    {
     "data": {
      "text/html": [
       "<span class=\"tex2jax_ignore\"><div class=\"entities\" style=\"line-height: 2.5; direction: ltr\"> M. \n",
       "<mark class=\"entity\" style=\"background: #ff9561; padding: 0.45em 0.6em; margin: 0 0.25em; line-height: 1; border-radius: 0.35em;\">\n",
       "    Myriel\n",
       "    <span style=\"font-size: 0.8em; font-weight: bold; line-height: 1; border-radius: 0.35em; vertical-align: middle; margin-left: 0.5rem\">LOC</span>\n",
       "</mark>\n",
       " devait subir le sort de tout nouveau venu dans une petite ville où il y a beaucoup de bouches qui parlent et fort peu de têtes qui pensent.</div></span>"
      ],
      "text/plain": [
       "<IPython.core.display.HTML object>"
      ]
     },
     "metadata": {},
     "output_type": "display_data"
    },
    {
     "name": "stdout",
     "output_type": "stream",
     "text": [
      "##### [038] NO ENTITY FOUND IN THIS SENTENCE :Il devait le subir, quoiqu'il fût évêque et parce qu'il était évêque.\n",
      "##### [039] NO ENTITY FOUND IN THIS SENTENCE :Mais, après tout, les propos auxquels on mêlait son nom n'étaient peut-être que des propos; du bruit, des mots, des paroles;\n",
      "##### [040] NO ENTITY FOUND IN THIS SENTENCE :moins que des paroles, des _palabres_, comme dit l'énergique langue du midi.\n",
      "##### [041] ENTITY FOUND IN THIS SENTENCE :\n"
     ]
    },
    {
     "data": {
      "text/html": [
       "<span class=\"tex2jax_ignore\"><div class=\"entities\" style=\"line-height: 2.5; direction: ltr\"> Quoi qu'il en fût, après neuf ans d'épiscopat et de résidence à \n",
       "<mark class=\"entity\" style=\"background: #ff9561; padding: 0.45em 0.6em; margin: 0 0.25em; line-height: 1; border-radius: 0.35em;\">\n",
       "    Digne\n",
       "    <span style=\"font-size: 0.8em; font-weight: bold; line-height: 1; border-radius: 0.35em; vertical-align: middle; margin-left: 0.5rem\">LOC</span>\n",
       "</mark>\n",
       ", tous ces racontages, sujets de conversation qui occupent dans le premier moment les petites villes et les petites gens, étaient tombés dans un oubli profond.</div></span>"
      ],
      "text/plain": [
       "<IPython.core.display.HTML object>"
      ]
     },
     "metadata": {},
     "output_type": "display_data"
    },
    {
     "name": "stdout",
     "output_type": "stream",
     "text": [
      "##### [042] NO ENTITY FOUND IN THIS SENTENCE :Personne n'eût osé en parler, personne n'eût même osé s'en souvenir.\n",
      "##### [043] ENTITY FOUND IN THIS SENTENCE :\n"
     ]
    },
    {
     "data": {
      "text/html": [
       "<span class=\"tex2jax_ignore\"><div class=\"entities\" style=\"line-height: 2.5; direction: ltr\"> M. \n",
       "<mark class=\"entity\" style=\"background: #ff9561; padding: 0.45em 0.6em; margin: 0 0.25em; line-height: 1; border-radius: 0.35em;\">\n",
       "    Myriel\n",
       "    <span style=\"font-size: 0.8em; font-weight: bold; line-height: 1; border-radius: 0.35em; vertical-align: middle; margin-left: 0.5rem\">LOC</span>\n",
       "</mark>\n",
       " était arrivé à \n",
       "<mark class=\"entity\" style=\"background: #ff9561; padding: 0.45em 0.6em; margin: 0 0.25em; line-height: 1; border-radius: 0.35em;\">\n",
       "    Digne\n",
       "    <span style=\"font-size: 0.8em; font-weight: bold; line-height: 1; border-radius: 0.35em; vertical-align: middle; margin-left: 0.5rem\">LOC</span>\n",
       "</mark>\n",
       " accompagné d'une vieille fille, mademoiselle \n",
       "<mark class=\"entity\" style=\"background: #ff9561; padding: 0.45em 0.6em; margin: 0 0.25em; line-height: 1; border-radius: 0.35em;\">\n",
       "    Baptistine\n",
       "    <span style=\"font-size: 0.8em; font-weight: bold; line-height: 1; border-radius: 0.35em; vertical-align: middle; margin-left: 0.5rem\">LOC</span>\n",
       "</mark>\n",
       ", qui était sa soeur et qui avait dix ans de moins que lui.</div></span>"
      ],
      "text/plain": [
       "<IPython.core.display.HTML object>"
      ]
     },
     "metadata": {},
     "output_type": "display_data"
    },
    {
     "name": "stdout",
     "output_type": "stream",
     "text": [
      "##### [044] ENTITY FOUND IN THIS SENTENCE :\n"
     ]
    },
    {
     "data": {
      "text/html": [
       "<span class=\"tex2jax_ignore\"><div class=\"entities\" style=\"line-height: 2.5; direction: ltr\"> Ils avaient pour tout domestique une servante du même âge que mademoiselle \n",
       "<mark class=\"entity\" style=\"background: #ff9561; padding: 0.45em 0.6em; margin: 0 0.25em; line-height: 1; border-radius: 0.35em;\">\n",
       "    Baptistine\n",
       "    <span style=\"font-size: 0.8em; font-weight: bold; line-height: 1; border-radius: 0.35em; vertical-align: middle; margin-left: 0.5rem\">LOC</span>\n",
       "</mark>\n",
       ", et appelée madame \n",
       "<mark class=\"entity\" style=\"background: #ddd; padding: 0.45em 0.6em; margin: 0 0.25em; line-height: 1; border-radius: 0.35em;\">\n",
       "    Magloire\n",
       "    <span style=\"font-size: 0.8em; font-weight: bold; line-height: 1; border-radius: 0.35em; vertical-align: middle; margin-left: 0.5rem\">PER</span>\n",
       "</mark>\n",
       ", laquelle, après avoir été _la servante de \n",
       "<mark class=\"entity\" style=\"background: #ddd; padding: 0.45em 0.6em; margin: 0 0.25em; line-height: 1; border-radius: 0.35em;\">\n",
       "    M. le Curé\n",
       "    <span style=\"font-size: 0.8em; font-weight: bold; line-height: 1; border-radius: 0.35em; vertical-align: middle; margin-left: 0.5rem\">PER</span>\n",
       "</mark>\n",
       "_, prenait maintenant le double titre de femme de chambre de mademoiselle et femme de charge de monseigneur.</div></span>"
      ],
      "text/plain": [
       "<IPython.core.display.HTML object>"
      ]
     },
     "metadata": {},
     "output_type": "display_data"
    },
    {
     "name": "stdout",
     "output_type": "stream",
     "text": [
      "##### [045] ENTITY FOUND IN THIS SENTENCE :\n"
     ]
    },
    {
     "data": {
      "text/html": [
       "<span class=\"tex2jax_ignore\"><div class=\"entities\" style=\"line-height: 2.5; direction: ltr\"> \n",
       "<mark class=\"entity\" style=\"background: #ddd; padding: 0.45em 0.6em; margin: 0 0.25em; line-height: 1; border-radius: 0.35em;\">\n",
       "    Mademoiselle Baptistine\n",
       "    <span style=\"font-size: 0.8em; font-weight: bold; line-height: 1; border-radius: 0.35em; vertical-align: middle; margin-left: 0.5rem\">PER</span>\n",
       "</mark>\n",
       " était une personne longue, pâle, mince, douce;</div></span>"
      ],
      "text/plain": [
       "<IPython.core.display.HTML object>"
      ]
     },
     "metadata": {},
     "output_type": "display_data"
    },
    {
     "name": "stdout",
     "output_type": "stream",
     "text": [
      "##### [046] NO ENTITY FOUND IN THIS SENTENCE :elle réalisait l'idéal de ce qu'exprime le mot «respectable»;\n",
      "##### [047] NO ENTITY FOUND IN THIS SENTENCE :car il semble qu'il soit nécessaire qu'une femme soit mère pour être vénérable.\n",
      "##### [048] NO ENTITY FOUND IN THIS SENTENCE :Elle n'avait jamais été jolie;\n",
      "##### [049] NO ENTITY FOUND IN THIS SENTENCE :toute sa vie, qui n'avait été qu'une suite de saintes oeuvres, avait fini par mettre sur elle une sorte de blancheur et de clarté;\n",
      "##### [050] NO ENTITY FOUND IN THIS SENTENCE :et, en vieillissant, elle avait gagné ce qu'on pourrait appeler la beauté de la bonté.\n",
      "##### [051] NO ENTITY FOUND IN THIS SENTENCE :Ce qui avait été de la maigreur dans sa jeunesse était devenu, dans sa maturité, de la transparence;\n",
      "##### [052] NO ENTITY FOUND IN THIS SENTENCE :et cette diaphanéité laissait voir l'ange.\n",
      "##### [053] NO ENTITY FOUND IN THIS SENTENCE :C'était une âme plus encore que ce n'était une vierge.\n",
      "##### [054] NO ENTITY FOUND IN THIS SENTENCE :Sa personne semblait faite d'ombre;\n",
      "##### [055] NO ENTITY FOUND IN THIS SENTENCE :à peine assez de corps pour qu'il y eût là un sexe;\n",
      "##### [056] NO ENTITY FOUND IN THIS SENTENCE :un peu de matière contenant une lueur; de grands yeux toujours baissés;\n",
      "##### [057] NO ENTITY FOUND IN THIS SENTENCE :un prétexte pour qu'une âme reste sur la terre.\n",
      "##### [058] NO ENTITY FOUND IN THIS SENTENCE : \n",
      "##### [059] ENTITY FOUND IN THIS SENTENCE :\n"
     ]
    },
    {
     "data": {
      "text/html": [
       "<span class=\"tex2jax_ignore\"><div class=\"entities\" style=\"line-height: 2.5; direction: ltr\">\n",
       "<mark class=\"entity\" style=\"background: #ddd; padding: 0.45em 0.6em; margin: 0 0.25em; line-height: 1; border-radius: 0.35em;\">\n",
       "    Madame Magloire\n",
       "    <span style=\"font-size: 0.8em; font-weight: bold; line-height: 1; border-radius: 0.35em; vertical-align: middle; margin-left: 0.5rem\">PER</span>\n",
       "</mark>\n",
       " était une petite vieille, blanche, grasse, replète, affairée, toujours haletante, à cause de son activité d'abord, ensuite à cause d'un asthme.</div></span>"
      ],
      "text/plain": [
       "<IPython.core.display.HTML object>"
      ]
     },
     "metadata": {},
     "output_type": "display_data"
    },
    {
     "name": "stdout",
     "output_type": "stream",
     "text": [
      "##### [060] ENTITY FOUND IN THIS SENTENCE :\n"
     ]
    },
    {
     "data": {
      "text/html": [
       "<span class=\"tex2jax_ignore\"><div class=\"entities\" style=\"line-height: 2.5; direction: ltr\"> À son arrivée, on installa M. \n",
       "<mark class=\"entity\" style=\"background: #ff9561; padding: 0.45em 0.6em; margin: 0 0.25em; line-height: 1; border-radius: 0.35em;\">\n",
       "    Myriel\n",
       "    <span style=\"font-size: 0.8em; font-weight: bold; line-height: 1; border-radius: 0.35em; vertical-align: middle; margin-left: 0.5rem\">LOC</span>\n",
       "</mark>\n",
       " en son palais épiscopal avec les honneurs voulus par les décrets impériaux qui classent l'évêque immédiatement après le maréchal de camp.</div></span>"
      ],
      "text/plain": [
       "<IPython.core.display.HTML object>"
      ]
     },
     "metadata": {},
     "output_type": "display_data"
    },
    {
     "name": "stdout",
     "output_type": "stream",
     "text": [
      "##### [061] NO ENTITY FOUND IN THIS SENTENCE :Le maire et le président lui firent la première visite, et lui de son côté fit la première visite au général et au préfet.\n",
      "##### [062] NO ENTITY FOUND IN THIS SENTENCE : \n",
      "##### [063] NO ENTITY FOUND IN THIS SENTENCE :L'installation terminée, la ville attendit son évêque à l'oeuvre.\n",
      "##### [064] NO ENTITY FOUND IN THIS SENTENCE :   \n"
     ]
    }
   ],
   "source": [
    "def print_entities_in_sentence(spacy_doc):\n",
    "    for i,sentence in enumerate(spacy_doc.sents):\n",
    "        phrase = nlp(sentence.text)\n",
    "        if phrase.ents:\n",
    "            print(f'##### [{i:0>{3}}] ENTITY FOUND IN THIS SENTENCE :')\n",
    "            displacy.render(phrase, style='ent', jupyter=True)\n",
    "        else:\n",
    "            print(f'##### [{i:0>{3}}] NO ENTITY FOUND IN THIS SENTENCE :{phrase.text}')\n",
    "        \n",
    "print_entities_in_sentence(doc)\n",
    "    "
   ]
  },
  {
   "cell_type": "markdown",
   "id": "exceptional-rehabilitation",
   "metadata": {},
   "source": [
    "### let's a new rule to match Myriel"
   ]
  },
  {
   "cell_type": "code",
   "execution_count": 44,
   "id": "specific-convergence",
   "metadata": {},
   "outputs": [
    {
     "ename": "ValueError",
     "evalue": "[E007] 'entity_ruler' already exists in pipeline. Existing names: ['tok2vec', 'morphologizer', 'parser', 'senter', 'ner', 'attribute_ruler', 'lemmatizer', 'entity_ruler']",
     "output_type": "error",
     "traceback": [
      "\u001b[0;31m---------------------------------------------------------------------------\u001b[0m",
      "\u001b[0;31mValueError\u001b[0m                                Traceback (most recent call last)",
      "\u001b[0;32m<ipython-input-44-bf68679949f0>\u001b[0m in \u001b[0;36m<module>\u001b[0;34m\u001b[0m\n\u001b[0;32m----> 1\u001b[0;31m \u001b[0mruler\u001b[0m \u001b[0;34m=\u001b[0m \u001b[0mnlp\u001b[0m\u001b[0;34m.\u001b[0m\u001b[0madd_pipe\u001b[0m\u001b[0;34m(\u001b[0m\u001b[0;34m\"entity_ruler\"\u001b[0m\u001b[0;34m)\u001b[0m\u001b[0;34m\u001b[0m\u001b[0;34m\u001b[0m\u001b[0m\n\u001b[0m\u001b[1;32m      2\u001b[0m \u001b[0mpatterns\u001b[0m \u001b[0;34m=\u001b[0m \u001b[0;34m[\u001b[0m\u001b[0;34m{\u001b[0m\u001b[0;34m\"label\"\u001b[0m\u001b[0;34m:\u001b[0m \u001b[0;34m\"PER\"\u001b[0m\u001b[0;34m,\u001b[0m \u001b[0;34m\"pattern\"\u001b[0m\u001b[0;34m:\u001b[0m \u001b[0;34m\"M. Myriel\"\u001b[0m\u001b[0;34m}\u001b[0m\u001b[0;34m]\u001b[0m\u001b[0;34m\u001b[0m\u001b[0;34m\u001b[0m\u001b[0m\n\u001b[1;32m      3\u001b[0m \u001b[0mruler\u001b[0m\u001b[0;34m.\u001b[0m\u001b[0madd_patterns\u001b[0m\u001b[0;34m(\u001b[0m\u001b[0mpatterns\u001b[0m\u001b[0;34m)\u001b[0m\u001b[0;34m\u001b[0m\u001b[0;34m\u001b[0m\u001b[0m\n",
      "\u001b[0;32m~/PycharmProjects/nlp/venv/lib/python3.8/site-packages/spacy/language.py\u001b[0m in \u001b[0;36madd_pipe\u001b[0;34m(self, factory_name, name, before, after, first, last, source, config, raw_config, validate)\u001b[0m\n\u001b[1;32m    749\u001b[0m         \u001b[0mname\u001b[0m \u001b[0;34m=\u001b[0m \u001b[0mname\u001b[0m \u001b[0;32mif\u001b[0m \u001b[0mname\u001b[0m \u001b[0;32mis\u001b[0m \u001b[0;32mnot\u001b[0m \u001b[0;32mNone\u001b[0m \u001b[0;32melse\u001b[0m \u001b[0mfactory_name\u001b[0m\u001b[0;34m\u001b[0m\u001b[0;34m\u001b[0m\u001b[0m\n\u001b[1;32m    750\u001b[0m         \u001b[0;32mif\u001b[0m \u001b[0mname\u001b[0m \u001b[0;32min\u001b[0m \u001b[0mself\u001b[0m\u001b[0;34m.\u001b[0m\u001b[0mcomponent_names\u001b[0m\u001b[0;34m:\u001b[0m\u001b[0;34m\u001b[0m\u001b[0;34m\u001b[0m\u001b[0m\n\u001b[0;32m--> 751\u001b[0;31m             \u001b[0;32mraise\u001b[0m \u001b[0mValueError\u001b[0m\u001b[0;34m(\u001b[0m\u001b[0mErrors\u001b[0m\u001b[0;34m.\u001b[0m\u001b[0mE007\u001b[0m\u001b[0;34m.\u001b[0m\u001b[0mformat\u001b[0m\u001b[0;34m(\u001b[0m\u001b[0mname\u001b[0m\u001b[0;34m=\u001b[0m\u001b[0mname\u001b[0m\u001b[0;34m,\u001b[0m \u001b[0mopts\u001b[0m\u001b[0;34m=\u001b[0m\u001b[0mself\u001b[0m\u001b[0;34m.\u001b[0m\u001b[0mcomponent_names\u001b[0m\u001b[0;34m)\u001b[0m\u001b[0;34m)\u001b[0m\u001b[0;34m\u001b[0m\u001b[0;34m\u001b[0m\u001b[0m\n\u001b[0m\u001b[1;32m    752\u001b[0m         \u001b[0;32mif\u001b[0m \u001b[0msource\u001b[0m \u001b[0;32mis\u001b[0m \u001b[0;32mnot\u001b[0m \u001b[0;32mNone\u001b[0m\u001b[0;34m:\u001b[0m\u001b[0;34m\u001b[0m\u001b[0;34m\u001b[0m\u001b[0m\n\u001b[1;32m    753\u001b[0m             \u001b[0;31m# We're loading the component from a model. After loading the\u001b[0m\u001b[0;34m\u001b[0m\u001b[0;34m\u001b[0m\u001b[0;34m\u001b[0m\u001b[0m\n",
      "\u001b[0;31mValueError\u001b[0m: [E007] 'entity_ruler' already exists in pipeline. Existing names: ['tok2vec', 'morphologizer', 'parser', 'senter', 'ner', 'attribute_ruler', 'lemmatizer', 'entity_ruler']"
     ]
    }
   ],
   "source": [
    "ruler = nlp.add_pipe(\"entity_ruler\")\n",
    "patterns = [{\"label\": \"PER\", \"pattern\": \"M. Myriel\"}]\n",
    "ruler.add_patterns(patterns)"
   ]
  },
  {
   "cell_type": "code",
   "execution_count": null,
   "id": "searching-humidity",
   "metadata": {},
   "outputs": [],
   "source": [
    "matcher = Matcher(nlp.vocab)\n",
    "# Add match ID \"HelloWorld\" with no callback and one pattern\n",
    "pattern = [{\"LOWER\": \"hello\"}, {\"IS_PUNCT\": True}, {\"LOWER\": \"world\"}]\n",
    "matcher.add(\"HelloWorld\", [pattern])"
   ]
  },
  {
   "cell_type": "code",
   "execution_count": 41,
   "id": "guilty-right",
   "metadata": {},
   "outputs": [
    {
     "name": "stdout",
     "output_type": "stream",
     "text": [
      "Charles                   PER        Named person or family.                 \n",
      "François                  PER        Named person or family.                 \n",
      "Bienvenu Myriel           PER        Named person or family.                 \n",
      "Digne                     LOC        Non-GPE locations, mountain ranges, bodies of water\n",
      "Digne                     LOC        Non-GPE locations, mountain ranges, bodies of water\n",
      "Vrai                      LOC        Non-GPE locations, mountain ranges, bodies of water\n",
      "Myriel                    LOC        Non-GPE locations, mountain ranges, bodies of water\n",
      "parlement d'Aix           MISC       Miscellaneous entities, e.g. events, nationalities, products or works of art\n",
      "Charles Myriel            PER        Named person or family.                 \n",
      "Charles Myriel            PER        Named person or family.                 \n",
      "Italie                    LOC        Non-GPE locations, mountain ranges, bodies of water\n",
      "Myriel                    LOC        Non-GPE locations, mountain ranges, bodies of water\n",
      "Fut                       PER        Named person or family.                 \n",
      "d'Italie                  LOC        Non-GPE locations, mountain ranges, bodies of water\n",
      "Myriel                    LOC        Non-GPE locations, mountain ranges, bodies of water\n",
      "Brignolles                LOC        Non-GPE locations, mountain ranges, bodies of water\n",
      "Paris                     LOC        Non-GPE locations, mountain ranges, bodies of water\n",
      "M.                        PER        Named person or family.                 \n",
      "Napoléon                  PER        Named person or family.                 \n",
      "Myriel                    LOC        Non-GPE locations, mountain ranges, bodies of water\n",
      "M.                        PER        Named person or family.                 \n",
      "Myriel                    LOC        Non-GPE locations, mountain ranges, bodies of water\n",
      "Digne                     LOC        Non-GPE locations, mountain ranges, bodies of water\n",
      "Qu'                       MISC       Miscellaneous entities, e.g. events, nationalities, products or works of art\n",
      "Myriel                    LOC        Non-GPE locations, mountain ranges, bodies of water\n",
      "Myriel                    LOC        Non-GPE locations, mountain ranges, bodies of water\n",
      "Myriel                    LOC        Non-GPE locations, mountain ranges, bodies of water\n",
      "Digne                     LOC        Non-GPE locations, mountain ranges, bodies of water\n",
      "Myriel                    LOC        Non-GPE locations, mountain ranges, bodies of water\n",
      "Digne                     LOC        Non-GPE locations, mountain ranges, bodies of water\n",
      "Baptistine                LOC        Non-GPE locations, mountain ranges, bodies of water\n",
      "mademoiselle Baptistine   LOC        Non-GPE locations, mountain ranges, bodies of water\n",
      "Magloire                  PER        Named person or family.                 \n",
      "M. le Curé                PER        Named person or family.                 \n",
      "Mademoiselle Baptistine   LOC        Non-GPE locations, mountain ranges, bodies of water\n",
      "Madame Magloire           PER        Named person or family.                 \n",
      "Myriel                    LOC        Non-GPE locations, mountain ranges, bodies of water\n"
     ]
    }
   ],
   "source": [
    "\n",
    "\n",
    "doc = nlp(chapter_1)\n",
    "for e in doc.ents:\n",
    "    print(f'{e.text:{25}} {e.label_:{10}} {spacy.explain(e.label_):{40}}')"
   ]
  }
 ],
 "metadata": {
  "kernelspec": {
   "display_name": "Python 3",
   "language": "python",
   "name": "python3"
  },
  "language_info": {
   "codemirror_mode": {
    "name": "ipython",
    "version": 3
   },
   "file_extension": ".py",
   "mimetype": "text/x-python",
   "name": "python",
   "nbconvert_exporter": "python",
   "pygments_lexer": "ipython3",
   "version": "3.8.5"
  }
 },
 "nbformat": 4,
 "nbformat_minor": 5
}
